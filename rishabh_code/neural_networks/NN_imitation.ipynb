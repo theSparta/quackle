{
 "cells": [
  {
   "cell_type": "code",
   "execution_count": 1,
   "metadata": {},
   "outputs": [
    {
     "name": "stderr",
     "output_type": "stream",
     "text": [
      "Using TensorFlow backend.\n"
     ]
    }
   ],
   "source": [
    "from __future__ import division\n",
    "from keras.models import Sequential, Model\n",
    "from keras.layers import Dense, Dropout, Activation, Flatten, BatchNormalization, Input, Lambda, Reshape\n",
    "from keras import backend as K\n",
    "from keras.optimizers import SGD, Nadam\n",
    "from keras import layers\n",
    "\n",
    "import numpy as np\n",
    "import matplotlib.pyplot as plt\n",
    "import tensorflow as tf\n",
    "%matplotlib inline\n",
    "\n",
    "import os"
   ]
  },
  {
   "cell_type": "code",
   "execution_count": 2,
   "metadata": {},
   "outputs": [],
   "source": [
    "DATA_DIR = os.path.abspath('./')\n",
    "CHECKPOINTED_WEIGHTS = os.path.join(DATA_DIR, 'checkpointed_weights.hdf5')\n",
    "INIT_WEIGHTS = os.path.join(DATA_DIR, 'init_weights_base.hdf5')\n",
    "EXPERIENCE_BUFFER_FILE = os.path.join(DATA_DIR, 'experience_buffer.p')"
   ]
  },
  {
   "cell_type": "code",
   "execution_count": 179,
   "metadata": {},
   "outputs": [],
   "source": [
    "from keras.layers.advanced_activations import LeakyReLU\n",
    "from keras.regularizers import l2, l1\n",
    "from keras.initializers import VarianceScaling\n",
    "\n",
    "kernel_initializer = VarianceScaling(scale=0.001, mode='fan_avg', distribution='uniform', seed=42)\n",
    "\n",
    "def dense_relu_bn_dropout(x, size, dropout, activation='tanh', reg = 0):\n",
    "    x = Dense(size, kernel_regularizer = l2(reg), kernel_initializer=kernel_initializer)(x)\n",
    "    x = Activation(activation)(x)\n",
    "    x = Dropout(dropout)(x)\n",
    "    return x\n",
    "\n",
    "def create_network(reg, dropout, activation = 'relu'):\n",
    "    inputs = Input(shape=(INPUT_SHAPE,), name=\"x\")\n",
    "    x = dense_relu_bn_dropout(inputs, size=8 , activation=activation,\n",
    "                              dropout=dropout, reg=reg)\n",
    "    x = Dense(1, kernel_initializer=kernel_initializer)(x)\n",
    "    base_network = Model(inputs=inputs, outputs = x)\n",
    "    print(base_network.summary())\n",
    "    return base_network"
   ]
  },
  {
   "cell_type": "code",
   "execution_count": 198,
   "metadata": {},
   "outputs": [
    {
     "name": "stdout",
     "output_type": "stream",
     "text": [
      "_________________________________________________________________\n",
      "Layer (type)                 Output Shape              Param #   \n",
      "=================================================================\n",
      "x (InputLayer)               (None, 8)                 0         \n",
      "_________________________________________________________________\n",
      "dense_29 (Dense)             (None, 8)                 72        \n",
      "_________________________________________________________________\n",
      "activation_23 (Activation)   (None, 8)                 0         \n",
      "_________________________________________________________________\n",
      "dropout_13 (Dropout)         (None, 8)                 0         \n",
      "_________________________________________________________________\n",
      "dense_30 (Dense)             (None, 1)                 9         \n",
      "=================================================================\n",
      "Total params: 81\n",
      "Trainable params: 81\n",
      "Non-trainable params: 0\n",
      "_________________________________________________________________\n",
      "None\n"
     ]
    }
   ],
   "source": [
    "INPUT_SHAPE = 8\n",
    "base_network = create_network(activation='selu', reg = 0, dropout = 0.5)"
   ]
  },
  {
   "cell_type": "code",
   "execution_count": 199,
   "metadata": {},
   "outputs": [],
   "source": [
    "BASE_WEIGHTS = base_network.get_weights()\n",
    "for i in xrange(len(BASE_WEIGHTS)):\n",
    "    if i == 0:\n",
    "        BASE_WEIGHTS[i][:2, 0] = 1\n",
    "    elif i == 2:\n",
    "        BASE_WEIGHTS[i][0,0] = 1"
   ]
  },
  {
   "cell_type": "code",
   "execution_count": 200,
   "metadata": {},
   "outputs": [
    {
     "data": {
      "text/plain": [
       "[array([[  1.00000000e+00,   6.87097199e-03,   1.14376266e-02,\n",
       "           9.90638509e-03,  -9.31235030e-04,   5.07418253e-03,\n",
       "          -1.21603794e-02,  -1.49377976e-02],\n",
       "        [  1.00000000e+00,   8.64972919e-03,  -1.08753508e-02,\n",
       "           1.38396267e-02,   1.25453826e-02,   3.69531848e-03,\n",
       "          -1.92501731e-02,  -9.78878234e-03],\n",
       "        [  2.35248357e-04,  -5.36064617e-03,  -1.76283326e-02,\n",
       "           1.82869155e-02,   1.27184298e-02,  -3.30814533e-03,\n",
       "           3.93750705e-03,  -6.21277466e-03],\n",
       "        [  2.83125602e-03,  -1.02147805e-02,   6.76937588e-03,\n",
       "          -1.90814082e-02,  -1.85549743e-02,   1.78885218e-02,\n",
       "           5.20928390e-03,  -1.06005678e-02],\n",
       "        [  5.86896390e-03,   1.42149385e-02,  -9.50662699e-03,\n",
       "          -8.80788267e-03,  -1.36415288e-03,  -8.05000495e-03,\n",
       "          -1.12284468e-02,  -2.86217965e-03],\n",
       "        [  1.67792682e-02,  -3.19867395e-03,   8.32178630e-03,\n",
       "           2.56576203e-03,  -7.71657284e-03,   1.35459248e-02,\n",
       "          -1.81600638e-03,  -1.91971418e-02],\n",
       "        [ -1.58476513e-02,  -8.32168479e-03,   9.55596752e-03,\n",
       "           1.44553799e-02,  -3.28954495e-03,   1.65057052e-02,\n",
       "           2.64847092e-03,  -3.64232622e-03],\n",
       "        [  1.22314077e-02,   1.65733527e-02,  -9.81407892e-03,\n",
       "          -1.19479932e-03,  -2.56678835e-03,   1.33307260e-02,\n",
       "           8.80287774e-03,   4.08476405e-03]], dtype=float32),\n",
       " array([ 0.,  0.,  0.,  0.,  0.,  0.,  0.,  0.], dtype=float32),\n",
       " array([[ 1.        ],\n",
       "        [ 0.0091613 ],\n",
       "        [ 0.01525017],\n",
       "        [ 0.01320851],\n",
       "        [-0.00124165],\n",
       "        [ 0.00676558],\n",
       "        [-0.01621384],\n",
       "        [-0.01991706]], dtype=float32),\n",
       " array([ 0.], dtype=float32)]"
      ]
     },
     "execution_count": 200,
     "metadata": {},
     "output_type": "execute_result"
    }
   ],
   "source": [
    "base_network.set_weights(BASE_WEIGHTS)\n",
    "base_network.get_weights()"
   ]
  },
  {
   "cell_type": "code",
   "execution_count": 201,
   "metadata": {},
   "outputs": [
    {
     "name": "stdout",
     "output_type": "stream",
     "text": [
      "____________________________________________________________________________________________________\n",
      "Layer (type)                     Output Shape          Param #     Connected to                     \n",
      "====================================================================================================\n",
      "input_15 (InputLayer)            (None, 8)             0                                            \n",
      "____________________________________________________________________________________________________\n",
      "input_16 (InputLayer)            (None, 8)             0                                            \n",
      "____________________________________________________________________________________________________\n",
      "model_21 (Model)                 (None, 1)             81          input_15[0][0]                   \n",
      "                                                                   input_16[0][0]                   \n",
      "____________________________________________________________________________________________________\n",
      "subtract_8 (Subtract)            (None, 1)             0           model_21[1][0]                   \n",
      "                                                                   model_21[2][0]                   \n",
      "____________________________________________________________________________________________________\n",
      "activation_24 (Activation)       (None, 1)             0           subtract_8[0][0]                 \n",
      "====================================================================================================\n",
      "Total params: 81\n",
      "Trainable params: 81\n",
      "Non-trainable params: 0\n",
      "____________________________________________________________________________________________________\n",
      "None\n"
     ]
    }
   ],
   "source": [
    "from keras import layers\n",
    "from keras.layers import Dense, Dropout, Activation, Flatten, BatchNormalization, merge, Input, Lambda, Reshape\n",
    "\n",
    "input_a = Input(shape=(INPUT_SHAPE,))\n",
    "processed_a = base_network(input_a)\n",
    "input_b = Input(shape=(INPUT_SHAPE,))\n",
    "processed_b = base_network(input_b)\n",
    "distance = layers.Subtract()([processed_a, processed_b])\n",
    "out = Activation('sigmoid')(distance)\n",
    "siamese_net = Model([input_a, input_b], out)\n",
    "siamese_net.save_weights(INIT_WEIGHTS)\n",
    "print(siamese_net.summary())"
   ]
  },
  {
   "cell_type": "code",
   "execution_count": 202,
   "metadata": {},
   "outputs": [],
   "source": [
    "import cPickle as pickle\n",
    "MOVES = pickle.load(open(\"../moves_dict.p\", \"rb\"))"
   ]
  },
  {
   "cell_type": "code",
   "execution_count": 215,
   "metadata": {},
   "outputs": [],
   "source": [
    "from keras.callbacks import ReduceLROnPlateau, ModelCheckpoint, EarlyStopping\n",
    "reduce_lr = ReduceLROnPlateau(monitor='val_acc', factor=0.5,\n",
    "              patience=4, verbose = 1, min_lr=1e-8)\n",
    "early_stopping = EarlyStopping(monitor='val_acc',\n",
    "                              min_delta=1e-3,\n",
    "                              patience=15,\n",
    "                              verbose=0, mode='auto')\n",
    "checkpointer = ModelCheckpoint(filepath=CHECKPOINTED_WEIGHTS, verbose=1, save_best_only=True, monitor='val_acc')"
   ]
  },
  {
   "cell_type": "code",
   "execution_count": 212,
   "metadata": {},
   "outputs": [
    {
     "name": "stdout",
     "output_type": "stream",
     "text": [
      "Experience buffer generated\n",
      "Experience buffer saved to experience_buffer/experience_buffer_len4.p\n",
      "Train: 1464961 Val: 61041\n"
     ]
    }
   ],
   "source": [
    "import utils; reload(utils)\n",
    "from utils import DataGenerator\n",
    "\n",
    "BATCH_SIZE = 1024\n",
    "maxlen = 4\n",
    "EXPERIENCE_BUFFER_FILE = \"experience_buffer/experience_buffer_len{}.p\".format(maxlen) \n",
    "load_from_file = False #os.path.exists(EXPERIENCE_BUFFER_FILE)\n",
    "save_to_file = not load_from_file\n",
    "datagen = DataGenerator(MOVES, batch_sz = BATCH_SIZE, load_from_file = load_from_file, \n",
    "                 save_to_file = save_to_file, maxlen = maxlen, file = EXPERIENCE_BUFFER_FILE)"
   ]
  },
  {
   "cell_type": "code",
   "execution_count": 216,
   "metadata": {},
   "outputs": [],
   "source": [
    "nadam = Nadam(lr=1e-3)\n",
    "siamese_net.compile(optimizer=nadam, loss='binary_crossentropy', metrics=['accuracy'])\n",
    "siamese_net.load_weights(INIT_WEIGHTS)"
   ]
  },
  {
   "cell_type": "code",
   "execution_count": 217,
   "metadata": {},
   "outputs": [],
   "source": [
    "NUM_TRAIN_PAIRS, NUM_VAL_PAIRS = datagen.get_num_pairs()\n",
    "STEPS_PER_EPOCH = NUM_TRAIN_PAIRS//BATCH_SIZE\n",
    "VALIDATION_STEPS = NUM_VAL_PAIRS//BATCH_SIZE"
   ]
  },
  {
   "cell_type": "code",
   "execution_count": 218,
   "metadata": {
    "scrolled": false
   },
   "outputs": [
    {
     "name": "stdout",
     "output_type": "stream",
     "text": [
      "Epoch 1/250\n",
      "1425/1430 [============================>.] - ETA: 0s - loss: 1.2797 - acc: 0.6549Epoch 00000: val_acc improved from -inf to 0.75819, saving model to /home/ubuntu/quackle/rishabh_code/neural_networks/checkpointed_weights.hdf5\n",
      "1430/1430 [==============================] - 18s - loss: 1.2773 - acc: 0.6551 - val_loss: 0.5409 - val_acc: 0.7582\n",
      "Epoch 2/250\n",
      "1429/1430 [============================>.] - ETA: 0s - loss: 0.5843 - acc: 0.7158Epoch 00001: val_acc improved from 0.75819 to 0.77028, saving model to /home/ubuntu/quackle/rishabh_code/neural_networks/checkpointed_weights.hdf5\n",
      "1430/1430 [==============================] - 25s - loss: 0.5844 - acc: 0.7158 - val_loss: 0.5315 - val_acc: 0.7703\n",
      "Epoch 3/250\n",
      "1429/1430 [============================>.] - ETA: 0s - loss: 0.5836 - acc: 0.7157Epoch 00002: val_acc improved from 0.77028 to 0.77101, saving model to /home/ubuntu/quackle/rishabh_code/neural_networks/checkpointed_weights.hdf5\n",
      "1430/1430 [==============================] - 24s - loss: 0.5836 - acc: 0.7157 - val_loss: 0.5314 - val_acc: 0.7710\n",
      "Epoch 4/250\n",
      "1426/1430 [============================>.] - ETA: 0s - loss: 0.5824 - acc: 0.7156Epoch 00003: val_acc did not improve\n",
      "1430/1430 [==============================] - 27s - loss: 0.5825 - acc: 0.7156 - val_loss: 0.5277 - val_acc: 0.7702\n",
      "Epoch 5/250\n",
      "1429/1430 [============================>.] - ETA: 0s - loss: 0.5824 - acc: 0.7155Epoch 00004: val_acc did not improve\n",
      "1430/1430 [==============================] - 24s - loss: 0.5824 - acc: 0.7155 - val_loss: 0.5292 - val_acc: 0.7694\n",
      "Epoch 6/250\n",
      "1428/1430 [============================>.] - ETA: 0s - loss: 0.5818 - acc: 0.7153Epoch 00005: val_acc improved from 0.77101 to 0.77158, saving model to /home/ubuntu/quackle/rishabh_code/neural_networks/checkpointed_weights.hdf5\n",
      "1430/1430 [==============================] - 26s - loss: 0.5818 - acc: 0.7153 - val_loss: 0.5284 - val_acc: 0.7716\n",
      "Epoch 7/250\n",
      "1429/1430 [============================>.] - ETA: 0s - loss: 0.5816 - acc: 0.7148Epoch 00006: val_acc did not improve\n",
      "1430/1430 [==============================] - 25s - loss: 0.5816 - acc: 0.7148 - val_loss: 0.5295 - val_acc: 0.7693\n",
      "Epoch 8/250\n",
      "1427/1430 [============================>.] - ETA: 0s - loss: 0.5805 - acc: 0.7154Epoch 00007: val_acc did not improve\n",
      "1430/1430 [==============================] - 26s - loss: 0.5805 - acc: 0.7154 - val_loss: 0.5262 - val_acc: 0.7704\n",
      "Epoch 9/250\n",
      "1429/1430 [============================>.] - ETA: 0s - loss: 0.5789 - acc: 0.7165Epoch 00008: val_acc did not improve\n",
      "1430/1430 [==============================] - 24s - loss: 0.5789 - acc: 0.7165 - val_loss: 0.5271 - val_acc: 0.7688\n",
      "Epoch 10/250\n",
      "1427/1430 [============================>.] - ETA: 0s - loss: 0.5769 - acc: 0.7177- ETA: 0s - loss: 0.5Epoch 00009: val_acc did not improve\n",
      "1430/1430 [==============================] - 22s - loss: 0.5769 - acc: 0.7177 - val_loss: 0.5224 - val_acc: 0.7706\n",
      "Epoch 11/250\n",
      "1429/1430 [============================>.] - ETA: 0s - loss: 0.5764 - acc: 0.7183\n",
      "Epoch 00010: reducing learning rate to 0.000500000023749.\n",
      "Epoch 00010: val_acc improved from 0.77158 to 0.77161, saving model to /home/ubuntu/quackle/rishabh_code/neural_networks/checkpointed_weights.hdf5\n",
      "1430/1430 [==============================] - 24s - loss: 0.5764 - acc: 0.7183 - val_loss: 0.5214 - val_acc: 0.7716\n",
      "Epoch 12/250\n",
      "1427/1430 [============================>.] - ETA: 0s - loss: 0.5759 - acc: 0.7189- ETA: 0s - loss: 0.5759 - acc: 0.71Epoch 00011: val_acc did not improve\n",
      "1430/1430 [==============================] - 27s - loss: 0.5759 - acc: 0.7188 - val_loss: 0.5228 - val_acc: 0.7713\n",
      "Epoch 13/250\n",
      "1426/1430 [============================>.] - ETA: 0s - loss: 0.5759 - acc: 0.7186-Epoch 00012: val_acc did not improve\n",
      "1430/1430 [==============================] - 24s - loss: 0.5759 - acc: 0.7186 - val_loss: 0.5216 - val_acc: 0.7713\n",
      "Epoch 14/250\n",
      "1428/1430 [============================>.] - ETA: 0s - loss: 0.5754 - acc: 0.7195Epoch 00013: val_acc did not improve\n",
      "1430/1430 [==============================] - 19s - loss: 0.5754 - acc: 0.7195 - val_loss: 0.5220 - val_acc: 0.7712\n",
      "Epoch 15/250\n",
      "1427/1430 [============================>.] - ETA: 0s - loss: 0.5754 - acc: 0.7189- ETA: 8s -\n",
      "Epoch 00014: reducing learning rate to 0.000250000011874.\n",
      "Epoch 00014: val_acc did not improve\n",
      "1430/1430 [==============================] - 24s - loss: 0.5754 - acc: 0.7189 - val_loss: 0.5231 - val_acc: 0.7712\n",
      "Epoch 16/250\n",
      "1424/1430 [============================>.] - ETA: 0s - loss: 0.5749 - acc: 0.719 - ETA: 0s - loss: 0.5749 - acc: 0.7197Epoch 00015: val_acc did not improve\n",
      "1430/1430 [==============================] - 21s - loss: 0.5749 - acc: 0.7198 - val_loss: 0.5205 - val_acc: 0.7716\n",
      "Epoch 17/250\n",
      "1427/1430 [============================>.] - ETA: 0s - loss: 0.5752 - acc: 0.7195Epoch 00016: val_acc did not improve\n",
      "1430/1430 [==============================] - 17s - loss: 0.5752 - acc: 0.7195 - val_loss: 0.5213 - val_acc: 0.7712\n",
      "Epoch 18/250\n",
      "1425/1430 [============================>.] - ETA: 0s - loss: 0.5751 - acc: 0.7197Epoch 00017: val_acc improved from 0.77161 to 0.77168, saving model to /home/ubuntu/quackle/rishabh_code/neural_networks/checkpointed_weights.hdf5\n",
      "1430/1430 [==============================] - 14s - loss: 0.5751 - acc: 0.7197 - val_loss: 0.5218 - val_acc: 0.7717\n",
      "Epoch 19/250\n",
      "1427/1430 [============================>.] - ETA: 0s - loss: 0.5751 - acc: 0.7198Epoch 00018: val_acc improved from 0.77168 to 0.77211, saving model to /home/ubuntu/quackle/rishabh_code/neural_networks/checkpointed_weights.hdf5\n",
      "1430/1430 [==============================] - 13s - loss: 0.5750 - acc: 0.7198 - val_loss: 0.5211 - val_acc: 0.7721\n",
      "Epoch 20/250\n",
      "1424/1430 [============================>.] - ETA: 0s - loss: 0.5748 - acc: 0.7203Epoch 00019: val_acc did not improve\n",
      "1430/1430 [==============================] - 12s - loss: 0.5748 - acc: 0.7203 - val_loss: 0.5213 - val_acc: 0.7714\n",
      "Epoch 21/250\n",
      "1424/1430 [============================>.] - ETA: 0s - loss: 0.5749 - acc: 0.7197Epoch 00020: val_acc did not improve\n",
      "1430/1430 [==============================] - 12s - loss: 0.5750 - acc: 0.7196 - val_loss: 0.5216 - val_acc: 0.7709\n",
      "Epoch 22/250\n",
      "1428/1430 [============================>.] - ETA: 0s - loss: 0.5751 - acc: 0.7197Epoch 00021: val_acc did not improve\n",
      "1430/1430 [==============================] - 12s - loss: 0.5752 - acc: 0.7197 - val_loss: 0.5217 - val_acc: 0.7701\n",
      "Epoch 23/250\n",
      "1423/1430 [============================>.] - ETA: 0s - loss: 0.5750 - acc: 0.7199Epoch 00022: val_acc improved from 0.77211 to 0.77226, saving model to /home/ubuntu/quackle/rishabh_code/neural_networks/checkpointed_weights.hdf5\n",
      "1430/1430 [==============================] - 12s - loss: 0.5750 - acc: 0.7198 - val_loss: 0.5208 - val_acc: 0.7723\n",
      "Epoch 24/250\n",
      "1424/1430 [============================>.] - ETA: 0s - loss: 0.5753 - acc: 0.7198Epoch 00023: val_acc did not improve\n",
      "1430/1430 [==============================] - 12s - loss: 0.5754 - acc: 0.7197 - val_loss: 0.5217 - val_acc: 0.7715\n",
      "Epoch 25/250\n",
      "1427/1430 [============================>.] - ETA: 0s - loss: 0.5748 - acc: 0.7196Epoch 00024: val_acc did not improve\n",
      "1430/1430 [==============================] - 12s - loss: 0.5748 - acc: 0.7196 - val_loss: 0.5214 - val_acc: 0.7716\n",
      "Epoch 26/250\n",
      "1424/1430 [============================>.] - ETA: 0s - loss: 0.5751 - acc: 0.7197Epoch 00025: val_acc did not improve\n",
      "1430/1430 [==============================] - 12s - loss: 0.5751 - acc: 0.7196 - val_loss: 0.5218 - val_acc: 0.7705\n",
      "Epoch 27/250\n",
      "1426/1430 [============================>.] - ETA: 0s - loss: 0.5751 - acc: 0.7196Epoch 00026: val_acc did not improve\n",
      "1430/1430 [==============================] - 12s - loss: 0.5751 - acc: 0.7196 - val_loss: 0.5211 - val_acc: 0.7714\n",
      "Epoch 28/250\n",
      "1423/1430 [============================>.] - ETA: 0s - loss: 0.5747 - acc: 0.7199\n",
      "Epoch 00027: reducing learning rate to 0.000125000005937.\n",
      "Epoch 00027: val_acc did not improve\n",
      "1430/1430 [==============================] - 12s - loss: 0.5747 - acc: 0.7199 - val_loss: 0.5215 - val_acc: 0.7705\n",
      "Epoch 29/250\n",
      "1425/1430 [============================>.] - ETA: 0s - loss: 0.5749 - acc: 0.7202Epoch 00028: val_acc did not improve\n"
     ]
    },
    {
     "name": "stdout",
     "output_type": "stream",
     "text": [
      "1430/1430 [==============================] - 12s - loss: 0.5749 - acc: 0.7202 - val_loss: 0.5224 - val_acc: 0.7702\n",
      "Epoch 30/250\n",
      "1428/1430 [============================>.] - ETA: 0s - loss: 0.5745 - acc: 0.7211Epoch 00029: val_acc did not improve\n",
      "1430/1430 [==============================] - 12s - loss: 0.5745 - acc: 0.7211 - val_loss: 0.5214 - val_acc: 0.7710\n",
      "Epoch 31/250\n",
      "1429/1430 [============================>.] - ETA: 0s - loss: 0.5747 - acc: 0.7205Epoch 00030: val_acc did not improve\n",
      "1430/1430 [==============================] - 12s - loss: 0.5746 - acc: 0.7206 - val_loss: 0.5207 - val_acc: 0.7704\n",
      "Epoch 32/250\n",
      "1423/1430 [============================>.] - ETA: 0s - loss: 0.5747 - acc: 0.7201\n",
      "Epoch 00031: reducing learning rate to 6.25000029686e-05.\n",
      "Epoch 00031: val_acc did not improve\n",
      "1430/1430 [==============================] - 12s - loss: 0.5747 - acc: 0.7201 - val_loss: 0.5215 - val_acc: 0.7701\n",
      "Epoch 33/250\n",
      "1428/1430 [============================>.] - ETA: 0s - loss: 0.5748 - acc: 0.7204Epoch 00032: val_acc did not improve\n",
      "1430/1430 [==============================] - 12s - loss: 0.5748 - acc: 0.7204 - val_loss: 0.5212 - val_acc: 0.7705\n",
      "Epoch 34/250\n",
      "1428/1430 [============================>.] - ETA: 0s - loss: 0.5743 - acc: 0.7205Epoch 00033: val_acc did not improve\n",
      "1430/1430 [==============================] - 12s - loss: 0.5743 - acc: 0.7205 - val_loss: 0.5208 - val_acc: 0.7709\n",
      "Epoch 35/250\n",
      "1429/1430 [============================>.] - ETA: 0s - loss: 0.5746 - acc: 0.7204Epoch 00034: val_acc did not improve\n",
      "1430/1430 [==============================] - 12s - loss: 0.5746 - acc: 0.7204 - val_loss: 0.5213 - val_acc: 0.7707\n"
     ]
    }
   ],
   "source": [
    "# siamese_net.load_weights(CHECKPOINTED_WEIGHTS)\n",
    "history = siamese_net.fit_generator(\n",
    "        datagen.next_train(),\n",
    "        steps_per_epoch=STEPS_PER_EPOCH,\n",
    "        epochs=250,\n",
    "        validation_data=datagen.next_val(),\n",
    "        validation_steps=VALIDATION_STEPS,\n",
    "        callbacks = [reduce_lr, checkpointer, early_stopping])"
   ]
  },
  {
   "cell_type": "code",
   "execution_count": 219,
   "metadata": {},
   "outputs": [
    {
     "data": {
      "image/png": "[encoded data removed]",
      "text/plain": [
       "<matplotlib.figure.Figure at 0x7f19343edfd0>"
      ]
     },
     "metadata": {},
     "output_type": "display_data"
    }
   ],
   "source": [
    "f, (ax1, ax2) = plt.subplots(1, 2, sharey=True)\n",
    "f.set_figheight(8)\n",
    "f.set_figwidth(14)\n",
    "\n",
    "ax1.plot(history.history['loss'])\n",
    "ax1.plot(history.history['val_loss'])\n",
    "ax1.set_title('model loss')\n",
    "ax1.set_ylabel('loss')\n",
    "ax1.set_xlabel('epoch')\n",
    "ax1.legend(['train_loss', 'val_loss'], loc='upper left')\n",
    "\n",
    "ax2.plot(history.history['acc'])\n",
    "ax2.plot(history.history['val_acc'])\n",
    "ax2.set_title('model acc')\n",
    "ax2.set_ylabel('acc')\n",
    "ax2.set_xlabel('epoch')\n",
    "ax2.legend(['train_acc', 'val_acc'], loc='lower left')\n",
    "\n",
    "plt.show()"
   ]
  },
  {
   "cell_type": "code",
   "execution_count": 220,
   "metadata": {},
   "outputs": [
    {
     "name": "stdout",
     "output_type": "stream",
     "text": [
      "Base weights:\n",
      "Loss: 0.866059393765 Acc: 0.777433728352\n",
      "Checkpointed weights:\n",
      "Loss: 0.521243631092 Acc: 0.770315935715\n"
     ]
    }
   ],
   "source": [
    "for i in range(2):\n",
    "    if i == 0:\n",
    "        print(\"Base weights:\")\n",
    "        siamese_net.set_weights(BASE_WEIGHTS)\n",
    "    else:\n",
    "        print(\"Checkpointed weights:\")\n",
    "        siamese_net.load_weights(CHECKPOINTED_WEIGHTS)\n",
    "    val = siamese_net.evaluate_generator(\n",
    "            datagen.next_train(),\n",
    "            steps=STEPS_PER_EPOCH)\n",
    "    print(\"Loss: {} Acc: {}\".format(val[0], val[1]))"
   ]
  },
  {
   "cell_type": "code",
   "execution_count": 221,
   "metadata": {},
   "outputs": [
    {
     "name": "stdout",
     "output_type": "stream",
     "text": [
      "_________________________________________________________________\n",
      "Layer (type)                 Output Shape              Param #   \n",
      "=================================================================\n",
      "x (InputLayer)               (None, 8)                 0         \n",
      "_________________________________________________________________\n",
      "dense_29 (Dense)             (None, 8)                 72        \n",
      "_________________________________________________________________\n",
      "activation_23 (Activation)   (None, 8)                 0         \n",
      "_________________________________________________________________\n",
      "dropout_13 (Dropout)         (None, 8)                 0         \n",
      "_________________________________________________________________\n",
      "dense_30 (Dense)             (None, 1)                 9         \n",
      "=================================================================\n",
      "Total params: 81\n",
      "Trainable params: 81\n",
      "Non-trainable params: 0\n",
      "_________________________________________________________________\n"
     ]
    }
   ],
   "source": [
    "# siamese_net.set_weights(BASE_WEIGHTS)\n",
    "siamese_net.load_weights(CHECKPOINTED_WEIGHTS)\n",
    "SAVE_MODEL = \"keras_tensorflow\"\n",
    "model_to_save = siamese_net.layers[2]\n",
    "model_to_save.summary()\n",
    "model_to_save.save(SAVE_MODEL, overwrite='True')"
   ]
  },
  {
   "cell_type": "code",
   "execution_count": 222,
   "metadata": {},
   "outputs": [
    {
     "data": {
      "text/plain": [
       "[array([[  9.31617543e-02,   6.28616884e-02,   6.34780750e-02,\n",
       "           6.31450415e-02,  -7.23109469e-02,   6.20519184e-02,\n",
       "          -7.01870769e-02,  -7.26490691e-02],\n",
       "        [  1.00306980e-01,   2.71187127e-02,   2.63463594e-02,\n",
       "           2.60378812e-02,  -9.34500918e-02,   2.53457744e-02,\n",
       "          -9.40271765e-02,  -9.67363417e-02],\n",
       "        [  1.05681620e-03,   6.32985553e-04,   9.75474075e-04,\n",
       "           9.69368266e-04,   7.25866761e-04,   9.12884832e-04,\n",
       "           9.65720508e-04,   1.36871787e-03],\n",
       "        [ -2.28267466e-03,   3.03111970e-02,   3.38098556e-02,\n",
       "           3.12345773e-02,   3.72106805e-02,   2.91743632e-02,\n",
       "           4.13598046e-02,   4.13997732e-02],\n",
       "        [  8.82115774e-03,   4.54497635e-02,   5.27618490e-02,\n",
       "           5.05710617e-02,   5.59164844e-02,   4.85748723e-02,\n",
       "           4.80583198e-02,   4.81603220e-02],\n",
       "        [ -5.40936030e-02,   2.33633500e-02,   2.44849846e-02,\n",
       "           1.94505006e-02,   4.33787555e-02,   2.68147942e-02,\n",
       "           4.31087092e-02,   4.26213369e-02],\n",
       "        [ -6.53685182e-02,   3.83141674e-02,   2.75471173e-02,\n",
       "           2.43220814e-02,   1.17212012e-01,   2.73973122e-02,\n",
       "           1.09673887e-01,   1.19514063e-01],\n",
       "        [ -1.83215153e+00,  -7.66078889e-01,  -7.52192378e-01,\n",
       "          -7.33604968e-01,   1.37556481e+00,  -7.34389603e-01,\n",
       "           1.35249841e+00,   1.41206014e+00]], dtype=float32),\n",
       " array([-2.98186946, -1.93869126, -1.96590018, -1.98271632,  1.92447758,\n",
       "        -1.94092822,  1.91390634,  1.9932785 ], dtype=float32),\n",
       " array([[ 0.11559259],\n",
       "        [ 0.16389301],\n",
       "        [ 0.16318709],\n",
       "        [ 0.16391227],\n",
       "        [-0.19592273],\n",
       "        [ 0.16305858],\n",
       "        [-0.19423985],\n",
       "        [-0.18344527]], dtype=float32),\n",
       " array([ 0.], dtype=float32)]"
      ]
     },
     "execution_count": 222,
     "metadata": {},
     "output_type": "execute_result"
    }
   ],
   "source": [
    "model_to_save.get_weights()"
   ]
  },
  {
   "cell_type": "code",
   "execution_count": 223,
   "metadata": {},
   "outputs": [
    {
     "name": "stdout",
     "output_type": "stream",
     "text": [
      "Success\n"
     ]
    }
   ],
   "source": [
    "status = os.system(\"python keras_to_tensorflow.py keras_tensorflow\")\n",
    "if status == 0:\n",
    "    print(\"Success\")"
   ]
  }
 ],
 "metadata": {
  "kernelspec": {
   "display_name": "Python 2",
   "language": "python",
   "name": "python2"
  },
  "language_info": {
   "codemirror_mode": {
    "name": "ipython",
    "version": 2
   },
   "file_extension": ".py",
   "mimetype": "text/x-python",
   "name": "python",
   "nbconvert_exporter": "python",
   "pygments_lexer": "ipython2",
   "version": "2.7.12"
  }
 },
 "nbformat": 4,
 "nbformat_minor": 2
}
