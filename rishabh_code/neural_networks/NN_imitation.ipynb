{
 "cells": [
  {
   "cell_type": "code",
   "execution_count": 1,
   "metadata": {},
   "outputs": [
    {
     "name": "stderr",
     "output_type": "stream",
     "text": [
      "Using TensorFlow backend.\n"
     ]
    }
   ],
   "source": [
    "from __future__ import division\n",
    "from keras.models import Sequential, Model\n",
    "from keras.layers import Dense, Dropout, Activation, Flatten, BatchNormalization, Input, Lambda, Reshape\n",
    "from keras import backend as K\n",
    "from keras.optimizers import SGD, Nadam\n",
    "from keras import layers\n",
    "\n",
    "import numpy as np\n",
    "import matplotlib.pyplot as plt\n",
    "import tensorflow as tf\n",
    "%matplotlib inline\n",
    "\n",
    "import os"
   ]
  },
  {
   "cell_type": "code",
   "execution_count": 2,
   "metadata": {},
   "outputs": [],
   "source": [
    "DATA_DIR = os.path.abspath('./')\n",
    "CHECKPOINTED_WEIGHTS = os.path.join(DATA_DIR, 'checkpointed_weights.hdf5')\n",
    "INIT_WEIGHTS = os.path.join(DATA_DIR, 'init_weights_base.hdf5')\n",
    "EXPERIENCE_BUFFER_FILE = os.path.join(DATA_DIR, 'experience_buffer.p')"
   ]
  },
  {
   "cell_type": "code",
   "execution_count": 121,
   "metadata": {},
   "outputs": [],
   "source": [
    "from keras.layers.advanced_activations import LeakyReLU\n",
    "from keras.regularizers import l2, l1\n",
    "from keras.initializers import VarianceScaling\n",
    "\n",
    "kernel_initializer = VarianceScaling(scale=0.001, mode='fan_avg', distribution='uniform', seed=42)\n",
    "\n",
    "def dense_relu_bn_dropout(x, size, dropout, activation='relu', alpha = 0.1, reg = 0):\n",
    "    x = Dense(size, kernel_regularizer = l2(reg), kernel_initializer=kernel_initializer)(x)\n",
    "    x = Activation(activation)(x)\n",
    "    x = Dropout(dropout)(x)\n",
    "    return x\n",
    "\n",
    "def create_network(reg, dropout, alpha = 0.1):\n",
    "    inputs = Input(shape=(INPUT_SHAPE,), name=\"x\")\n",
    "    x = dense_relu_bn_dropout(inputs, size=8 , dropout=dropout, reg=reg)\n",
    "    x = Dense(1, kernel_initializer=kernel_initializer)(x)\n",
    "    base_network = Model(inputs=inputs, outputs = x)\n",
    "    print(base_network.summary())\n",
    "    return base_network"
   ]
  },
  {
   "cell_type": "code",
   "execution_count": 122,
   "metadata": {},
   "outputs": [
    {
     "name": "stdout",
     "output_type": "stream",
     "text": [
      "_________________________________________________________________\n",
      "Layer (type)                 Output Shape              Param #   \n",
      "=================================================================\n",
      "x (InputLayer)               (None, 8)                 0         \n",
      "_________________________________________________________________\n",
      "dense_21 (Dense)             (None, 8)                 72        \n",
      "_________________________________________________________________\n",
      "activation_16 (Activation)   (None, 8)                 0         \n",
      "_________________________________________________________________\n",
      "dropout_9 (Dropout)          (None, 8)                 0         \n",
      "_________________________________________________________________\n",
      "dense_22 (Dense)             (None, 1)                 9         \n",
      "=================================================================\n",
      "Total params: 81\n",
      "Trainable params: 81\n",
      "Non-trainable params: 0\n",
      "_________________________________________________________________\n",
      "None\n"
     ]
    }
   ],
   "source": [
    "INPUT_SHAPE = 8\n",
    "base_network = create_network(reg = 0.5, dropout = 0.5)"
   ]
  },
  {
   "cell_type": "code",
   "execution_count": 123,
   "metadata": {},
   "outputs": [
    {
     "name": "stdout",
     "output_type": "stream",
     "text": [
      "0\n",
      "[[  1.00000000e+00   6.87097199e-03   1.14376266e-02   9.90638509e-03\n",
      "   -9.31235030e-04   5.07418253e-03  -1.21603794e-02  -1.49377976e-02]\n",
      " [  1.00000000e+00   8.64972919e-03  -1.08753508e-02   1.38396267e-02\n",
      "    1.25453826e-02   3.69531848e-03  -1.92501731e-02  -9.78878234e-03]\n",
      " [  2.35248357e-04  -5.36064617e-03  -1.76283326e-02   1.82869155e-02\n",
      "    1.27184298e-02  -3.30814533e-03   3.93750705e-03  -6.21277466e-03]\n",
      " [  2.83125602e-03  -1.02147805e-02   6.76937588e-03  -1.90814082e-02\n",
      "   -1.85549743e-02   1.78885218e-02   5.20928390e-03  -1.06005678e-02]\n",
      " [  5.86896390e-03   1.42149385e-02  -9.50662699e-03  -8.80788267e-03\n",
      "   -1.36415288e-03  -8.05000495e-03  -1.12284468e-02  -2.86217965e-03]\n",
      " [  1.67792682e-02  -3.19867395e-03   8.32178630e-03   2.56576203e-03\n",
      "   -7.71657284e-03   1.35459248e-02  -1.81600638e-03  -1.91971418e-02]\n",
      " [ -1.58476513e-02  -8.32168479e-03   9.55596752e-03   1.44553799e-02\n",
      "   -3.28954495e-03   1.65057052e-02   2.64847092e-03  -3.64232622e-03]\n",
      " [  1.22314077e-02   1.65733527e-02  -9.81407892e-03  -1.19479932e-03\n",
      "   -2.56678835e-03   1.33307260e-02   8.80287774e-03   4.08476405e-03]]\n",
      "1\n",
      "[ 0.  0.  0.  0.  0.  0.  0.  0.]\n",
      "2\n",
      "[[ 1.        ]\n",
      " [ 0.0091613 ]\n",
      " [ 0.01525017]\n",
      " [ 0.01320851]\n",
      " [-0.00124165]\n",
      " [ 0.00676558]\n",
      " [-0.01621384]\n",
      " [-0.01991706]]\n",
      "3\n",
      "[ 0.]\n"
     ]
    }
   ],
   "source": [
    "BASE_WEIGHTS = base_network.get_weights()\n",
    "for i in xrange(len(BASE_WEIGHTS)):\n",
    "    if i == 0:\n",
    "        BASE_WEIGHTS[i][:2, 0] = 1\n",
    "    elif i == 2:\n",
    "        BASE_WEIGHTS[i][0,0] = 1\n",
    "for i, w in enumerate(BASE_WEIGHTS):\n",
    "    print(i)\n",
    "    print(w)"
   ]
  },
  {
   "cell_type": "code",
   "execution_count": 124,
   "metadata": {},
   "outputs": [
    {
     "data": {
      "text/plain": [
       "[array([[  1.00000000e+00,   6.87097199e-03,   1.14376266e-02,\n",
       "           9.90638509e-03,  -9.31235030e-04,   5.07418253e-03,\n",
       "          -1.21603794e-02,  -1.49377976e-02],\n",
       "        [  1.00000000e+00,   8.64972919e-03,  -1.08753508e-02,\n",
       "           1.38396267e-02,   1.25453826e-02,   3.69531848e-03,\n",
       "          -1.92501731e-02,  -9.78878234e-03],\n",
       "        [  2.35248357e-04,  -5.36064617e-03,  -1.76283326e-02,\n",
       "           1.82869155e-02,   1.27184298e-02,  -3.30814533e-03,\n",
       "           3.93750705e-03,  -6.21277466e-03],\n",
       "        [  2.83125602e-03,  -1.02147805e-02,   6.76937588e-03,\n",
       "          -1.90814082e-02,  -1.85549743e-02,   1.78885218e-02,\n",
       "           5.20928390e-03,  -1.06005678e-02],\n",
       "        [  5.86896390e-03,   1.42149385e-02,  -9.50662699e-03,\n",
       "          -8.80788267e-03,  -1.36415288e-03,  -8.05000495e-03,\n",
       "          -1.12284468e-02,  -2.86217965e-03],\n",
       "        [  1.67792682e-02,  -3.19867395e-03,   8.32178630e-03,\n",
       "           2.56576203e-03,  -7.71657284e-03,   1.35459248e-02,\n",
       "          -1.81600638e-03,  -1.91971418e-02],\n",
       "        [ -1.58476513e-02,  -8.32168479e-03,   9.55596752e-03,\n",
       "           1.44553799e-02,  -3.28954495e-03,   1.65057052e-02,\n",
       "           2.64847092e-03,  -3.64232622e-03],\n",
       "        [  1.22314077e-02,   1.65733527e-02,  -9.81407892e-03,\n",
       "          -1.19479932e-03,  -2.56678835e-03,   1.33307260e-02,\n",
       "           8.80287774e-03,   4.08476405e-03]], dtype=float32),\n",
       " array([ 0.,  0.,  0.,  0.,  0.,  0.,  0.,  0.], dtype=float32),\n",
       " array([[ 1.        ],\n",
       "        [ 0.0091613 ],\n",
       "        [ 0.01525017],\n",
       "        [ 0.01320851],\n",
       "        [-0.00124165],\n",
       "        [ 0.00676558],\n",
       "        [-0.01621384],\n",
       "        [-0.01991706]], dtype=float32),\n",
       " array([ 0.], dtype=float32)]"
      ]
     },
     "execution_count": 124,
     "metadata": {},
     "output_type": "execute_result"
    }
   ],
   "source": [
    "base_network.set_weights(BASE_WEIGHTS)\n",
    "base_network.get_weights()"
   ]
  },
  {
   "cell_type": "code",
   "execution_count": 125,
   "metadata": {},
   "outputs": [
    {
     "name": "stdout",
     "output_type": "stream",
     "text": [
      "____________________________________________________________________________________________________\n",
      "Layer (type)                     Output Shape          Param #     Connected to                     \n",
      "====================================================================================================\n",
      "input_9 (InputLayer)             (None, 8)             0                                            \n",
      "____________________________________________________________________________________________________\n",
      "input_10 (InputLayer)            (None, 8)             0                                            \n",
      "____________________________________________________________________________________________________\n",
      "model_14 (Model)                 (None, 1)             81          input_9[0][0]                    \n",
      "                                                                   input_10[0][0]                   \n",
      "____________________________________________________________________________________________________\n",
      "subtract_5 (Subtract)            (None, 1)             0           model_14[1][0]                   \n",
      "                                                                   model_14[2][0]                   \n",
      "____________________________________________________________________________________________________\n",
      "activation_17 (Activation)       (None, 1)             0           subtract_5[0][0]                 \n",
      "====================================================================================================\n",
      "Total params: 81\n",
      "Trainable params: 81\n",
      "Non-trainable params: 0\n",
      "____________________________________________________________________________________________________\n",
      "None\n"
     ]
    }
   ],
   "source": [
    "from keras import layers\n",
    "from keras.layers import Dense, Dropout, Activation, Flatten, BatchNormalization, merge, Input, Lambda, Reshape\n",
    "\n",
    "input_a = Input(shape=(INPUT_SHAPE,))\n",
    "processed_a = base_network(input_a)\n",
    "input_b = Input(shape=(INPUT_SHAPE,))\n",
    "processed_b = base_network(input_b)\n",
    "distance = layers.Subtract()([processed_a, processed_b])\n",
    "out = Activation('sigmoid')(distance)\n",
    "siamese_net = Model([input_a, input_b], out)\n",
    "siamese_net.save_weights(INIT_WEIGHTS)\n",
    "print(siamese_net.summary())"
   ]
  },
  {
   "cell_type": "code",
   "execution_count": 68,
   "metadata": {},
   "outputs": [],
   "source": [
    "import cPickle as pickle\n",
    "MOVES = pickle.load(open(\"../moves_dict.p\", \"rb\"))"
   ]
  },
  {
   "cell_type": "code",
   "execution_count": 69,
   "metadata": {},
   "outputs": [],
   "source": [
    "from keras.callbacks import ReduceLROnPlateau, ModelCheckpoint, EarlyStopping\n",
    "reduce_lr = ReduceLROnPlateau(monitor='val_acc', factor=0.5,\n",
    "              patience=5, verbose = 1, min_lr=1e-8)\n",
    "early_stopping = EarlyStopping(monitor='val_acc',\n",
    "                              min_delta=5e-4,\n",
    "                              patience=20,\n",
    "                              verbose=0, mode='auto')\n",
    "checkpointer = ModelCheckpoint(filepath=CHECKPOINTED_WEIGHTS, verbose=1, save_best_only=True, monitor='val_acc')"
   ]
  },
  {
   "cell_type": "code",
   "execution_count": 62,
   "metadata": {},
   "outputs": [
    {
     "name": "stdout",
     "output_type": "stream",
     "text": [
      "Experience buffer generated\n",
      "Experience buffer saved to experience_buffer/experience_buffer_len4.p\n",
      "Train: 1088350 Val: 45348\n"
     ]
    }
   ],
   "source": [
    "import utils; reload(utils)\n",
    "from utils import DataGenerator\n",
    "\n",
    "BATCH_SIZE = 512\n",
    "maxlen = 4\n",
    "EXPERIENCE_BUFFER_FILE = \"experience_buffer/experience_buffer_len{}.p\".format(maxlen) \n",
    "load_from_file = False #os.path.exists(EXPERIENCE_BUFFER_FILE)\n",
    "save_to_file = not load_from_file\n",
    "datagen = DataGenerator(MOVES, batch_sz = BATCH_SIZE, load_from_file = load_from_file, \n",
    "                 save_to_file = save_to_file, maxlen = maxlen, file = EXPERIENCE_BUFFER_FILE)"
   ]
  },
  {
   "cell_type": "code",
   "execution_count": 126,
   "metadata": {},
   "outputs": [],
   "source": [
    "nadam = Nadam(lr=1e-3)\n",
    "siamese_net.compile(optimizer=nadam, loss='binary_crossentropy', metrics=['accuracy'])\n",
    "siamese_net.load_weights(INIT_WEIGHTS)"
   ]
  },
  {
   "cell_type": "code",
   "execution_count": 127,
   "metadata": {},
   "outputs": [],
   "source": [
    "NUM_TRAIN_PAIRS, NUM_VAL_PAIRS = datagen.get_num_pairs()\n",
    "STEPS_PER_EPOCH = NUM_TRAIN_PAIRS//BATCH_SIZE\n",
    "VALIDATION_STEPS = NUM_VAL_PAIRS//BATCH_SIZE"
   ]
  },
  {
   "cell_type": "code",
   "execution_count": null,
   "metadata": {},
   "outputs": [
    {
     "name": "stdout",
     "output_type": "stream",
     "text": [
      "Epoch 1/500\n",
      "2123/2125 [============================>.] - ETA: 0s - loss: 1.4721 - acc: 0.6608Epoch 00000: val_acc improved from 0.71710 to 0.76677, saving model to /home/ubuntu/quackle/rishabh_code/neural_networks/checkpointed_weights.hdf5\n",
      "2125/2125 [==============================] - 12s - loss: 1.4713 - acc: 0.6608 - val_loss: 0.5631 - val_acc: 0.7668\n",
      "Epoch 2/500\n",
      "2123/2125 [============================>.] - ETA: 0s - loss: 0.6092 - acc: 0.6868Epoch 00001: val_acc improved from 0.76677 to 0.76700, saving model to /home/ubuntu/quackle/rishabh_code/neural_networks/checkpointed_weights.hdf5\n",
      "2125/2125 [==============================] - 11s - loss: 0.6092 - acc: 0.6868 - val_loss: 0.5511 - val_acc: 0.7670\n",
      "Epoch 3/500\n",
      "2122/2125 [============================>.] - ETA: 0s - loss: 0.6025 - acc: 0.6918Epoch 00002: val_acc improved from 0.76700 to 0.76751, saving model to /home/ubuntu/quackle/rishabh_code/neural_networks/checkpointed_weights.hdf5\n",
      "2125/2125 [==============================] - 11s - loss: 0.6025 - acc: 0.6918 - val_loss: 0.5523 - val_acc: 0.7675\n",
      "Epoch 4/500\n",
      "2117/2125 [============================>.] - ETA: 0s - loss: 0.6017 - acc: 0.6919Epoch 00003: val_acc did not improve\n",
      "2125/2125 [==============================] - 11s - loss: 0.6018 - acc: 0.6919 - val_loss: 0.5482 - val_acc: 0.7656\n",
      "Epoch 5/500\n",
      "2121/2125 [============================>.] - ETA: 0s - loss: 0.6013 - acc: 0.6923Epoch 00004: val_acc did not improve\n",
      "2125/2125 [==============================] - 11s - loss: 0.6013 - acc: 0.6923 - val_loss: 0.5462 - val_acc: 0.7625\n",
      "Epoch 6/500\n",
      "2124/2125 [============================>.] - ETA: 0s - loss: 0.6003 - acc: 0.6929Epoch 00005: val_acc improved from 0.76751 to 0.77137, saving model to /home/ubuntu/quackle/rishabh_code/neural_networks/checkpointed_weights.hdf5\n",
      "2125/2125 [==============================] - 11s - loss: 0.6003 - acc: 0.6929 - val_loss: 0.5452 - val_acc: 0.7714\n",
      "Epoch 7/500\n",
      "2124/2125 [============================>.] - ETA: 0s - loss: 0.6009 - acc: 0.6928Epoch 00006: val_acc did not improve\n",
      "2125/2125 [==============================] - 11s - loss: 0.6009 - acc: 0.6927 - val_loss: 0.5587 - val_acc: 0.7652\n",
      "Epoch 8/500\n",
      "2124/2125 [============================>.] - ETA: 0s - loss: 0.6007 - acc: 0.6924Epoch 00007: val_acc did not improve\n",
      "2125/2125 [==============================] - 11s - loss: 0.6007 - acc: 0.6924 - val_loss: 0.5499 - val_acc: 0.7706\n",
      "Epoch 9/500\n",
      "2121/2125 [============================>.] - ETA: 0s - loss: 0.6003 - acc: 0.6929Epoch 00008: val_acc did not improve\n",
      "2125/2125 [==============================] - 11s - loss: 0.6004 - acc: 0.6929 - val_loss: 0.5405 - val_acc: 0.7663\n",
      "Epoch 10/500\n",
      "2118/2125 [============================>.] - ETA: 0s - loss: 0.6005 - acc: 0.6926Epoch 00009: val_acc did not improve\n",
      "2125/2125 [==============================] - 11s - loss: 0.6005 - acc: 0.6925 - val_loss: 0.5542 - val_acc: 0.7605\n",
      "Epoch 11/500\n",
      "2119/2125 [============================>.] - ETA: 0s - loss: 0.6005 - acc: 0.6924Epoch 00010: val_acc did not improve\n",
      "2125/2125 [==============================] - 11s - loss: 0.6005 - acc: 0.6924 - val_loss: 0.5443 - val_acc: 0.7700\n",
      "Epoch 12/500\n",
      "2121/2125 [============================>.] - ETA: 0s - loss: 0.6002 - acc: 0.6933\n",
      "Epoch 00011: reducing learning rate to 0.000500000023749.\n",
      "Epoch 00011: val_acc did not improve\n",
      "2125/2125 [==============================] - 11s - loss: 0.6002 - acc: 0.6932 - val_loss: 0.5403 - val_acc: 0.7682\n",
      "Epoch 13/500\n",
      "2114/2125 [============================>.] - ETA: 0s - loss: 0.5982 - acc: 0.6953Epoch 00012: val_acc did not improve\n",
      "2125/2125 [==============================] - 11s - loss: 0.5982 - acc: 0.6953 - val_loss: 0.5453 - val_acc: 0.7676\n",
      "Epoch 14/500\n",
      "2122/2125 [============================>.] - ETA: 0s - loss: 0.5977 - acc: 0.6955Epoch 00013: val_acc did not improve\n",
      "2125/2125 [==============================] - 11s - loss: 0.5977 - acc: 0.6954 - val_loss: 0.5433 - val_acc: 0.7682\n",
      "Epoch 15/500\n",
      "2118/2125 [============================>.] - ETA: 0s - loss: 0.5976 - acc: 0.6952Epoch 00014: val_acc did not improve\n",
      "2125/2125 [==============================] - 11s - loss: 0.5976 - acc: 0.6952 - val_loss: 0.5451 - val_acc: 0.7689\n",
      "Epoch 16/500\n",
      "2117/2125 [============================>.] - ETA: 0s - loss: 0.5983 - acc: 0.6946Epoch 00015: val_acc improved from 0.77137 to 0.77177, saving model to /home/ubuntu/quackle/rishabh_code/neural_networks/checkpointed_weights.hdf5\n",
      "2125/2125 [==============================] - 11s - loss: 0.5984 - acc: 0.6946 - val_loss: 0.5474 - val_acc: 0.7718\n",
      "Epoch 17/500\n",
      "2117/2125 [============================>.] - ETA: 0s - loss: 0.5973 - acc: 0.6952Epoch 00016: val_acc did not improve\n",
      "2125/2125 [==============================] - 11s - loss: 0.5973 - acc: 0.6952 - val_loss: 0.5398 - val_acc: 0.7704\n",
      "Epoch 18/500\n",
      "2115/2125 [============================>.] - ETA: 0s - loss: 0.5976 - acc: 0.6946Epoch 00017: val_acc did not improve\n",
      "2125/2125 [==============================] - 11s - loss: 0.5977 - acc: 0.6945 - val_loss: 0.5456 - val_acc: 0.7667\n",
      "Epoch 19/500\n",
      "2121/2125 [============================>.] - ETA: 0s - loss: 0.5978 - acc: 0.6948Epoch 00018: val_acc did not improve\n",
      "2125/2125 [==============================] - 11s - loss: 0.5978 - acc: 0.6947 - val_loss: 0.5439 - val_acc: 0.7711\n",
      "Epoch 20/500\n",
      "2122/2125 [============================>.] - ETA: 0s - loss: 0.5976 - acc: 0.6953Epoch 00019: val_acc did not improve\n",
      "2125/2125 [==============================] - 11s - loss: 0.5975 - acc: 0.6954 - val_loss: 0.5409 - val_acc: 0.7715\n",
      "Epoch 21/500\n",
      "2120/2125 [============================>.] - ETA: 0s - loss: 0.5977 - acc: 0.6948Epoch 00020: val_acc did not improve\n",
      "2125/2125 [==============================] - 11s - loss: 0.5977 - acc: 0.6948 - val_loss: 0.5396 - val_acc: 0.7711\n",
      "Epoch 22/500\n",
      "2120/2125 [============================>.] - ETA: 0s - loss: 0.5977 - acc: 0.6948\n",
      "Epoch 00021: reducing learning rate to 0.000250000011874.\n",
      "Epoch 00021: val_acc did not improve\n",
      "2125/2125 [==============================] - 11s - loss: 0.5977 - acc: 0.6948 - val_loss: 0.5447 - val_acc: 0.7665\n",
      "Epoch 23/500\n",
      " 293/2125 [===>..........................] - ETA: 9s - loss: 0.5957 - acc: 0.6970"
     ]
    }
   ],
   "source": [
    "history = siamese_net.fit_generator(\n",
    "        datagen.next_train(),\n",
    "        steps_per_epoch=STEPS_PER_EPOCH,\n",
    "        epochs=500,\n",
    "        validation_data=datagen.next_val(),\n",
    "        validation_steps=VALIDATION_STEPS,\n",
    "        callbacks = [reduce_lr, checkpointer, early_stopping])"
   ]
  },
  {
   "cell_type": "code",
   "execution_count": 43,
   "metadata": {},
   "outputs": [
    {
     "data": {
      "image/png": "[encoded data removed]",
      "text/plain": [
       "<matplotlib.figure.Figure at 0x7f7bc16b24d0>"
      ]
     },
     "metadata": {},
     "output_type": "display_data"
    }
   ],
   "source": [
    "f, (ax1, ax2) = plt.subplots(1, 2, sharey=True)\n",
    "f.set_figheight(8)\n",
    "f.set_figwidth(14)\n",
    "\n",
    "ax1.plot(history.history['loss'])\n",
    "ax1.plot(history.history['val_loss'])\n",
    "ax1.set_title('model loss')\n",
    "ax1.set_ylabel('loss')\n",
    "ax1.set_xlabel('epoch')\n",
    "ax1.legend(['train_loss', 'val_loss'], loc='upper left')\n",
    "\n",
    "ax2.plot(history.history['acc'])\n",
    "ax2.plot(history.history['val_acc'])\n",
    "ax2.set_title('model acc')\n",
    "ax2.set_ylabel('acc')\n",
    "ax2.set_xlabel('epoch')\n",
    "ax2.legend(['train_acc', 'val_acc'], loc='lower left')\n",
    "\n",
    "plt.show()"
   ]
  },
  {
   "cell_type": "code",
   "execution_count": 72,
   "metadata": {},
   "outputs": [
    {
     "name": "stdout",
     "output_type": "stream",
     "text": [
      "Base weights:\n",
      "Loss: 5.2614957908 Acc: 0.0485449120181\n",
      "Checkpointed weights:\n",
      "Loss: 7.28672732029 Acc: 0.177831625666\n"
     ]
    }
   ],
   "source": [
    "for i in range(2):\n",
    "    if i == 0:\n",
    "        print(\"Base weights:\")\n",
    "        siamese_net.set_weights(BASE_WEIGHTS)\n",
    "    else:\n",
    "        print(\"Checkpointed weights:\")\n",
    "        siamese_net.load_weights(CHECKPOINTED_WEIGHTS)\n",
    "    val = siamese_net.evaluate_generator(\n",
    "            datagen.next_train(),\n",
    "            steps=STEPS_PER_EPOCH)\n",
    "    print(\"Loss: {} Acc: {}\".format(val[0], val[1]))"
   ]
  },
  {
   "cell_type": "code",
   "execution_count": 15,
   "metadata": {},
   "outputs": [
    {
     "name": "stdout",
     "output_type": "stream",
     "text": [
      "_________________________________________________________________\n",
      "Layer (type)                 Output Shape              Param #   \n",
      "=================================================================\n",
      "x (InputLayer)               (None, 8)                 0         \n",
      "_________________________________________________________________\n",
      "dense_1 (Dense)              (None, 4)                 36        \n",
      "_________________________________________________________________\n",
      "activation_1 (Activation)    (None, 4)                 0         \n",
      "_________________________________________________________________\n",
      "dense_2 (Dense)              (None, 1)                 5         \n",
      "=================================================================\n",
      "Total params: 41\n",
      "Trainable params: 41\n",
      "Non-trainable params: 0\n",
      "_________________________________________________________________\n"
     ]
    }
   ],
   "source": [
    "siamese_net.set_weights(BASE_WEIGHTS)\n",
    "# siamese_net.load_weights(CHECKPOINTED_WEIGHTS)\n",
    "SAVE_MODEL = \"keras_tensorflow\"\n",
    "model_to_save = siamese_net.layers[2]\n",
    "model_to_save.summary()\n",
    "model_to_save.save(SAVE_MODEL, overwrite='True')"
   ]
  },
  {
   "cell_type": "code",
   "execution_count": 16,
   "metadata": {},
   "outputs": [
    {
     "data": {
      "text/plain": [
       "[array([[ 1.,  0.,  0.,  0.],\n",
       "        [ 1.,  0.,  0.,  0.],\n",
       "        [ 0.,  0.,  0.,  0.],\n",
       "        [ 0.,  0.,  0.,  0.],\n",
       "        [ 0.,  0.,  0.,  0.],\n",
       "        [ 0.,  0.,  0.,  0.],\n",
       "        [ 0.,  0.,  0.,  0.],\n",
       "        [ 0.,  0.,  0.,  0.]], dtype=float32),\n",
       " array([ 0.,  0.,  0.,  0.], dtype=float32),\n",
       " array([[ 1.],\n",
       "        [ 0.],\n",
       "        [ 0.],\n",
       "        [ 0.]], dtype=float32),\n",
       " array([ 0.], dtype=float32)]"
      ]
     },
     "execution_count": 16,
     "metadata": {},
     "output_type": "execute_result"
    }
   ],
   "source": [
    "model_to_save.get_weights()"
   ]
  },
  {
   "cell_type": "code",
   "execution_count": null,
   "metadata": {},
   "outputs": [],
   "source": []
  }
 ],
 "metadata": {
  "kernelspec": {
   "display_name": "Python 2",
   "language": "python",
   "name": "python2"
  },
  "language_info": {
   "codemirror_mode": {
    "name": "ipython",
    "version": 2
   },
   "file_extension": ".py",
   "mimetype": "text/x-python",
   "name": "python",
   "nbconvert_exporter": "python",
   "pygments_lexer": "ipython2",
   "version": "2.7.12"
  }
 },
 "nbformat": 4,
 "nbformat_minor": 2
}
