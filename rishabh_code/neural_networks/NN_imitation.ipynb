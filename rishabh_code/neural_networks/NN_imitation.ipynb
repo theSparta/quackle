{
 "cells": [
  {
   "cell_type": "code",
   "execution_count": 25,
   "metadata": {},
   "outputs": [],
   "source": [
    "from __future__ import division\n",
    "from keras.models import Sequential, Model\n",
    "from keras.layers import Dense, Dropout, Activation, Flatten, BatchNormalization, Input, Lambda, Reshape\n",
    "from keras import backend as K\n",
    "from keras.optimizers import SGD, Nadam\n",
    "from keras import layers\n",
    "\n",
    "import numpy as np\n",
    "import matplotlib.pyplot as plt\n",
    "import tensorflow as tf\n",
    "%matplotlib inline\n",
    "\n",
    "import os"
   ]
  },
  {
   "cell_type": "code",
   "execution_count": 26,
   "metadata": {},
   "outputs": [],
   "source": [
    "DATA_DIR = os.path.abspath('./')\n",
    "CHECKPOINTED_WEIGHTS = os.path.join(DATA_DIR, 'checkpointed_weights.hdf5')\n",
    "INIT_WEIGHTS = os.path.join(DATA_DIR, 'init_weights_base.hdf5')\n",
    "EXPERIENCE_BUFFER_FILE = os.path.join(DATA_DIR, 'experience_buffer.p')"
   ]
  },
  {
   "cell_type": "code",
   "execution_count": 27,
   "metadata": {},
   "outputs": [],
   "source": [
    "from keras.layers.advanced_activations import LeakyReLU\n",
    "from keras.regularizers import l2, l1\n",
    "from keras.initializers import VarianceScaling\n",
    "\n",
    "kernel_initializer = VarianceScaling(scale=0.01, mode='fan_avg', distribution='uniform', seed=42)\n",
    "\n",
    "def dense_relu_bn_dropout(x, size, dropout, alpha = 0.1, reg = 0):\n",
    "    x = Dense(size, kernel_regularizer = l2(reg), kernel_initializer=kernel_initializer)(x)\n",
    "    x = Activation('tanh')(x)\n",
    "#     x = BatchNormalization()(x)\n",
    "#     x = Dropout(dropout)(x)\n",
    "    return x\n",
    "\n",
    "def create_network(reg, dropout, alpha = 0.1):\n",
    "    inputs = Input(shape=(INPUT_SHAPE,), name=\"x\")\n",
    "    x = dense_relu_bn_dropout(inputs, 4 , dropout, reg)\n",
    "#     x = dense_relu_bn_dropout(x, 8, dropout, reg)\n",
    "    x = Dense(1, kernel_initializer=kernel_initializer)(x)\n",
    "    base_network = Model(inputs=inputs, outputs = x)\n",
    "    print(base_network.summary())\n",
    "    return base_network"
   ]
  },
  {
   "cell_type": "code",
   "execution_count": 28,
   "metadata": {},
   "outputs": [
    {
     "name": "stdout",
     "output_type": "stream",
     "text": [
      "_________________________________________________________________\n",
      "Layer (type)                 Output Shape              Param #   \n",
      "=================================================================\n",
      "x (InputLayer)               (None, 8)                 0         \n",
      "_________________________________________________________________\n",
      "dense_5 (Dense)              (None, 4)                 36        \n",
      "_________________________________________________________________\n",
      "activation_4 (Activation)    (None, 4)                 0         \n",
      "_________________________________________________________________\n",
      "dense_6 (Dense)              (None, 1)                 5         \n",
      "=================================================================\n",
      "Total params: 41\n",
      "Trainable params: 41\n",
      "Non-trainable params: 0\n",
      "_________________________________________________________________\n",
      "None\n"
     ]
    }
   ],
   "source": [
    "INPUT_SHAPE = 8\n",
    "base_network = create_network(reg = 0.5, dropout = 0.5)"
   ]
  },
  {
   "cell_type": "code",
   "execution_count": 29,
   "metadata": {},
   "outputs": [],
   "source": [
    "BASE_WEIGHTS = base_network.get_weights()\n",
    "for i in xrange(len(BASE_WEIGHTS)):\n",
    "    BASE_WEIGHTS[i].fill(0)\n",
    "    if i == 0:\n",
    "        BASE_WEIGHTS[i][:2, 0] = 1\n",
    "    elif i == 2:\n",
    "        BASE_WEIGHTS[i][0, 0] = 1"
   ]
  },
  {
   "cell_type": "code",
   "execution_count": 30,
   "metadata": {},
   "outputs": [
    {
     "data": {
      "text/plain": [
       "[array([[  1.00000000e+00,   2.50892416e-02,   4.17643115e-02,\n",
       "           3.61730084e-02],\n",
       "        [  1.00000000e+00,   1.85282975e-02,  -4.44034263e-02,\n",
       "          -5.45451194e-02],\n",
       "        [ -2.31617354e-02,   3.15843448e-02,  -3.97111699e-02,\n",
       "           5.05351722e-02],\n",
       "        [  4.58092615e-02,   1.34933963e-02,  -7.02916905e-02,\n",
       "          -3.57435793e-02],\n",
       "        [  8.58999789e-04,  -1.95743106e-02,  -6.43695667e-02,\n",
       "           6.67743608e-02],\n",
       "        [  4.64411452e-02,  -1.20796412e-02,   1.43777430e-02,\n",
       "          -2.26858445e-02],\n",
       "        [  1.03382841e-02,  -3.72991040e-02,   2.47182697e-02,\n",
       "          -6.96754530e-02],\n",
       "        [ -6.77531883e-02,   6.53196499e-02,   1.90216154e-02,\n",
       "          -3.87078039e-02]], dtype=float32),\n",
       " array([ 0.,  0.,  0.,  0.], dtype=float32),\n",
       " array([[ 1.        ],\n",
       "        [ 0.03886809],\n",
       "        [ 0.06470098],\n",
       "        [ 0.05603898]], dtype=float32),\n",
       " array([ 0.], dtype=float32)]"
      ]
     },
     "execution_count": 30,
     "metadata": {},
     "output_type": "execute_result"
    }
   ],
   "source": [
    "weights_to_set =base_network.get_weights()\n",
    "weights_to_set[0][:2, 0] = 1\n",
    "weights_to_set[2][0, 0] = 1\n",
    "base_network.set_weights(weights_to_set)\n",
    "base_network.get_weights()"
   ]
  },
  {
   "cell_type": "code",
   "execution_count": 47,
   "metadata": {},
   "outputs": [
    {
     "name": "stdout",
     "output_type": "stream",
     "text": [
      "____________________________________________________________________________________________________\n",
      "Layer (type)                     Output Shape          Param #     Connected to                     \n",
      "====================================================================================================\n",
      "input_5 (InputLayer)             (None, 8)             0                                            \n",
      "____________________________________________________________________________________________________\n",
      "input_6 (InputLayer)             (None, 8)             0                                            \n",
      "____________________________________________________________________________________________________\n",
      "model_4 (Model)                  (None, 1)             41          input_5[0][0]                    \n",
      "                                                                   input_6[0][0]                    \n",
      "____________________________________________________________________________________________________\n",
      "subtract_3 (Subtract)            (None, 1)             0           model_4[3][0]                    \n",
      "                                                                   model_4[4][0]                    \n",
      "____________________________________________________________________________________________________\n",
      "activation_6 (Activation)        (None, 1)             0           subtract_3[0][0]                 \n",
      "====================================================================================================\n",
      "Total params: 41\n",
      "Trainable params: 41\n",
      "Non-trainable params: 0\n",
      "____________________________________________________________________________________________________\n",
      "None\n"
     ]
    }
   ],
   "source": [
    "from keras import layers\n",
    "from keras.layers import Dense, Dropout, Activation, Flatten, BatchNormalization, merge, Input, Lambda, Reshape\n",
    "\n",
    "input_a = Input(shape=(INPUT_SHAPE,))\n",
    "processed_a = base_network(input_a)\n",
    "input_b = Input(shape=(INPUT_SHAPE,))\n",
    "processed_b = base_network(input_b)\n",
    "distance = layers.Subtract()([processed_a, processed_b])\n",
    "out = Activation('sigmoid')(distance)\n",
    "siamese_net = Model([input_a, input_b], out)\n",
    "siamese_net.save_weights(INIT_WEIGHTS)\n",
    "print(siamese_net.summary())"
   ]
  },
  {
   "cell_type": "code",
   "execution_count": 48,
   "metadata": {},
   "outputs": [],
   "source": [
    "import cPickle as pickle\n",
    "MOVES = pickle.load(open(\"../moves_dict.p\", \"rb\"))"
   ]
  },
  {
   "cell_type": "code",
   "execution_count": 59,
   "metadata": {},
   "outputs": [
    {
     "name": "stdout",
     "output_type": "stream",
     "text": [
      "[27.0, 4.19921875, 352.385009765625, 1.1437000036239624, 0.0, 1.350000023841858, -1.0, 0.0]\n",
      "[23.0, 4.02734375, 258.0719909667969, 1.8662999868392944, -3.0799999237060547, 1.2899999618530273, -0.5, 0.0]\n",
      "[34.0, 1.359375, 201.1909942626953, 0.05119999870657921, 0.0, -0.3400000035762787, 0.0, 0.0]\n",
      "[27.0, 1.7265625, 299.5270080566406, 0.25929999351501465, 0.0, 1.149999976158142, -1.0, 0.0]\n",
      "[26.0, -2.421875, 131.0500030517578, 0.31049999594688416, -4.340000152587891, 1.2899999618530273, -0.5, 0.0]\n",
      "[14.0, 8.1171875, 416.8240051269531, 0.7738000154495239, 0.0, 1.2899999618530273, 0.5, 0.0]\n",
      "[14.0, 8.1171875, 416.8240051269531, 0.7738000154495239, 0.0, 1.2899999618530273, 0.5, 0.0]\n",
      "[22.0, 1.359375, 201.1909942626953, 0.05119999870657921, 0.0, -0.3400000035762787, 0.0, 0.0]\n",
      "[22.0, -2.79296875, 145.26699829101562, 0.6291999816894531, 0.0, 0.5799999833106995, -3.5, 0.0]\n"
     ]
    }
   ],
   "source": [
    "key = 'Five_Minute_Championship_Player-game-138#12#4.gcg'\n",
    "l = MOVES[key]\n",
    "for i in l:\n",
    "    print(i)\n",
    "# for file in MOVES:\n",
    "#     print(file)\n",
    "#     for k in MOVES[file]:\n",
    "#         print(k)\n",
    "#     break"
   ]
  },
  {
   "cell_type": "code",
   "execution_count": 34,
   "metadata": {},
   "outputs": [],
   "source": [
    "from keras.callbacks import ReduceLROnPlateau, ModelCheckpoint, EarlyStopping\n",
    "reduce_lr = ReduceLROnPlateau(monitor='val_acc', factor=0.5,\n",
    "              patience=5, verbose = 1, min_lr=1e-8)\n",
    "early_stopping = EarlyStopping(monitor='val_acc',\n",
    "                              min_delta=5e-4,\n",
    "                              patience=20,\n",
    "                              verbose=0, mode='auto')\n",
    "checkpointer = ModelCheckpoint(filepath=CHECKPOINTED_WEIGHTS, verbose=1, save_best_only=True, monitor='val_acc')"
   ]
  },
  {
   "cell_type": "code",
   "execution_count": 51,
   "metadata": {},
   "outputs": [
    {
     "name": "stdout",
     "output_type": "stream",
     "text": [
      "Experience buffer generated\n",
      "Experience buffer saved to experience_buffer/experience_buffer_len4.p\n",
      "Train: 443639 Val: 18485\n"
     ]
    }
   ],
   "source": [
    "import utils; reload(utils)\n",
    "from utils import DataGenerator\n",
    "\n",
    "BATCH_SIZE = 512\n",
    "maxlen = 4\n",
    "EXPERIENCE_BUFFER_FILE = \"experience_buffer/experience_buffer_len{}.p\".format(maxlen) \n",
    "load_from_file = False #os.path.exists(EXPERIENCE_BUFFER_FILE)\n",
    "save_to_file = not load_from_file\n",
    "datagen = DataGenerator(MOVES, batch_sz = BATCH_SIZE, load_from_file = load_from_file, \n",
    "                 save_to_file = save_to_file, maxlen = maxlen, file = EXPERIENCE_BUFFER_FILE)"
   ]
  },
  {
   "cell_type": "code",
   "execution_count": 53,
   "metadata": {},
   "outputs": [],
   "source": [
    "nadam = Nadam(lr=1e-3)\n",
    "siamese_net.compile(optimizer=nadam, loss='binary_crossentropy', metrics=['accuracy'])\n",
    "siamese_net.load_weights(INIT_WEIGHTS)"
   ]
  },
  {
   "cell_type": "code",
   "execution_count": 37,
   "metadata": {},
   "outputs": [],
   "source": [
    "NUM_TRAIN_PAIRS, NUM_VAL_PAIRS = datagen.get_num_pairs()\n",
    "STEPS_PER_EPOCH = NUM_TRAIN_PAIRS//BATCH_SIZE\n",
    "VALIDATION_STEPS = NUM_VAL_PAIRS//BATCH_SIZE"
   ]
  },
  {
   "cell_type": "code",
   "execution_count": 33,
   "metadata": {},
   "outputs": [
    {
     "name": "stdout",
     "output_type": "stream",
     "text": [
      "Epoch 1/500\n",
      "129/130 [============================>.] - ETA: 0s - loss: 0.6920 - acc: 0.4963Epoch 00000: val_acc did not improve\n",
      "130/130 [==============================] - 0s - loss: 0.6921 - acc: 0.4960 - val_loss: 0.6911 - val_acc: 0.4963\n",
      "Epoch 2/500\n",
      "121/130 [==========================>...] - ETA: 0s - loss: 0.6878 - acc: 0.5246Epoch 00001: val_acc did not improve\n",
      "130/130 [==============================] - 0s - loss: 0.6877 - acc: 0.5247 - val_loss: 0.6864 - val_acc: 0.5297\n",
      "Epoch 3/500\n",
      "120/130 [==========================>...] - ETA: 0s - loss: 0.6835 - acc: 0.5498Epoch 00002: val_acc did not improve\n",
      "130/130 [==============================] - 0s - loss: 0.6832 - acc: 0.5510 - val_loss: 0.6800 - val_acc: 0.5406\n",
      "Epoch 4/500\n",
      "125/130 [===========================>..] - ETA: 0s - loss: 0.6775 - acc: 0.5692Epoch 00003: val_acc did not improve\n",
      "130/130 [==============================] - 0s - loss: 0.6775 - acc: 0.5692 - val_loss: 0.6736 - val_acc: 0.5559\n",
      "Epoch 5/500\n",
      "127/130 [============================>.] - ETA: 0s - loss: 0.6720 - acc: 0.5773Epoch 00004: val_acc did not improve\n",
      "130/130 [==============================] - 0s - loss: 0.6721 - acc: 0.5772 - val_loss: 0.6690 - val_acc: 0.6028\n",
      "Epoch 6/500\n",
      "125/130 [===========================>..] - ETA: 0s - loss: 0.6675 - acc: 0.5819Epoch 00005: val_acc did not improve\n",
      "130/130 [==============================] - 0s - loss: 0.6674 - acc: 0.5825 - val_loss: 0.6639 - val_acc: 0.5778\n",
      "Epoch 7/500\n",
      "125/130 [===========================>..] - ETA: 0s - loss: 0.6634 - acc: 0.5849Epoch 00006: val_acc did not improve\n",
      "130/130 [==============================] - 0s - loss: 0.6633 - acc: 0.5854 - val_loss: 0.6606 - val_acc: 0.6037\n",
      "Epoch 8/500\n",
      "125/130 [===========================>..] - ETA: 0s - loss: 0.6600 - acc: 0.5873Epoch 00007: val_acc did not improve\n",
      "130/130 [==============================] - 0s - loss: 0.6599 - acc: 0.5876 - val_loss: 0.6558 - val_acc: 0.5997\n",
      "Epoch 9/500\n",
      "124/130 [===========================>..] - ETA: 0s - loss: 0.6575 - acc: 0.5902Epoch 00008: val_acc did not improve\n",
      "130/130 [==============================] - 0s - loss: 0.6573 - acc: 0.5903 - val_loss: 0.6558 - val_acc: 0.6043\n",
      "Epoch 10/500\n",
      "122/130 [===========================>..] - ETA: 0s - loss: 0.6556 - acc: 0.5912Epoch 00009: val_acc did not improve\n",
      "130/130 [==============================] - 0s - loss: 0.6553 - acc: 0.5915 - val_loss: 0.6516 - val_acc: 0.6032\n",
      "Epoch 11/500\n",
      "128/130 [============================>.] - ETA: 0s - loss: 0.6534 - acc: 0.5918Epoch 00010: val_acc did not improve\n",
      "130/130 [==============================] - 0s - loss: 0.6535 - acc: 0.5917 - val_loss: 0.6496 - val_acc: 0.6085\n",
      "Epoch 12/500\n",
      "119/130 [==========================>...] - ETA: 0s - loss: 0.6523 - acc: 0.5919Epoch 00011: val_acc did not improve\n",
      "130/130 [==============================] - 0s - loss: 0.6520 - acc: 0.5922 - val_loss: 0.6514 - val_acc: 0.5891\n",
      "Epoch 13/500\n",
      "122/130 [===========================>..] - ETA: 0s - loss: 0.6513 - acc: 0.5916Epoch 00012: val_acc did not improve\n",
      "130/130 [==============================] - 0s - loss: 0.6508 - acc: 0.5923 - val_loss: 0.6469 - val_acc: 0.6120\n",
      "Epoch 14/500\n",
      "128/130 [============================>.] - ETA: 0s - loss: 0.6501 - acc: 0.5924Epoch 00013: val_acc did not improve\n",
      "130/130 [==============================] - 0s - loss: 0.6500 - acc: 0.5925 - val_loss: 0.6464 - val_acc: 0.5997\n",
      "Epoch 15/500\n",
      "119/130 [==========================>...] - ETA: 0s - loss: 0.6492 - acc: 0.5933Epoch 00014: val_acc did not improve\n",
      "130/130 [==============================] - 0s - loss: 0.6490 - acc: 0.5935 - val_loss: 0.6450 - val_acc: 0.6072\n",
      "Epoch 16/500\n",
      "122/130 [===========================>..] - ETA: 0s - loss: 0.6485 - acc: 0.5936Epoch 00015: val_acc did not improve\n",
      "130/130 [==============================] - 0s - loss: 0.6485 - acc: 0.5936 - val_loss: 0.6582 - val_acc: 0.5787\n",
      "Epoch 17/500\n",
      "122/130 [===========================>..] - ETA: 0s - loss: 0.6477 - acc: 0.5938Epoch 00016: val_acc did not improve\n",
      "130/130 [==============================] - 0s - loss: 0.6477 - acc: 0.5933 - val_loss: 0.6608 - val_acc: 0.5752\n",
      "Epoch 18/500\n",
      "123/130 [===========================>..] - ETA: 0s - loss: 0.6469 - acc: 0.5940Epoch 00017: val_acc did not improve\n",
      "130/130 [==============================] - 0s - loss: 0.6470 - acc: 0.5937 - val_loss: 0.6453 - val_acc: 0.6059\n",
      "Epoch 19/500\n",
      "123/130 [===========================>..] - ETA: 0s - loss: 0.6463 - acc: 0.5939\n",
      "Epoch 00018: reducing learning rate to 0.000500000023749.\n",
      "Epoch 00018: val_acc did not improve\n",
      "130/130 [==============================] - 0s - loss: 0.6465 - acc: 0.5934 - val_loss: 0.6447 - val_acc: 0.6074\n",
      "Epoch 20/500\n",
      "122/130 [===========================>..] - ETA: 0s - loss: 0.6446 - acc: 0.5952Epoch 00019: val_acc did not improve\n",
      "130/130 [==============================] - 0s - loss: 0.6448 - acc: 0.5950 - val_loss: 0.6414 - val_acc: 0.6116\n",
      "Epoch 21/500\n",
      "128/130 [============================>.] - ETA: 0s - loss: 0.6443 - acc: 0.5954Epoch 00020: val_acc did not improve\n",
      "130/130 [==============================] - 0s - loss: 0.6445 - acc: 0.5950 - val_loss: 0.6451 - val_acc: 0.6085\n",
      "Epoch 22/500\n",
      "125/130 [===========================>..] - ETA: 0s - loss: 0.6441 - acc: 0.5951Epoch 00021: val_acc did not improve\n",
      "130/130 [==============================] - 0s - loss: 0.6442 - acc: 0.5950 - val_loss: 0.6428 - val_acc: 0.5984\n",
      "Epoch 23/500\n",
      "129/130 [============================>.] - ETA: 0s - loss: 0.6438 - acc: 0.5951Epoch 00022: val_acc did not improve\n",
      "130/130 [==============================] - 0s - loss: 0.6439 - acc: 0.5951 - val_loss: 0.6448 - val_acc: 0.6072\n",
      "Epoch 24/500\n",
      "127/130 [============================>.] - ETA: 0s - loss: 0.6438 - acc: 0.5950\n",
      "Epoch 00023: reducing learning rate to 0.000250000011874.\n",
      "Epoch 00023: val_acc did not improve\n",
      "130/130 [==============================] - 0s - loss: 0.6437 - acc: 0.5950 - val_loss: 0.6433 - val_acc: 0.6041\n",
      "Epoch 25/500\n",
      "123/130 [===========================>..] - ETA: 0s - loss: 0.6435 - acc: 0.5950Epoch 00024: val_acc did not improve\n",
      "130/130 [==============================] - 0s - loss: 0.6433 - acc: 0.5954 - val_loss: 0.6430 - val_acc: 0.6094\n",
      "Epoch 26/500\n",
      " 66/130 [==============>...............] - ETA: 0s - loss: 0.6446 - acc: 0.5935"
     ]
    },
    {
     "ename": "KeyboardInterrupt",
     "evalue": "",
     "output_type": "error",
     "traceback": [
      "\u001b[0;31m---------------------------------------------------------------------------\u001b[0m",
      "\u001b[0;31mKeyboardInterrupt\u001b[0m                         Traceback (most recent call last)",
      "\u001b[0;32m<ipython-input-33-75450d9fe418>\u001b[0m in \u001b[0;36m<module>\u001b[0;34m()\u001b[0m\n\u001b[1;32m      5\u001b[0m         \u001b[0mvalidation_data\u001b[0m\u001b[0;34m=\u001b[0m\u001b[0mdatagen\u001b[0m\u001b[0;34m.\u001b[0m\u001b[0mnext_val\u001b[0m\u001b[0;34m(\u001b[0m\u001b[0;34m)\u001b[0m\u001b[0;34m,\u001b[0m\u001b[0;34m\u001b[0m\u001b[0m\n\u001b[1;32m      6\u001b[0m         \u001b[0mvalidation_steps\u001b[0m\u001b[0;34m=\u001b[0m\u001b[0mVALIDATION_STEPS\u001b[0m\u001b[0;34m,\u001b[0m\u001b[0;34m\u001b[0m\u001b[0m\n\u001b[0;32m----> 7\u001b[0;31m         callbacks = [reduce_lr, checkpointer, early_stopping])\n\u001b[0m",
      "\u001b[0;32m/usr/local/lib/python2.7/dist-packages/keras/legacy/interfaces.pyc\u001b[0m in \u001b[0;36mwrapper\u001b[0;34m(*args, **kwargs)\u001b[0m\n\u001b[1;32m     85\u001b[0m                 warnings.warn('Update your `' + object_name +\n\u001b[1;32m     86\u001b[0m                               '` call to the Keras 2 API: ' + signature, stacklevel=2)\n\u001b[0;32m---> 87\u001b[0;31m             \u001b[0;32mreturn\u001b[0m \u001b[0mfunc\u001b[0m\u001b[0;34m(\u001b[0m\u001b[0;34m*\u001b[0m\u001b[0margs\u001b[0m\u001b[0;34m,\u001b[0m \u001b[0;34m**\u001b[0m\u001b[0mkwargs\u001b[0m\u001b[0;34m)\u001b[0m\u001b[0;34m\u001b[0m\u001b[0m\n\u001b[0m\u001b[1;32m     88\u001b[0m         \u001b[0mwrapper\u001b[0m\u001b[0;34m.\u001b[0m\u001b[0m_original_function\u001b[0m \u001b[0;34m=\u001b[0m \u001b[0mfunc\u001b[0m\u001b[0;34m\u001b[0m\u001b[0m\n\u001b[1;32m     89\u001b[0m         \u001b[0;32mreturn\u001b[0m \u001b[0mwrapper\u001b[0m\u001b[0;34m\u001b[0m\u001b[0m\n",
      "\u001b[0;32m/usr/local/lib/python2.7/dist-packages/keras/engine/training.pyc\u001b[0m in \u001b[0;36mfit_generator\u001b[0;34m(self, generator, steps_per_epoch, epochs, verbose, callbacks, validation_data, validation_steps, class_weight, max_queue_size, workers, use_multiprocessing, shuffle, initial_epoch)\u001b[0m\n\u001b[1;32m   2040\u001b[0m                     outs = self.train_on_batch(x, y,\n\u001b[1;32m   2041\u001b[0m                                                \u001b[0msample_weight\u001b[0m\u001b[0;34m=\u001b[0m\u001b[0msample_weight\u001b[0m\u001b[0;34m,\u001b[0m\u001b[0;34m\u001b[0m\u001b[0m\n\u001b[0;32m-> 2042\u001b[0;31m                                                class_weight=class_weight)\n\u001b[0m\u001b[1;32m   2043\u001b[0m \u001b[0;34m\u001b[0m\u001b[0m\n\u001b[1;32m   2044\u001b[0m                     \u001b[0;32mif\u001b[0m \u001b[0;32mnot\u001b[0m \u001b[0misinstance\u001b[0m\u001b[0;34m(\u001b[0m\u001b[0mouts\u001b[0m\u001b[0;34m,\u001b[0m \u001b[0mlist\u001b[0m\u001b[0;34m)\u001b[0m\u001b[0;34m:\u001b[0m\u001b[0;34m\u001b[0m\u001b[0m\n",
      "\u001b[0;32m/usr/local/lib/python2.7/dist-packages/keras/engine/training.pyc\u001b[0m in \u001b[0;36mtrain_on_batch\u001b[0;34m(self, x, y, sample_weight, class_weight)\u001b[0m\n\u001b[1;32m   1760\u001b[0m             \u001b[0mins\u001b[0m \u001b[0;34m=\u001b[0m \u001b[0mx\u001b[0m \u001b[0;34m+\u001b[0m \u001b[0my\u001b[0m \u001b[0;34m+\u001b[0m \u001b[0msample_weights\u001b[0m\u001b[0;34m\u001b[0m\u001b[0m\n\u001b[1;32m   1761\u001b[0m         \u001b[0mself\u001b[0m\u001b[0;34m.\u001b[0m\u001b[0m_make_train_function\u001b[0m\u001b[0;34m(\u001b[0m\u001b[0;34m)\u001b[0m\u001b[0;34m\u001b[0m\u001b[0m\n\u001b[0;32m-> 1762\u001b[0;31m         \u001b[0moutputs\u001b[0m \u001b[0;34m=\u001b[0m \u001b[0mself\u001b[0m\u001b[0;34m.\u001b[0m\u001b[0mtrain_function\u001b[0m\u001b[0;34m(\u001b[0m\u001b[0mins\u001b[0m\u001b[0;34m)\u001b[0m\u001b[0;34m\u001b[0m\u001b[0m\n\u001b[0m\u001b[1;32m   1763\u001b[0m         \u001b[0;32mif\u001b[0m \u001b[0mlen\u001b[0m\u001b[0;34m(\u001b[0m\u001b[0moutputs\u001b[0m\u001b[0;34m)\u001b[0m \u001b[0;34m==\u001b[0m \u001b[0;36m1\u001b[0m\u001b[0;34m:\u001b[0m\u001b[0;34m\u001b[0m\u001b[0m\n\u001b[1;32m   1764\u001b[0m             \u001b[0;32mreturn\u001b[0m \u001b[0moutputs\u001b[0m\u001b[0;34m[\u001b[0m\u001b[0;36m0\u001b[0m\u001b[0;34m]\u001b[0m\u001b[0;34m\u001b[0m\u001b[0m\n",
      "\u001b[0;32m/usr/local/lib/python2.7/dist-packages/keras/backend/tensorflow_backend.pyc\u001b[0m in \u001b[0;36m__call__\u001b[0;34m(self, inputs)\u001b[0m\n\u001b[1;32m   2271\u001b[0m         updated = session.run(self.outputs + [self.updates_op],\n\u001b[1;32m   2272\u001b[0m                               \u001b[0mfeed_dict\u001b[0m\u001b[0;34m=\u001b[0m\u001b[0mfeed_dict\u001b[0m\u001b[0;34m,\u001b[0m\u001b[0;34m\u001b[0m\u001b[0m\n\u001b[0;32m-> 2273\u001b[0;31m                               **self.session_kwargs)\n\u001b[0m\u001b[1;32m   2274\u001b[0m         \u001b[0;32mreturn\u001b[0m \u001b[0mupdated\u001b[0m\u001b[0;34m[\u001b[0m\u001b[0;34m:\u001b[0m\u001b[0mlen\u001b[0m\u001b[0;34m(\u001b[0m\u001b[0mself\u001b[0m\u001b[0;34m.\u001b[0m\u001b[0moutputs\u001b[0m\u001b[0;34m)\u001b[0m\u001b[0;34m]\u001b[0m\u001b[0;34m\u001b[0m\u001b[0m\n\u001b[1;32m   2275\u001b[0m \u001b[0;34m\u001b[0m\u001b[0m\n",
      "\u001b[0;32m/usr/local/lib/python2.7/dist-packages/tensorflow/python/client/session.pyc\u001b[0m in \u001b[0;36mrun\u001b[0;34m(self, fetches, feed_dict, options, run_metadata)\u001b[0m\n\u001b[1;32m    887\u001b[0m     \u001b[0;32mtry\u001b[0m\u001b[0;34m:\u001b[0m\u001b[0;34m\u001b[0m\u001b[0m\n\u001b[1;32m    888\u001b[0m       result = self._run(None, fetches, feed_dict, options_ptr,\n\u001b[0;32m--> 889\u001b[0;31m                          run_metadata_ptr)\n\u001b[0m\u001b[1;32m    890\u001b[0m       \u001b[0;32mif\u001b[0m \u001b[0mrun_metadata\u001b[0m\u001b[0;34m:\u001b[0m\u001b[0;34m\u001b[0m\u001b[0m\n\u001b[1;32m    891\u001b[0m         \u001b[0mproto_data\u001b[0m \u001b[0;34m=\u001b[0m \u001b[0mtf_session\u001b[0m\u001b[0;34m.\u001b[0m\u001b[0mTF_GetBuffer\u001b[0m\u001b[0;34m(\u001b[0m\u001b[0mrun_metadata_ptr\u001b[0m\u001b[0;34m)\u001b[0m\u001b[0;34m\u001b[0m\u001b[0m\n",
      "\u001b[0;32m/usr/local/lib/python2.7/dist-packages/tensorflow/python/client/session.pyc\u001b[0m in \u001b[0;36m_run\u001b[0;34m(self, handle, fetches, feed_dict, options, run_metadata)\u001b[0m\n\u001b[1;32m   1090\u001b[0m \u001b[0;34m\u001b[0m\u001b[0m\n\u001b[1;32m   1091\u001b[0m           if (not is_tensor_handle_feed and\n\u001b[0;32m-> 1092\u001b[0;31m               not subfeed_t.get_shape().is_compatible_with(np_val.shape)):\n\u001b[0m\u001b[1;32m   1093\u001b[0m             raise ValueError(\n\u001b[1;32m   1094\u001b[0m                 \u001b[0;34m'Cannot feed value of shape %r for Tensor %r, '\u001b[0m\u001b[0;34m\u001b[0m\u001b[0m\n",
      "\u001b[0;32m/usr/local/lib/python2.7/dist-packages/tensorflow/python/framework/tensor_shape.pyc\u001b[0m in \u001b[0;36mis_compatible_with\u001b[0;34m(self, other)\u001b[0m\n\u001b[1;32m    729\u001b[0m \u001b[0;34m\u001b[0m\u001b[0m\n\u001b[1;32m    730\u001b[0m     \"\"\"\n\u001b[0;32m--> 731\u001b[0;31m     \u001b[0mother\u001b[0m \u001b[0;34m=\u001b[0m \u001b[0mas_shape\u001b[0m\u001b[0;34m(\u001b[0m\u001b[0mother\u001b[0m\u001b[0;34m)\u001b[0m\u001b[0;34m\u001b[0m\u001b[0m\n\u001b[0m\u001b[1;32m    732\u001b[0m     \u001b[0;32mif\u001b[0m \u001b[0mself\u001b[0m\u001b[0;34m.\u001b[0m\u001b[0m_dims\u001b[0m \u001b[0;32mis\u001b[0m \u001b[0;32mnot\u001b[0m \u001b[0mNone\u001b[0m \u001b[0;32mand\u001b[0m \u001b[0mother\u001b[0m\u001b[0;34m.\u001b[0m\u001b[0mdims\u001b[0m \u001b[0;32mis\u001b[0m \u001b[0;32mnot\u001b[0m \u001b[0mNone\u001b[0m\u001b[0;34m:\u001b[0m\u001b[0;34m\u001b[0m\u001b[0m\n\u001b[1;32m    733\u001b[0m       \u001b[0;32mif\u001b[0m \u001b[0mself\u001b[0m\u001b[0;34m.\u001b[0m\u001b[0mndims\u001b[0m \u001b[0;34m!=\u001b[0m \u001b[0mother\u001b[0m\u001b[0;34m.\u001b[0m\u001b[0mndims\u001b[0m\u001b[0;34m:\u001b[0m\u001b[0;34m\u001b[0m\u001b[0m\n",
      "\u001b[0;32m/usr/local/lib/python2.7/dist-packages/tensorflow/python/framework/tensor_shape.pyc\u001b[0m in \u001b[0;36mas_shape\u001b[0;34m(shape)\u001b[0m\n\u001b[1;32m    847\u001b[0m     \u001b[0;32mreturn\u001b[0m \u001b[0mshape\u001b[0m\u001b[0;34m\u001b[0m\u001b[0m\n\u001b[1;32m    848\u001b[0m   \u001b[0;32melse\u001b[0m\u001b[0;34m:\u001b[0m\u001b[0;34m\u001b[0m\u001b[0m\n\u001b[0;32m--> 849\u001b[0;31m     \u001b[0;32mreturn\u001b[0m \u001b[0mTensorShape\u001b[0m\u001b[0;34m(\u001b[0m\u001b[0mshape\u001b[0m\u001b[0;34m)\u001b[0m\u001b[0;34m\u001b[0m\u001b[0m\n\u001b[0m\u001b[1;32m    850\u001b[0m \u001b[0;34m\u001b[0m\u001b[0m\n\u001b[1;32m    851\u001b[0m \u001b[0;34m\u001b[0m\u001b[0m\n",
      "\u001b[0;32m/usr/local/lib/python2.7/dist-packages/tensorflow/python/framework/tensor_shape.pyc\u001b[0m in \u001b[0;36m__init__\u001b[0;34m(self, dims)\u001b[0m\n\u001b[1;32m    434\u001b[0m       raise TypeError(\"A string has ambiguous TensorShape, please wrap in a \"\n\u001b[1;32m    435\u001b[0m                       \"list or convert to an int: %s\" % dims)\n\u001b[0;32m--> 436\u001b[0;31m     \u001b[0;32melif\u001b[0m \u001b[0misinstance\u001b[0m\u001b[0;34m(\u001b[0m\u001b[0mdims\u001b[0m\u001b[0;34m,\u001b[0m \u001b[0mtensor_shape_pb2\u001b[0m\u001b[0;34m.\u001b[0m\u001b[0mTensorShapeProto\u001b[0m\u001b[0;34m)\u001b[0m\u001b[0;34m:\u001b[0m\u001b[0;34m\u001b[0m\u001b[0m\n\u001b[0m\u001b[1;32m    437\u001b[0m       \u001b[0;32mif\u001b[0m \u001b[0mdims\u001b[0m\u001b[0;34m.\u001b[0m\u001b[0munknown_rank\u001b[0m\u001b[0;34m:\u001b[0m\u001b[0;34m\u001b[0m\u001b[0m\n\u001b[1;32m    438\u001b[0m         \u001b[0mself\u001b[0m\u001b[0;34m.\u001b[0m\u001b[0m_dims\u001b[0m \u001b[0;34m=\u001b[0m \u001b[0mNone\u001b[0m\u001b[0;34m\u001b[0m\u001b[0m\n",
      "\u001b[0;31mKeyboardInterrupt\u001b[0m: "
     ]
    }
   ],
   "source": [
    "history = siamese_net.fit_generator(\n",
    "        datagen.next_train(),\n",
    "        steps_per_epoch=STEPS_PER_EPOCH,\n",
    "        epochs=500,\n",
    "        validation_data=datagen.next_val(),\n",
    "        validation_steps=VALIDATION_STEPS,\n",
    "        callbacks = [reduce_lr, checkpointer, early_stopping])"
   ]
  },
  {
   "cell_type": "code",
   "execution_count": 28,
   "metadata": {},
   "outputs": [
    {
     "data": {
      "image/png": "[encoded data removed]",
      "text/plain": [
       "<matplotlib.figure.Figure at 0x7f249bfc2fd0>"
      ]
     },
     "metadata": {},
     "output_type": "display_data"
    }
   ],
   "source": [
    "f, (ax1, ax2) = plt.subplots(1, 2, sharey=True)\n",
    "f.set_figheight(8)\n",
    "f.set_figwidth(14)\n",
    "\n",
    "ax1.plot(history.history['loss'])\n",
    "ax1.plot(history.history['val_loss'])\n",
    "ax1.set_title('model loss')\n",
    "ax1.set_ylabel('loss')\n",
    "ax1.set_xlabel('epoch')\n",
    "ax1.legend(['train_loss', 'val_loss'], loc='upper left')\n",
    "\n",
    "ax2.plot(history.history['acc'])\n",
    "ax2.plot(history.history['val_acc'])\n",
    "ax2.set_title('model acc')\n",
    "ax2.set_ylabel('acc')\n",
    "ax2.set_xlabel('epoch')\n",
    "ax2.legend(['train_acc', 'val_acc'], loc='lower left')\n",
    "\n",
    "plt.show()"
   ]
  },
  {
   "cell_type": "code",
   "execution_count": 54,
   "metadata": {},
   "outputs": [
    {
     "name": "stdout",
     "output_type": "stream",
     "text": [
      "Base weights:\n",
      "Loss: 0.692293151984 Acc: 0.0571063701923\n",
      "Checkpointed weights:\n",
      "Loss: 0.504838728446 Acc: 0.771649639423\n"
     ]
    }
   ],
   "source": [
    "for i in range(2):\n",
    "    if i == 0:\n",
    "        print(\"Base weights:\")\n",
    "        siamese_net.set_weights(BASE_WEIGHTS)\n",
    "    else:\n",
    "        print(\"Checkpointed weights:\")\n",
    "        siamese_net.load_weights(CHECKPOINTED_WEIGHTS)\n",
    "    val = siamese_net.evaluate_generator(\n",
    "            datagen.next_train(),\n",
    "            steps=STEPS_PER_EPOCH)\n",
    "    print(\"Loss: {} Acc: {}\".format(val[0], val[1]))"
   ]
  },
  {
   "cell_type": "code",
   "execution_count": null,
   "metadata": {},
   "outputs": [],
   "source": [
    "siamese_net.set_weights(BASE_WEIGHTS)\n",
    "# siamese_net.load_weights(CHECKPOINTED_WEIGHTS)\n",
    "SAVE_MODEL = \"keras_tensorflow\"\n",
    "model_to_save = siamese_net.layers[2]\n",
    "model_to_save.summary()\n",
    "model_to_save.save(SAVE_MODEL, overwrite='True')"
   ]
  },
  {
   "cell_type": "code",
   "execution_count": null,
   "metadata": {},
   "outputs": [],
   "source": [
    "model_to_save.get_weights()"
   ]
  }
 ],
 "metadata": {
  "kernelspec": {
   "display_name": "Python 2",
   "language": "python",
   "name": "python2"
  },
  "language_info": {
   "codemirror_mode": {
    "name": "ipython",
    "version": 2
   },
   "file_extension": ".py",
   "mimetype": "text/x-python",
   "name": "python",
   "nbconvert_exporter": "python",
   "pygments_lexer": "ipython2",
   "version": "2.7.12"
  }
 },
 "nbformat": 4,
 "nbformat_minor": 2
}
