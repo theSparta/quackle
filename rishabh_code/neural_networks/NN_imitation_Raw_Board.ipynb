{
 "cells": [
  {
   "cell_type": "code",
   "execution_count": 1,
   "metadata": {},
   "outputs": [
    {
     "name": "stderr",
     "output_type": "stream",
     "text": [
      "Using TensorFlow backend.\n"
     ]
    }
   ],
   "source": [
    "from __future__ import division\n",
    "from keras.models import Sequential, Model\n",
    "from keras.layers import Dense, Dropout, Activation, Flatten, BatchNormalization, Input, Lambda, Reshape\n",
    "from keras.layers import Conv2D, MaxPooling2D\n",
    "from keras import backend as K\n",
    "from keras.optimizers import SGD, Nadam\n",
    "from keras import layers\n",
    "\n",
    "import numpy as np\n",
    "import matplotlib; matplotlib.use('Agg')\n",
    "import matplotlib.pyplot as plt\n",
    "import tensorflow as tf\n",
    "from sklearn import preprocessing\n",
    "# %matplotlib inline\n",
    "import h5py\n",
    "from utils import *\n",
    "import os"
   ]
  },
  {
   "cell_type": "code",
   "execution_count": 28,
   "metadata": {
    "collapsed": true
   },
   "outputs": [],
   "source": [
    "DATA_DIR = os.path.abspath('./')\n",
    "CHECKPOINTED_WEIGHTS = os.path.join(DATA_DIR, 'checkpointed_weights_new.hdf5')\n",
    "INIT_WEIGHTS = os.path.join(DATA_DIR, 'init_weights_base.hdf5')\n",
    "EXPERIENCE_BUFFER_FILE = os.path.join(DATA_DIR, 'experience_buffer.p')"
   ]
  },
  {
   "cell_type": "code",
   "execution_count": 3,
   "metadata": {},
   "outputs": [
    {
     "data": {
      "text/plain": [
       "'\\nThe neural network consists of a single convolutional block followed by 2 residual blocks followed by final block.\\nThe conv applies the following modules sequentially to its input:\\n(1) A convolution of 32 filters of kernel size 3\\xc3\\x973 with stride 1\\n(2) Batch normalization\\n(3) A rectifier nonlinearity\\nEach residual block applies the following modules sequentially to its input:\\n(1) A convolution of 32 filters of kernel size 3\\xc3\\x973 with stride 1\\n(2) Batch normalization\\n(3) A rectifier nonlinearity\\n(4) A convolution of 32 filters of kernel size 3\\xc3\\x973 with stride 1\\n(5) Batch normalization\\n(6) A skip connection that adds the input to the block\\n(7) A rectifier nonlinearity\\nThe final block applies the following modules sequentially to its input:\\n(1) A convolution of 1 filter of kernel size 1\\xc3\\x971 with stride 1\\n(2) Batch normalization\\n(3) A rectifier nonlinearity\\n(4) A fully connected linear layer to a hidden layer of size 32\\n(5) A rectifier nonlinearity\\n(6) A fully connected linear layer to a hidden layer of size 4\\n(7) A rectifier nonlinearity\\n(8) A concatenation layer which combines the previous layer and input2\\n(9) A fully connected linear layer to a scalar\\n'"
      ]
     },
     "execution_count": 3,
     "metadata": {},
     "output_type": "execute_result"
    }
   ],
   "source": [
    "\"\"\"\n",
    "The neural network consists of a single convolutional block followed by 2 residual blocks followed by final block.\n",
    "The conv applies the following modules sequentially to its input:\n",
    "(1) A convolution of 32 filters of kernel size 3×3 with stride 1\n",
    "(2) Batch normalization\n",
    "(3) A rectifier nonlinearity\n",
    "Each residual block applies the following modules sequentially to its input:\n",
    "(1) A convolution of 32 filters of kernel size 3×3 with stride 1\n",
    "(2) Batch normalization\n",
    "(3) A rectifier nonlinearity\n",
    "(4) A convolution of 32 filters of kernel size 3×3 with stride 1\n",
    "(5) Batch normalization\n",
    "(6) A skip connection that adds the input to the block\n",
    "(7) A rectifier nonlinearity\n",
    "The final block applies the following modules sequentially to its input:\n",
    "(1) A convolution of 1 filter of kernel size 1×1 with stride 1\n",
    "(2) Batch normalization\n",
    "(3) A rectifier nonlinearity\n",
    "(4) A fully connected linear layer to a hidden layer of size 32\n",
    "(5) A rectifier nonlinearity\n",
    "(6) A fully connected linear layer to a hidden layer of size 4\n",
    "(7) A rectifier nonlinearity\n",
    "(8) A concatenation layer which combines the previous layer and input2\n",
    "(9) A fully connected linear layer to a scalar\n",
    "\"\"\""
   ]
  },
  {
   "cell_type": "code",
   "execution_count": 4,
   "metadata": {
    "scrolled": true
   },
   "outputs": [
    {
     "name": "stdout",
     "output_type": "stream",
     "text": [
      "__________________________________________________________________________________________________\n",
      "Layer (type)                    Output Shape         Param #     Connected to                     \n",
      "==================================================================================================\n",
      "input1 (InputLayer)             (None, 15, 15, 56)   0                                            \n",
      "__________________________________________________________________________________________________\n",
      "conv2d_1 (Conv2D)               (None, 15, 15, 16)   8080        input1[0][0]                     \n",
      "__________________________________________________________________________________________________\n",
      "batch_normalization_1 (BatchNor (None, 15, 15, 16)   64          conv2d_1[0][0]                   \n",
      "__________________________________________________________________________________________________\n",
      "activation_1 (Activation)       (None, 15, 15, 16)   0           batch_normalization_1[0][0]      \n",
      "__________________________________________________________________________________________________\n",
      "conv2d_2 (Conv2D)               (None, 15, 15, 16)   2320        activation_1[0][0]               \n",
      "__________________________________________________________________________________________________\n",
      "batch_normalization_2 (BatchNor (None, 15, 15, 16)   64          conv2d_2[0][0]                   \n",
      "__________________________________________________________________________________________________\n",
      "activation_2 (Activation)       (None, 15, 15, 16)   0           batch_normalization_2[0][0]      \n",
      "__________________________________________________________________________________________________\n",
      "conv2d_3 (Conv2D)               (None, 15, 15, 16)   2320        activation_2[0][0]               \n",
      "__________________________________________________________________________________________________\n",
      "batch_normalization_3 (BatchNor (None, 15, 15, 16)   64          conv2d_3[0][0]                   \n",
      "__________________________________________________________________________________________________\n",
      "add_1 (Add)                     (None, 15, 15, 16)   0           batch_normalization_3[0][0]      \n",
      "                                                                 activation_1[0][0]               \n",
      "__________________________________________________________________________________________________\n",
      "activation_3 (Activation)       (None, 15, 15, 16)   0           add_1[0][0]                      \n",
      "__________________________________________________________________________________________________\n",
      "conv2d_4 (Conv2D)               (None, 15, 15, 16)   2320        activation_3[0][0]               \n",
      "__________________________________________________________________________________________________\n",
      "batch_normalization_4 (BatchNor (None, 15, 15, 16)   64          conv2d_4[0][0]                   \n",
      "__________________________________________________________________________________________________\n",
      "activation_4 (Activation)       (None, 15, 15, 16)   0           batch_normalization_4[0][0]      \n",
      "__________________________________________________________________________________________________\n",
      "conv2d_5 (Conv2D)               (None, 15, 15, 16)   2320        activation_4[0][0]               \n",
      "__________________________________________________________________________________________________\n",
      "batch_normalization_5 (BatchNor (None, 15, 15, 16)   64          conv2d_5[0][0]                   \n",
      "__________________________________________________________________________________________________\n",
      "add_2 (Add)                     (None, 15, 15, 16)   0           batch_normalization_5[0][0]      \n",
      "                                                                 activation_3[0][0]               \n",
      "__________________________________________________________________________________________________\n",
      "activation_5 (Activation)       (None, 15, 15, 16)   0           add_2[0][0]                      \n",
      "__________________________________________________________________________________________________\n",
      "conv2d_6 (Conv2D)               (None, 15, 15, 2)    34          activation_5[0][0]               \n",
      "__________________________________________________________________________________________________\n",
      "batch_normalization_6 (BatchNor (None, 15, 15, 2)    8           conv2d_6[0][0]                   \n",
      "__________________________________________________________________________________________________\n",
      "activation_6 (Activation)       (None, 15, 15, 2)    0           batch_normalization_6[0][0]      \n",
      "__________________________________________________________________________________________________\n",
      "flatten_1 (Flatten)             (None, 450)          0           activation_6[0][0]               \n",
      "__________________________________________________________________________________________________\n",
      "dense_1 (Dense)                 (None, 16)           7216        flatten_1[0][0]                  \n",
      "__________________________________________________________________________________________________\n",
      "dense_2 (Dense)                 (None, 4)            68          dense_1[0][0]                    \n",
      "__________________________________________________________________________________________________\n",
      "input2 (InputLayer)             (None, 2)            0                                            \n",
      "__________________________________________________________________________________________________\n",
      "concatenate_1 (Concatenate)     (None, 6)            0           dense_2[0][0]                    \n",
      "                                                                 input2[0][0]                     \n",
      "__________________________________________________________________________________________________\n",
      "dense_3 (Dense)                 (None, 1)            7           concatenate_1[0][0]              \n",
      "==================================================================================================\n",
      "Total params: 25,013\n",
      "Trainable params: 24,849\n",
      "Non-trainable params: 164\n",
      "__________________________________________________________________________________________________\n",
      "None\n"
     ]
    }
   ],
   "source": [
    "from keras.regularizers import l2\n",
    "from keras.initializers import RandomNormal\n",
    "from keras.layers import Add, Concatenate\n",
    "from keras.layers.advanced_activations import LeakyReLU\n",
    "\n",
    "W_init = 'glorot_normal' #'glorot_uniform'\n",
    "b_init = 'zeros'\n",
    "W_dense_init = W_init\n",
    "reg = 1e-3\n",
    "size = 16\n",
    "\n",
    "\n",
    "def residual_block(input, reg=1e-6):\n",
    "    x = conv_block(input)\n",
    "    x = Conv2D(size, (3,3), padding=\"same\", kernel_regularizer=l2(reg))(x)\n",
    "    x = BatchNormalization()(x)\n",
    "    x = Add()([x, input])\n",
    "    x = Activation('relu')(x)\n",
    "    return x\n",
    "\n",
    "def conv_block(input, padding=\"same\", reg=1e-6):\n",
    "    x = Conv2D(size, (3, 3), padding=padding, kernel_regularizer=l2(reg))(input)\n",
    "    x = BatchNormalization()(x)\n",
    "    x = Activation('relu')(x)\n",
    "    return x\n",
    "\n",
    "def final_block(input, input_2, reg=1e-6):\n",
    "    x = Conv2D(2, (1,1), kernel_regularizer=l2(reg))(input)\n",
    "    x = BatchNormalization()(x)\n",
    "    x = Activation('relu')(x)\n",
    "    x = Flatten()(x)\n",
    "    x = Dense(size, activation = 'relu', kernel_regularizer=l2(reg))(x)\n",
    "    x = Dense(4, activation = 'relu', kernel_regularizer=l2(reg))(x)\n",
    "    x = Concatenate()([x, input_2])\n",
    "    x = Dense(1, activation = 'linear', kernel_regularizer=l2(reg))(x)\n",
    "    return x\n",
    "\n",
    "INPUT_SHAPE = (15, 15, 28*2)\n",
    "input_1 = Input(shape=INPUT_SHAPE, name=\"input1\")\n",
    "input_2 = Input(shape=(2,), name=\"input2\")\n",
    "x = conv_block(input_1, reg=reg)\n",
    "for _ in range(2):\n",
    "    x = residual_block(x,reg=reg)\n",
    "x = final_block(x, input_2, reg=reg)\n",
    "convnet = Model(inputs = [input_1, input_2], outputs = x)\n",
    "print(convnet.summary())"
   ]
  },
  {
   "cell_type": "code",
   "execution_count": 5,
   "metadata": {
    "collapsed": true
   },
   "outputs": [],
   "source": [
    "from keras.utils import plot_model\n",
    "plot_model(convnet, to_file='model.png')"
   ]
  },
  {
   "cell_type": "code",
   "execution_count": 6,
   "metadata": {
    "scrolled": false
   },
   "outputs": [
    {
     "data": {
      "image/svg+xml": [
       "<svg height=\"1870pt\" viewBox=\"0.00 0.00 415.00 1870.00\" width=\"415pt\" xmlns=\"http://www.w3.org/2000/svg\" xmlns:xlink=\"http://www.w3.org/1999/xlink\">\n",
       "<g class=\"graph\" id=\"graph0\" transform=\"scale(1 1) rotate(0) translate(4 1866)\">\n",
       "<title>G</title>\n",
       "<polygon fill=\"white\" points=\"-4,4 -4,-1866 411,-1866 411,4 -4,4\" stroke=\"none\"/>\n",
       "<!-- 140660855307408 -->\n",
       "<g class=\"node\" id=\"node1\"><title>140660855307408</title>\n",
       "<polygon fill=\"none\" points=\"217.5,-1825.5 217.5,-1861.5 336.5,-1861.5 336.5,-1825.5 217.5,-1825.5\" stroke=\"black\"/>\n",
       "<text font-family=\"Times,serif\" font-size=\"14.00\" text-anchor=\"middle\" x=\"277\" y=\"-1839.8\">input1: InputLayer</text>\n",
       "</g>\n",
       "<!-- 140660855307472 -->\n",
       "<g class=\"node\" id=\"node2\"><title>140660855307472</title>\n",
       "<polygon fill=\"none\" points=\"215.5,-1752.5 215.5,-1788.5 338.5,-1788.5 338.5,-1752.5 215.5,-1752.5\" stroke=\"black\"/>\n",
       "<text font-family=\"Times,serif\" font-size=\"14.00\" text-anchor=\"middle\" x=\"277\" y=\"-1766.8\">conv2d_1: Conv2D</text>\n",
       "</g>\n",
       "<!-- 140660855307408&#45;&gt;140660855307472 -->\n",
       "<g class=\"edge\" id=\"edge1\"><title>140660855307408-&gt;140660855307472</title>\n",
       "<path d=\"M277,-1825.31C277,-1817.29 277,-1807.55 277,-1798.57\" fill=\"none\" stroke=\"black\"/>\n",
       "<polygon fill=\"black\" points=\"280.5,-1798.53 277,-1788.53 273.5,-1798.53 280.5,-1798.53\" stroke=\"black\"/>\n",
       "</g>\n",
       "<!-- 140660855307664 -->\n",
       "<g class=\"node\" id=\"node3\"><title>140660855307664</title>\n",
       "<polygon fill=\"none\" points=\"147,-1679.5 147,-1715.5 407,-1715.5 407,-1679.5 147,-1679.5\" stroke=\"black\"/>\n",
       "<text font-family=\"Times,serif\" font-size=\"14.00\" text-anchor=\"middle\" x=\"277\" y=\"-1693.8\">batch_normalization_1: BatchNormalization</text>\n",
       "</g>\n",
       "<!-- 140660855307472&#45;&gt;140660855307664 -->\n",
       "<g class=\"edge\" id=\"edge2\"><title>140660855307472-&gt;140660855307664</title>\n",
       "<path d=\"M277,-1752.31C277,-1744.29 277,-1734.55 277,-1725.57\" fill=\"none\" stroke=\"black\"/>\n",
       "<polygon fill=\"black\" points=\"280.5,-1725.53 277,-1715.53 273.5,-1725.53 280.5,-1725.53\" stroke=\"black\"/>\n",
       "</g>\n",
       "<!-- 140662682643664 -->\n",
       "<g class=\"node\" id=\"node4\"><title>140662682643664</title>\n",
       "<polygon fill=\"none\" points=\"203,-1606.5 203,-1642.5 351,-1642.5 351,-1606.5 203,-1606.5\" stroke=\"black\"/>\n",
       "<text font-family=\"Times,serif\" font-size=\"14.00\" text-anchor=\"middle\" x=\"277\" y=\"-1620.8\">activation_1: Activation</text>\n",
       "</g>\n",
       "<!-- 140660855307664&#45;&gt;140662682643664 -->\n",
       "<g class=\"edge\" id=\"edge3\"><title>140660855307664-&gt;140662682643664</title>\n",
       "<path d=\"M277,-1679.31C277,-1671.29 277,-1661.55 277,-1652.57\" fill=\"none\" stroke=\"black\"/>\n",
       "<polygon fill=\"black\" points=\"280.5,-1652.53 277,-1642.53 273.5,-1652.53 280.5,-1652.53\" stroke=\"black\"/>\n",
       "</g>\n",
       "<!-- 140661210950480 -->\n",
       "<g class=\"node\" id=\"node5\"><title>140661210950480</title>\n",
       "<polygon fill=\"none\" points=\"136.5,-1533.5 136.5,-1569.5 259.5,-1569.5 259.5,-1533.5 136.5,-1533.5\" stroke=\"black\"/>\n",
       "<text font-family=\"Times,serif\" font-size=\"14.00\" text-anchor=\"middle\" x=\"198\" y=\"-1547.8\">conv2d_2: Conv2D</text>\n",
       "</g>\n",
       "<!-- 140662682643664&#45;&gt;140661210950480 -->\n",
       "<g class=\"edge\" id=\"edge4\"><title>140662682643664-&gt;140661210950480</title>\n",
       "<path d=\"M257.876,-1606.31C247.881,-1597.33 235.49,-1586.19 224.577,-1576.39\" fill=\"none\" stroke=\"black\"/>\n",
       "<polygon fill=\"black\" points=\"226.725,-1573.61 216.948,-1569.53 222.046,-1578.82 226.725,-1573.61\" stroke=\"black\"/>\n",
       "</g>\n",
       "<!-- 140660851795280 -->\n",
       "<g class=\"node\" id=\"node10\"><title>140660851795280</title>\n",
       "<polygon fill=\"none\" points=\"203,-1168.5 203,-1204.5 283,-1204.5 283,-1168.5 203,-1168.5\" stroke=\"black\"/>\n",
       "<text font-family=\"Times,serif\" font-size=\"14.00\" text-anchor=\"middle\" x=\"243\" y=\"-1182.8\">add_1: Add</text>\n",
       "</g>\n",
       "<!-- 140662682643664&#45;&gt;140660851795280 -->\n",
       "<g class=\"edge\" id=\"edge10\"><title>140662682643664-&gt;140660851795280</title>\n",
       "<path d=\"M286.106,-1606.31C299.256,-1579.84 322,-1527.17 322,-1479.5 322,-1479.5 322,-1479.5 322,-1331.5 322,-1290.4 323.591,-1276.57 303,-1241 296.434,-1229.66 286.613,-1219.44 276.808,-1211.05\" fill=\"none\" stroke=\"black\"/>\n",
       "<polygon fill=\"black\" points=\"278.98,-1208.3 269.01,-1204.72 274.57,-1213.74 278.98,-1208.3\" stroke=\"black\"/>\n",
       "</g>\n",
       "<!-- 140660855000272 -->\n",
       "<g class=\"node\" id=\"node6\"><title>140660855000272</title>\n",
       "<polygon fill=\"none\" points=\"34,-1460.5 34,-1496.5 294,-1496.5 294,-1460.5 34,-1460.5\" stroke=\"black\"/>\n",
       "<text font-family=\"Times,serif\" font-size=\"14.00\" text-anchor=\"middle\" x=\"164\" y=\"-1474.8\">batch_normalization_2: BatchNormalization</text>\n",
       "</g>\n",
       "<!-- 140661210950480&#45;&gt;140660855000272 -->\n",
       "<g class=\"edge\" id=\"edge5\"><title>140661210950480-&gt;140660855000272</title>\n",
       "<path d=\"M189.77,-1533.31C185.802,-1525.03 180.957,-1514.91 176.543,-1505.69\" fill=\"none\" stroke=\"black\"/>\n",
       "<polygon fill=\"black\" points=\"179.63,-1504.04 172.155,-1496.53 173.317,-1507.06 179.63,-1504.04\" stroke=\"black\"/>\n",
       "</g>\n",
       "<!-- 140660854396368 -->\n",
       "<g class=\"node\" id=\"node7\"><title>140660854396368</title>\n",
       "<polygon fill=\"none\" points=\"90,-1387.5 90,-1423.5 238,-1423.5 238,-1387.5 90,-1387.5\" stroke=\"black\"/>\n",
       "<text font-family=\"Times,serif\" font-size=\"14.00\" text-anchor=\"middle\" x=\"164\" y=\"-1401.8\">activation_2: Activation</text>\n",
       "</g>\n",
       "<!-- 140660855000272&#45;&gt;140660854396368 -->\n",
       "<g class=\"edge\" id=\"edge6\"><title>140660855000272-&gt;140660854396368</title>\n",
       "<path d=\"M164,-1460.31C164,-1452.29 164,-1442.55 164,-1433.57\" fill=\"none\" stroke=\"black\"/>\n",
       "<polygon fill=\"black\" points=\"167.5,-1433.53 164,-1423.53 160.5,-1433.53 167.5,-1433.53\" stroke=\"black\"/>\n",
       "</g>\n",
       "<!-- 140660851958288 -->\n",
       "<g class=\"node\" id=\"node8\"><title>140660851958288</title>\n",
       "<polygon fill=\"none\" points=\"102.5,-1314.5 102.5,-1350.5 225.5,-1350.5 225.5,-1314.5 102.5,-1314.5\" stroke=\"black\"/>\n",
       "<text font-family=\"Times,serif\" font-size=\"14.00\" text-anchor=\"middle\" x=\"164\" y=\"-1328.8\">conv2d_3: Conv2D</text>\n",
       "</g>\n",
       "<!-- 140660854396368&#45;&gt;140660851958288 -->\n",
       "<g class=\"edge\" id=\"edge7\"><title>140660854396368-&gt;140660851958288</title>\n",
       "<path d=\"M164,-1387.31C164,-1379.29 164,-1369.55 164,-1360.57\" fill=\"none\" stroke=\"black\"/>\n",
       "<polygon fill=\"black\" points=\"167.5,-1360.53 164,-1350.53 160.5,-1360.53 167.5,-1360.53\" stroke=\"black\"/>\n",
       "</g>\n",
       "<!-- 140660852048400 -->\n",
       "<g class=\"node\" id=\"node9\"><title>140660852048400</title>\n",
       "<polygon fill=\"none\" points=\"34,-1241.5 34,-1277.5 294,-1277.5 294,-1241.5 34,-1241.5\" stroke=\"black\"/>\n",
       "<text font-family=\"Times,serif\" font-size=\"14.00\" text-anchor=\"middle\" x=\"164\" y=\"-1255.8\">batch_normalization_3: BatchNormalization</text>\n",
       "</g>\n",
       "<!-- 140660851958288&#45;&gt;140660852048400 -->\n",
       "<g class=\"edge\" id=\"edge8\"><title>140660851958288-&gt;140660852048400</title>\n",
       "<path d=\"M164,-1314.31C164,-1306.29 164,-1296.55 164,-1287.57\" fill=\"none\" stroke=\"black\"/>\n",
       "<polygon fill=\"black\" points=\"167.5,-1287.53 164,-1277.53 160.5,-1287.53 167.5,-1287.53\" stroke=\"black\"/>\n",
       "</g>\n",
       "<!-- 140660852048400&#45;&gt;140660851795280 -->\n",
       "<g class=\"edge\" id=\"edge9\"><title>140660852048400-&gt;140660851795280</title>\n",
       "<path d=\"M183.124,-1241.31C193.119,-1232.33 205.51,-1221.19 216.423,-1211.39\" fill=\"none\" stroke=\"black\"/>\n",
       "<polygon fill=\"black\" points=\"218.954,-1213.82 224.052,-1204.53 214.275,-1208.61 218.954,-1213.82\" stroke=\"black\"/>\n",
       "</g>\n",
       "<!-- 140660851598672 -->\n",
       "<g class=\"node\" id=\"node11\"><title>140660851598672</title>\n",
       "<polygon fill=\"none\" points=\"169,-1095.5 169,-1131.5 317,-1131.5 317,-1095.5 169,-1095.5\" stroke=\"black\"/>\n",
       "<text font-family=\"Times,serif\" font-size=\"14.00\" text-anchor=\"middle\" x=\"243\" y=\"-1109.8\">activation_3: Activation</text>\n",
       "</g>\n",
       "<!-- 140660851795280&#45;&gt;140660851598672 -->\n",
       "<g class=\"edge\" id=\"edge11\"><title>140660851795280-&gt;140660851598672</title>\n",
       "<path d=\"M243,-1168.31C243,-1160.29 243,-1150.55 243,-1141.57\" fill=\"none\" stroke=\"black\"/>\n",
       "<polygon fill=\"black\" points=\"246.5,-1141.53 243,-1131.53 239.5,-1141.53 246.5,-1141.53\" stroke=\"black\"/>\n",
       "</g>\n",
       "<!-- 140660851152848 -->\n",
       "<g class=\"node\" id=\"node12\"><title>140660851152848</title>\n",
       "<polygon fill=\"none\" points=\"102.5,-1022.5 102.5,-1058.5 225.5,-1058.5 225.5,-1022.5 102.5,-1022.5\" stroke=\"black\"/>\n",
       "<text font-family=\"Times,serif\" font-size=\"14.00\" text-anchor=\"middle\" x=\"164\" y=\"-1036.8\">conv2d_4: Conv2D</text>\n",
       "</g>\n",
       "<!-- 140660851598672&#45;&gt;140660851152848 -->\n",
       "<g class=\"edge\" id=\"edge12\"><title>140660851598672-&gt;140660851152848</title>\n",
       "<path d=\"M223.876,-1095.31C213.881,-1086.33 201.49,-1075.19 190.577,-1065.39\" fill=\"none\" stroke=\"black\"/>\n",
       "<polygon fill=\"black\" points=\"192.725,-1062.61 182.948,-1058.53 188.046,-1067.82 192.725,-1062.61\" stroke=\"black\"/>\n",
       "</g>\n",
       "<!-- 140660850530000 -->\n",
       "<g class=\"node\" id=\"node17\"><title>140660850530000</title>\n",
       "<polygon fill=\"none\" points=\"169,-657.5 169,-693.5 249,-693.5 249,-657.5 169,-657.5\" stroke=\"black\"/>\n",
       "<text font-family=\"Times,serif\" font-size=\"14.00\" text-anchor=\"middle\" x=\"209\" y=\"-671.8\">add_2: Add</text>\n",
       "</g>\n",
       "<!-- 140660851598672&#45;&gt;140660850530000 -->\n",
       "<g class=\"edge\" id=\"edge18\"><title>140660851598672-&gt;140660850530000</title>\n",
       "<path d=\"M252.106,-1095.31C265.256,-1068.84 288,-1016.17 288,-968.5 288,-968.5 288,-968.5 288,-820.5 288,-779.401 289.591,-765.569 269,-730 262.434,-718.659 252.613,-708.439 242.808,-700.045\" fill=\"none\" stroke=\"black\"/>\n",
       "<polygon fill=\"black\" points=\"244.98,-697.301 235.01,-693.718 240.57,-702.736 244.98,-697.301\" stroke=\"black\"/>\n",
       "</g>\n",
       "<!-- 140660851330256 -->\n",
       "<g class=\"node\" id=\"node13\"><title>140660851330256</title>\n",
       "<polygon fill=\"none\" points=\"0,-949.5 0,-985.5 260,-985.5 260,-949.5 0,-949.5\" stroke=\"black\"/>\n",
       "<text font-family=\"Times,serif\" font-size=\"14.00\" text-anchor=\"middle\" x=\"130\" y=\"-963.8\">batch_normalization_4: BatchNormalization</text>\n",
       "</g>\n",
       "<!-- 140660851152848&#45;&gt;140660851330256 -->\n",
       "<g class=\"edge\" id=\"edge13\"><title>140660851152848-&gt;140660851330256</title>\n",
       "<path d=\"M155.77,-1022.31C151.802,-1014.03 146.957,-1003.91 142.543,-994.693\" fill=\"none\" stroke=\"black\"/>\n",
       "<polygon fill=\"black\" points=\"145.63,-993.036 138.155,-985.529 139.317,-996.06 145.63,-993.036\" stroke=\"black\"/>\n",
       "</g>\n",
       "<!-- 140660850899792 -->\n",
       "<g class=\"node\" id=\"node14\"><title>140660850899792</title>\n",
       "<polygon fill=\"none\" points=\"56,-876.5 56,-912.5 204,-912.5 204,-876.5 56,-876.5\" stroke=\"black\"/>\n",
       "<text font-family=\"Times,serif\" font-size=\"14.00\" text-anchor=\"middle\" x=\"130\" y=\"-890.8\">activation_4: Activation</text>\n",
       "</g>\n",
       "<!-- 140660851330256&#45;&gt;140660850899792 -->\n",
       "<g class=\"edge\" id=\"edge14\"><title>140660851330256-&gt;140660850899792</title>\n",
       "<path d=\"M130,-949.313C130,-941.289 130,-931.547 130,-922.569\" fill=\"none\" stroke=\"black\"/>\n",
       "<polygon fill=\"black\" points=\"133.5,-922.529 130,-912.529 126.5,-922.529 133.5,-922.529\" stroke=\"black\"/>\n",
       "</g>\n",
       "<!-- 140660850701008 -->\n",
       "<g class=\"node\" id=\"node15\"><title>140660850701008</title>\n",
       "<polygon fill=\"none\" points=\"68.5,-803.5 68.5,-839.5 191.5,-839.5 191.5,-803.5 68.5,-803.5\" stroke=\"black\"/>\n",
       "<text font-family=\"Times,serif\" font-size=\"14.00\" text-anchor=\"middle\" x=\"130\" y=\"-817.8\">conv2d_5: Conv2D</text>\n",
       "</g>\n",
       "<!-- 140660850899792&#45;&gt;140660850701008 -->\n",
       "<g class=\"edge\" id=\"edge15\"><title>140660850899792-&gt;140660850701008</title>\n",
       "<path d=\"M130,-876.313C130,-868.289 130,-858.547 130,-849.569\" fill=\"none\" stroke=\"black\"/>\n",
       "<polygon fill=\"black\" points=\"133.5,-849.529 130,-839.529 126.5,-849.529 133.5,-849.529\" stroke=\"black\"/>\n",
       "</g>\n",
       "<!-- 140660850783312 -->\n",
       "<g class=\"node\" id=\"node16\"><title>140660850783312</title>\n",
       "<polygon fill=\"none\" points=\"0,-730.5 0,-766.5 260,-766.5 260,-730.5 0,-730.5\" stroke=\"black\"/>\n",
       "<text font-family=\"Times,serif\" font-size=\"14.00\" text-anchor=\"middle\" x=\"130\" y=\"-744.8\">batch_normalization_5: BatchNormalization</text>\n",
       "</g>\n",
       "<!-- 140660850701008&#45;&gt;140660850783312 -->\n",
       "<g class=\"edge\" id=\"edge16\"><title>140660850701008-&gt;140660850783312</title>\n",
       "<path d=\"M130,-803.313C130,-795.289 130,-785.547 130,-776.569\" fill=\"none\" stroke=\"black\"/>\n",
       "<polygon fill=\"black\" points=\"133.5,-776.529 130,-766.529 126.5,-776.529 133.5,-776.529\" stroke=\"black\"/>\n",
       "</g>\n",
       "<!-- 140660850783312&#45;&gt;140660850530000 -->\n",
       "<g class=\"edge\" id=\"edge17\"><title>140660850783312-&gt;140660850530000</title>\n",
       "<path d=\"M149.124,-730.313C159.119,-721.33 171.51,-710.193 182.423,-700.386\" fill=\"none\" stroke=\"black\"/>\n",
       "<polygon fill=\"black\" points=\"184.954,-702.816 190.052,-693.529 180.275,-697.61 184.954,-702.816\" stroke=\"black\"/>\n",
       "</g>\n",
       "<!-- 140660849813200 -->\n",
       "<g class=\"node\" id=\"node18\"><title>140660849813200</title>\n",
       "<polygon fill=\"none\" points=\"135,-584.5 135,-620.5 283,-620.5 283,-584.5 135,-584.5\" stroke=\"black\"/>\n",
       "<text font-family=\"Times,serif\" font-size=\"14.00\" text-anchor=\"middle\" x=\"209\" y=\"-598.8\">activation_5: Activation</text>\n",
       "</g>\n",
       "<!-- 140660850530000&#45;&gt;140660849813200 -->\n",
       "<g class=\"edge\" id=\"edge19\"><title>140660850530000-&gt;140660849813200</title>\n",
       "<path d=\"M209,-657.313C209,-649.289 209,-639.547 209,-630.569\" fill=\"none\" stroke=\"black\"/>\n",
       "<polygon fill=\"black\" points=\"212.5,-630.529 209,-620.529 205.5,-630.529 212.5,-630.529\" stroke=\"black\"/>\n",
       "</g>\n",
       "<!-- 140660849891920 -->\n",
       "<g class=\"node\" id=\"node19\"><title>140660849891920</title>\n",
       "<polygon fill=\"none\" points=\"147.5,-511.5 147.5,-547.5 270.5,-547.5 270.5,-511.5 147.5,-511.5\" stroke=\"black\"/>\n",
       "<text font-family=\"Times,serif\" font-size=\"14.00\" text-anchor=\"middle\" x=\"209\" y=\"-525.8\">conv2d_6: Conv2D</text>\n",
       "</g>\n",
       "<!-- 140660849813200&#45;&gt;140660849891920 -->\n",
       "<g class=\"edge\" id=\"edge20\"><title>140660849813200-&gt;140660849891920</title>\n",
       "<path d=\"M209,-584.313C209,-576.289 209,-566.547 209,-557.569\" fill=\"none\" stroke=\"black\"/>\n",
       "<polygon fill=\"black\" points=\"212.5,-557.529 209,-547.529 205.5,-557.529 212.5,-557.529\" stroke=\"black\"/>\n",
       "</g>\n",
       "<!-- 140660849549136 -->\n",
       "<g class=\"node\" id=\"node20\"><title>140660849549136</title>\n",
       "<polygon fill=\"none\" points=\"79,-438.5 79,-474.5 339,-474.5 339,-438.5 79,-438.5\" stroke=\"black\"/>\n",
       "<text font-family=\"Times,serif\" font-size=\"14.00\" text-anchor=\"middle\" x=\"209\" y=\"-452.8\">batch_normalization_6: BatchNormalization</text>\n",
       "</g>\n",
       "<!-- 140660849891920&#45;&gt;140660849549136 -->\n",
       "<g class=\"edge\" id=\"edge21\"><title>140660849891920-&gt;140660849549136</title>\n",
       "<path d=\"M209,-511.313C209,-503.289 209,-493.547 209,-484.569\" fill=\"none\" stroke=\"black\"/>\n",
       "<polygon fill=\"black\" points=\"212.5,-484.529 209,-474.529 205.5,-484.529 212.5,-484.529\" stroke=\"black\"/>\n",
       "</g>\n",
       "<!-- 140660849651216 -->\n",
       "<g class=\"node\" id=\"node21\"><title>140660849651216</title>\n",
       "<polygon fill=\"none\" points=\"135,-365.5 135,-401.5 283,-401.5 283,-365.5 135,-365.5\" stroke=\"black\"/>\n",
       "<text font-family=\"Times,serif\" font-size=\"14.00\" text-anchor=\"middle\" x=\"209\" y=\"-379.8\">activation_6: Activation</text>\n",
       "</g>\n",
       "<!-- 140660849549136&#45;&gt;140660849651216 -->\n",
       "<g class=\"edge\" id=\"edge22\"><title>140660849549136-&gt;140660849651216</title>\n",
       "<path d=\"M209,-438.313C209,-430.289 209,-420.547 209,-411.569\" fill=\"none\" stroke=\"black\"/>\n",
       "<polygon fill=\"black\" points=\"212.5,-411.529 209,-401.529 205.5,-411.529 212.5,-411.529\" stroke=\"black\"/>\n",
       "</g>\n",
       "<!-- 140660849171920 -->\n",
       "<g class=\"node\" id=\"node22\"><title>140660849171920</title>\n",
       "<polygon fill=\"none\" points=\"154,-292.5 154,-328.5 264,-328.5 264,-292.5 154,-292.5\" stroke=\"black\"/>\n",
       "<text font-family=\"Times,serif\" font-size=\"14.00\" text-anchor=\"middle\" x=\"209\" y=\"-306.8\">flatten_1: Flatten</text>\n",
       "</g>\n",
       "<!-- 140660849651216&#45;&gt;140660849171920 -->\n",
       "<g class=\"edge\" id=\"edge23\"><title>140660849651216-&gt;140660849171920</title>\n",
       "<path d=\"M209,-365.313C209,-357.289 209,-347.547 209,-338.569\" fill=\"none\" stroke=\"black\"/>\n",
       "<polygon fill=\"black\" points=\"212.5,-338.529 209,-328.529 205.5,-338.529 212.5,-338.529\" stroke=\"black\"/>\n",
       "</g>\n",
       "<!-- 140660848999696 -->\n",
       "<g class=\"node\" id=\"node23\"><title>140660848999696</title>\n",
       "<polygon fill=\"none\" points=\"158,-219.5 158,-255.5 260,-255.5 260,-219.5 158,-219.5\" stroke=\"black\"/>\n",
       "<text font-family=\"Times,serif\" font-size=\"14.00\" text-anchor=\"middle\" x=\"209\" y=\"-233.8\">dense_1: Dense</text>\n",
       "</g>\n",
       "<!-- 140660849171920&#45;&gt;140660848999696 -->\n",
       "<g class=\"edge\" id=\"edge24\"><title>140660849171920-&gt;140660848999696</title>\n",
       "<path d=\"M209,-292.313C209,-284.289 209,-274.547 209,-265.569\" fill=\"none\" stroke=\"black\"/>\n",
       "<polygon fill=\"black\" points=\"212.5,-265.529 209,-255.529 205.5,-265.529 212.5,-265.529\" stroke=\"black\"/>\n",
       "</g>\n",
       "<!-- 140660848910096 -->\n",
       "<g class=\"node\" id=\"node24\"><title>140660848910096</title>\n",
       "<polygon fill=\"none\" points=\"158,-146.5 158,-182.5 260,-182.5 260,-146.5 158,-146.5\" stroke=\"black\"/>\n",
       "<text font-family=\"Times,serif\" font-size=\"14.00\" text-anchor=\"middle\" x=\"209\" y=\"-160.8\">dense_2: Dense</text>\n",
       "</g>\n",
       "<!-- 140660848999696&#45;&gt;140660848910096 -->\n",
       "<g class=\"edge\" id=\"edge25\"><title>140660848999696-&gt;140660848910096</title>\n",
       "<path d=\"M209,-219.313C209,-211.289 209,-201.547 209,-192.569\" fill=\"none\" stroke=\"black\"/>\n",
       "<polygon fill=\"black\" points=\"212.5,-192.529 209,-182.529 205.5,-192.529 212.5,-192.529\" stroke=\"black\"/>\n",
       "</g>\n",
       "<!-- 140660848563984 -->\n",
       "<g class=\"node\" id=\"node26\"><title>140660848563984</title>\n",
       "<polygon fill=\"none\" points=\"189,-73.5 189,-109.5 357,-109.5 357,-73.5 189,-73.5\" stroke=\"black\"/>\n",
       "<text font-family=\"Times,serif\" font-size=\"14.00\" text-anchor=\"middle\" x=\"273\" y=\"-87.8\">concatenate_1: Concatenate</text>\n",
       "</g>\n",
       "<!-- 140660848910096&#45;&gt;140660848563984 -->\n",
       "<g class=\"edge\" id=\"edge26\"><title>140660848910096-&gt;140660848563984</title>\n",
       "<path d=\"M224.493,-146.313C232.432,-137.505 242.239,-126.625 250.953,-116.958\" fill=\"none\" stroke=\"black\"/>\n",
       "<polygon fill=\"black\" points=\"253.554,-119.3 257.65,-109.529 248.355,-114.613 253.554,-119.3\" stroke=\"black\"/>\n",
       "</g>\n",
       "<!-- 140660855307536 -->\n",
       "<g class=\"node\" id=\"node25\"><title>140660855307536</title>\n",
       "<polygon fill=\"none\" points=\"278.5,-146.5 278.5,-182.5 397.5,-182.5 397.5,-146.5 278.5,-146.5\" stroke=\"black\"/>\n",
       "<text font-family=\"Times,serif\" font-size=\"14.00\" text-anchor=\"middle\" x=\"338\" y=\"-160.8\">input2: InputLayer</text>\n",
       "</g>\n",
       "<!-- 140660855307536&#45;&gt;140660848563984 -->\n",
       "<g class=\"edge\" id=\"edge27\"><title>140660855307536-&gt;140660848563984</title>\n",
       "<path d=\"M322.265,-146.313C314.201,-137.505 304.241,-126.625 295.392,-116.958\" fill=\"none\" stroke=\"black\"/>\n",
       "<polygon fill=\"black\" points=\"297.924,-114.541 288.59,-109.529 292.761,-119.268 297.924,-114.541\" stroke=\"black\"/>\n",
       "</g>\n",
       "<!-- 140660848225936 -->\n",
       "<g class=\"node\" id=\"node27\"><title>140660848225936</title>\n",
       "<polygon fill=\"none\" points=\"222,-0.5 222,-36.5 324,-36.5 324,-0.5 222,-0.5\" stroke=\"black\"/>\n",
       "<text font-family=\"Times,serif\" font-size=\"14.00\" text-anchor=\"middle\" x=\"273\" y=\"-14.8\">dense_3: Dense</text>\n",
       "</g>\n",
       "<!-- 140660848563984&#45;&gt;140660848225936 -->\n",
       "<g class=\"edge\" id=\"edge28\"><title>140660848563984-&gt;140660848225936</title>\n",
       "<path d=\"M273,-73.3129C273,-65.2895 273,-55.5475 273,-46.5691\" fill=\"none\" stroke=\"black\"/>\n",
       "<polygon fill=\"black\" points=\"276.5,-46.5288 273,-36.5288 269.5,-46.5289 276.5,-46.5288\" stroke=\"black\"/>\n",
       "</g>\n",
       "</g>\n",
       "</svg>"
      ],
      "text/plain": [
       "<IPython.core.display.SVG object>"
      ]
     },
     "execution_count": 6,
     "metadata": {},
     "output_type": "execute_result"
    }
   ],
   "source": [
    "from IPython.display import SVG\n",
    "from keras.utils.vis_utils import model_to_dot\n",
    "\n",
    "SVG(model_to_dot(convnet).create(prog='dot', format='svg'))"
   ]
  },
  {
   "cell_type": "code",
   "execution_count": 7,
   "metadata": {},
   "outputs": [
    {
     "name": "stdout",
     "output_type": "stream",
     "text": [
      "__________________________________________________________________________________________________\n",
      "Layer (type)                    Output Shape         Param #     Connected to                     \n",
      "==================================================================================================\n",
      "input_11 (InputLayer)           (None, 15, 15, 56)   0                                            \n",
      "__________________________________________________________________________________________________\n",
      "input_12 (InputLayer)           (None, 2)            0                                            \n",
      "__________________________________________________________________________________________________\n",
      "input_21 (InputLayer)           (None, 15, 15, 56)   0                                            \n",
      "__________________________________________________________________________________________________\n",
      "input_22 (InputLayer)           (None, 2)            0                                            \n",
      "__________________________________________________________________________________________________\n",
      "model_1 (Model)                 (None, 1)            25013       input_11[0][0]                   \n",
      "                                                                 input_12[0][0]                   \n",
      "                                                                 input_21[0][0]                   \n",
      "                                                                 input_22[0][0]                   \n",
      "__________________________________________________________________________________________________\n",
      "lambda_1 (Lambda)               (None, 1)            0           model_1[2][0]                    \n",
      "__________________________________________________________________________________________________\n",
      "add_3 (Add)                     (None, 1)            0           model_1[1][0]                    \n",
      "                                                                 lambda_1[0][0]                   \n",
      "__________________________________________________________________________________________________\n",
      "activation_7 (Activation)       (None, 1)            0           add_3[0][0]                      \n",
      "==================================================================================================\n",
      "Total params: 25,013\n",
      "Trainable params: 24,849\n",
      "Non-trainable params: 164\n",
      "__________________________________________________________________________________________________\n",
      "None\n"
     ]
    }
   ],
   "source": [
    "from keras import layers\n",
    "# from keras.layers import Subtract\n",
    "base_network = convnet\n",
    "input_a_1 = Input(shape=INPUT_SHAPE, name='input_11')\n",
    "input_a_2 = Input(shape=(2,), name='input_12')\n",
    "processed_a = base_network(inputs = [input_a_1, input_a_2])\n",
    "input_b_1 = Input(shape=INPUT_SHAPE, name='input_21')\n",
    "input_b_2 = Input(shape=(2,), name='input_22')\n",
    "processed_b = base_network(inputs = [input_b_1, input_b_2])\n",
    "negative_b =  Lambda(lambda x: -x)(processed_b)\n",
    "distance = layers.Add()([processed_a, negative_b])\n",
    "out = Activation('sigmoid')(distance)\n",
    "siamese_net = Model(inputs = [input_a_1, input_a_2, input_b_1, input_b_2], outputs = out)\n",
    "siamese_net.save_weights(INIT_WEIGHTS)\n",
    "print(siamese_net.summary())"
   ]
  },
  {
   "cell_type": "code",
   "execution_count": 11,
   "metadata": {
    "collapsed": true
   },
   "outputs": [],
   "source": [
    "# Load moves\n",
    "import cPickle as pickle\n",
    "MOVES = pickle.load(open(\"../moves_dict.p\", \"rb\"))\n",
    "# Load Boards\n",
    "BOARDS = pickle.load(open(\"../boards_dict.p\", \"rb\"))\n",
    "keys = BOARDS.keys()"
   ]
  },
  {
   "cell_type": "code",
   "execution_count": 11,
   "metadata": {
    "collapsed": true
   },
   "outputs": [],
   "source": [
    "import convert_boards; reload(convert_boards)\n",
    "from convert_boards import convert_board\n",
    "board = BOARDS[keys[0]][0]\n",
    "x = convert_board(board)"
   ]
  },
  {
   "cell_type": "code",
   "execution_count": 12,
   "metadata": {},
   "outputs": [
    {
     "name": "stdout",
     "output_type": "stream",
     "text": [
      "[['=' ' ' ' ' \"'\" ' ' ' ' ' ' '=' ' ' ' ' ' ' \"'\" ' ' ' ' '=']\n",
      " [' ' 'L' ' ' ' ' ' ' 'K' ' ' ' ' ' ' '\"' ' ' ' ' ' ' '-' ' ']\n",
      " [' ' 'W' 'H' 'I' 'N' 'G' 'Y' ' ' \"'\" ' ' ' ' ' ' '-' ' ' ' ']\n",
      " ['P' 'E' 'E' 'D' ' ' 'O' ' ' \"'\" ' ' 'J' 'A' 'M' 'A' 'A' 'T']\n",
      " [' ' 'I' ' ' ' ' '-' 'T' ' ' ' ' 'N' 'A' 'R' 'I' 'A' 'L' ' ']\n",
      " [' ' '\"' ' ' ' ' ' ' 'L' ' ' ' ' ' ' 'V' ' ' ' ' ' ' '\"' ' ']\n",
      " [' ' ' ' \"'\" ' ' ' ' 'A' \"'\" ' ' \"'\" 'E' ' ' ' ' \"'\" ' ' ' ']\n",
      " ['=' ' ' ' ' \"'\" ' ' 'S' 'C' 'O' 'W' 'L' 's' \"'\" ' ' ' ' '=']\n",
      " [' ' ' ' \"'\" ' ' ' ' ' ' \"'\" ' ' \"'\" ' ' 'P' ' ' 'F' ' ' ' ']\n",
      " [' ' '\"' ' ' ' ' ' ' '\"' ' ' ' ' ' ' '\"' 'U' ' ' 'I' '\"' ' ']\n",
      " [' ' ' ' ' ' ' ' '-' ' ' ' ' ' ' ' ' ' ' 'D' ' ' 'O' ' ' ' ']\n",
      " [\"'\" ' ' ' ' '-' ' ' 'G' 'R' 'O' 'U' 'N' 'D' 'E' 'R' ' ' \"'\"]\n",
      " [' ' ' ' 'F' 'O' 'G' 'I' 'E' ' ' \"'\" ' ' 'E' ' ' 'D' ' ' ' ']\n",
      " [' ' 'R' 'A' 'M' 'I' 'N' ' ' ' ' ' ' '\"' 'R' ' ' ' ' '-' ' ']\n",
      " ['=' ' ' ' ' 'S' 'E' 'N' 'O' 'p' 'I' 'A' ' ' \"'\" ' ' ' ' '=']]\n"
     ]
    }
   ],
   "source": [
    "for key in BOARDS:\n",
    "    print(BOARDS[key][0])\n",
    "    break"
   ]
  },
  {
   "cell_type": "code",
   "execution_count": 13,
   "metadata": {
    "collapsed": true
   },
   "outputs": [],
   "source": [
    "num = len(keys) + 1\n",
    "BOARDS_small = {k: BOARDS[k] for k in keys[:num]}\n",
    "scores_leaves = {k : [i[:2] for i in v] for k, v in MOVES.iteritems() if k in BOARDS_small}"
   ]
  },
  {
   "cell_type": "code",
   "execution_count": 14,
   "metadata": {
    "collapsed": true
   },
   "outputs": [],
   "source": [
    "# import convert_boards; reload(convert_boards)\n",
    "# from convert_boards import convert_boards\n",
    "# boards = convert_boards(BOARDS_small)\n",
    "boards = BOARDS_small"
   ]
  },
  {
   "cell_type": "code",
   "execution_count": 15,
   "metadata": {
    "collapsed": true
   },
   "outputs": [],
   "source": [
    "from keras.callbacks import ReduceLROnPlateau, ModelCheckpoint, EarlyStopping\n",
    "reduce_lr = ReduceLROnPlateau(monitor='val_acc', factor=0.5,\n",
    "              patience=1, verbose = 1, min_lr=5e-8)\n",
    "early_stopping = EarlyStopping(monitor='val_acc',\n",
    "                              min_delta=1e-3,\n",
    "                              patience=25,\n",
    "                              verbose=0, mode='auto')\n",
    "checkpointer = ModelCheckpoint(filepath=CHECKPOINTED_WEIGHTS, verbose=1, save_best_only=True, monitor='val_acc')"
   ]
  },
  {
   "cell_type": "code",
   "execution_count": 16,
   "metadata": {
    "scrolled": true
   },
   "outputs": [
    {
     "name": "stdout",
     "output_type": "stream",
     "text": [
      "Experience buffer generated\n",
      "Experience buffer saved to experience_buffer.p\n",
      "Train: 568313 Val: 11599\n"
     ]
    }
   ],
   "source": [
    "import utils_board; reload(utils_board)\n",
    "from utils_board import DataGeneratorTest, BoardDataGenerator\n",
    "\n",
    "# keys_small = keys[:100000]\n",
    "# board_small = {k : boards[k] for k in keys_small}\n",
    "# scores_small = {k: scores[k] for k in keys_small}\n",
    "\n",
    "BATCH_SIZE = 32 #512\n",
    "EXPERIENCE_BUFFER_FILE = \"experience_buffer/test_scores.npz\" \n",
    "load_from_file = False #os.path.exists(EXPERIENCE_BUFFER_FILE)\n",
    "save_to_file = True\n",
    "datagen = BoardDataGenerator(boards, scores_leaves, batch_sz = BATCH_SIZE, load_from_file = load_from_file, \n",
    "                 save_to_file = save_to_file)"
   ]
  },
  {
   "cell_type": "code",
   "execution_count": 17,
   "metadata": {
    "collapsed": true
   },
   "outputs": [],
   "source": [
    "# NUM_TRAIN = 187494\n",
    "# NUM_VAL = 3750\n",
    "NUM_TRAIN, NUM_VAL = datagen.get_num_pairs()\n",
    "STEPS_PER_EPOCH = NUM_TRAIN//BATCH_SIZE\n",
    "VALIDATION_STEPS = NUM_VAL//BATCH_SIZE"
   ]
  },
  {
   "cell_type": "code",
   "execution_count": 29,
   "metadata": {
    "collapsed": true
   },
   "outputs": [],
   "source": [
    "nadam = Nadam(lr=1e-6)\n",
    "siamese_net.compile(optimizer=nadam, loss='binary_crossentropy', metrics=['accuracy'])\n",
    "# siamese_net.load_weights(INIT_WEIGHTS)"
   ]
  },
  {
   "cell_type": "code",
   "execution_count": 30,
   "metadata": {
    "scrolled": false
   },
   "outputs": [
    {
     "name": "stdout",
     "output_type": "stream",
     "text": [
      "Epoch 1/10\n",
      "  388/17759 [..............................] - ETA: 13:21 - loss: 0.0103 - acc: 1.0000"
     ]
    },
    {
     "ename": "KeyboardInterrupt",
     "evalue": "",
     "output_type": "error",
     "traceback": [
      "\u001b[0;31m---------------------------------------------------------------------------\u001b[0m",
      "\u001b[0;31mKeyboardInterrupt\u001b[0m                         Traceback (most recent call last)",
      "\u001b[0;32m<ipython-input-30-ef463181fa43>\u001b[0m in \u001b[0;36m<module>\u001b[0;34m()\u001b[0m\n\u001b[1;32m      6\u001b[0m         \u001b[0mvalidation_data\u001b[0m\u001b[0;34m=\u001b[0m\u001b[0mdatagen\u001b[0m\u001b[0;34m.\u001b[0m\u001b[0mnext_val\u001b[0m\u001b[0;34m(\u001b[0m\u001b[0;34m)\u001b[0m\u001b[0;34m,\u001b[0m\u001b[0;34m\u001b[0m\u001b[0m\n\u001b[1;32m      7\u001b[0m         \u001b[0mvalidation_steps\u001b[0m\u001b[0;34m=\u001b[0m\u001b[0mVALIDATION_STEPS\u001b[0m\u001b[0;34m,\u001b[0m\u001b[0;34m\u001b[0m\u001b[0m\n\u001b[0;32m----> 8\u001b[0;31m         callbacks = [reduce_lr, checkpointer, early_stopping])\n\u001b[0m",
      "\u001b[0;32m/home/rishabh/anaconda2/lib/python2.7/site-packages/keras/legacy/interfaces.pyc\u001b[0m in \u001b[0;36mwrapper\u001b[0;34m(*args, **kwargs)\u001b[0m\n\u001b[1;32m     85\u001b[0m                 warnings.warn('Update your `' + object_name +\n\u001b[1;32m     86\u001b[0m                               '` call to the Keras 2 API: ' + signature, stacklevel=2)\n\u001b[0;32m---> 87\u001b[0;31m             \u001b[0;32mreturn\u001b[0m \u001b[0mfunc\u001b[0m\u001b[0;34m(\u001b[0m\u001b[0;34m*\u001b[0m\u001b[0margs\u001b[0m\u001b[0;34m,\u001b[0m \u001b[0;34m**\u001b[0m\u001b[0mkwargs\u001b[0m\u001b[0;34m)\u001b[0m\u001b[0;34m\u001b[0m\u001b[0m\n\u001b[0m\u001b[1;32m     88\u001b[0m         \u001b[0mwrapper\u001b[0m\u001b[0;34m.\u001b[0m\u001b[0m_original_function\u001b[0m \u001b[0;34m=\u001b[0m \u001b[0mfunc\u001b[0m\u001b[0;34m\u001b[0m\u001b[0m\n\u001b[1;32m     89\u001b[0m         \u001b[0;32mreturn\u001b[0m \u001b[0mwrapper\u001b[0m\u001b[0;34m\u001b[0m\u001b[0m\n",
      "\u001b[0;32m/home/rishabh/anaconda2/lib/python2.7/site-packages/keras/engine/training.pyc\u001b[0m in \u001b[0;36mfit_generator\u001b[0;34m(self, generator, steps_per_epoch, epochs, verbose, callbacks, validation_data, validation_steps, class_weight, max_queue_size, workers, use_multiprocessing, shuffle, initial_epoch)\u001b[0m\n\u001b[1;32m   2112\u001b[0m                     outs = self.train_on_batch(x, y,\n\u001b[1;32m   2113\u001b[0m                                                \u001b[0msample_weight\u001b[0m\u001b[0;34m=\u001b[0m\u001b[0msample_weight\u001b[0m\u001b[0;34m,\u001b[0m\u001b[0;34m\u001b[0m\u001b[0m\n\u001b[0;32m-> 2114\u001b[0;31m                                                class_weight=class_weight)\n\u001b[0m\u001b[1;32m   2115\u001b[0m \u001b[0;34m\u001b[0m\u001b[0m\n\u001b[1;32m   2116\u001b[0m                     \u001b[0;32mif\u001b[0m \u001b[0;32mnot\u001b[0m \u001b[0misinstance\u001b[0m\u001b[0;34m(\u001b[0m\u001b[0mouts\u001b[0m\u001b[0;34m,\u001b[0m \u001b[0mlist\u001b[0m\u001b[0;34m)\u001b[0m\u001b[0;34m:\u001b[0m\u001b[0;34m\u001b[0m\u001b[0m\n",
      "\u001b[0;32m/home/rishabh/anaconda2/lib/python2.7/site-packages/keras/engine/training.pyc\u001b[0m in \u001b[0;36mtrain_on_batch\u001b[0;34m(self, x, y, sample_weight, class_weight)\u001b[0m\n\u001b[1;32m   1830\u001b[0m             \u001b[0mins\u001b[0m \u001b[0;34m=\u001b[0m \u001b[0mx\u001b[0m \u001b[0;34m+\u001b[0m \u001b[0my\u001b[0m \u001b[0;34m+\u001b[0m \u001b[0msample_weights\u001b[0m\u001b[0;34m\u001b[0m\u001b[0m\n\u001b[1;32m   1831\u001b[0m         \u001b[0mself\u001b[0m\u001b[0;34m.\u001b[0m\u001b[0m_make_train_function\u001b[0m\u001b[0;34m(\u001b[0m\u001b[0;34m)\u001b[0m\u001b[0;34m\u001b[0m\u001b[0m\n\u001b[0;32m-> 1832\u001b[0;31m         \u001b[0moutputs\u001b[0m \u001b[0;34m=\u001b[0m \u001b[0mself\u001b[0m\u001b[0;34m.\u001b[0m\u001b[0mtrain_function\u001b[0m\u001b[0;34m(\u001b[0m\u001b[0mins\u001b[0m\u001b[0;34m)\u001b[0m\u001b[0;34m\u001b[0m\u001b[0m\n\u001b[0m\u001b[1;32m   1833\u001b[0m         \u001b[0;32mif\u001b[0m \u001b[0mlen\u001b[0m\u001b[0;34m(\u001b[0m\u001b[0moutputs\u001b[0m\u001b[0;34m)\u001b[0m \u001b[0;34m==\u001b[0m \u001b[0;36m1\u001b[0m\u001b[0;34m:\u001b[0m\u001b[0;34m\u001b[0m\u001b[0m\n\u001b[1;32m   1834\u001b[0m             \u001b[0;32mreturn\u001b[0m \u001b[0moutputs\u001b[0m\u001b[0;34m[\u001b[0m\u001b[0;36m0\u001b[0m\u001b[0;34m]\u001b[0m\u001b[0;34m\u001b[0m\u001b[0m\n",
      "\u001b[0;32m/home/rishabh/anaconda2/lib/python2.7/site-packages/keras/backend/tensorflow_backend.pyc\u001b[0m in \u001b[0;36m__call__\u001b[0;34m(self, inputs)\u001b[0m\n\u001b[1;32m   2350\u001b[0m         \u001b[0msession\u001b[0m \u001b[0;34m=\u001b[0m \u001b[0mget_session\u001b[0m\u001b[0;34m(\u001b[0m\u001b[0;34m)\u001b[0m\u001b[0;34m\u001b[0m\u001b[0m\n\u001b[1;32m   2351\u001b[0m         updated = session.run(fetches=fetches, feed_dict=feed_dict,\n\u001b[0;32m-> 2352\u001b[0;31m                               **self.session_kwargs)\n\u001b[0m\u001b[1;32m   2353\u001b[0m         \u001b[0;32mreturn\u001b[0m \u001b[0mupdated\u001b[0m\u001b[0;34m[\u001b[0m\u001b[0;34m:\u001b[0m\u001b[0mlen\u001b[0m\u001b[0;34m(\u001b[0m\u001b[0mself\u001b[0m\u001b[0;34m.\u001b[0m\u001b[0moutputs\u001b[0m\u001b[0;34m)\u001b[0m\u001b[0;34m]\u001b[0m\u001b[0;34m\u001b[0m\u001b[0m\n\u001b[1;32m   2354\u001b[0m \u001b[0;34m\u001b[0m\u001b[0m\n",
      "\u001b[0;32m/home/rishabh/anaconda2/lib/python2.7/site-packages/tensorflow/python/client/session.pyc\u001b[0m in \u001b[0;36mrun\u001b[0;34m(self, fetches, feed_dict, options, run_metadata)\u001b[0m\n\u001b[1;32m    787\u001b[0m     \u001b[0;32mtry\u001b[0m\u001b[0;34m:\u001b[0m\u001b[0;34m\u001b[0m\u001b[0m\n\u001b[1;32m    788\u001b[0m       result = self._run(None, fetches, feed_dict, options_ptr,\n\u001b[0;32m--> 789\u001b[0;31m                          run_metadata_ptr)\n\u001b[0m\u001b[1;32m    790\u001b[0m       \u001b[0;32mif\u001b[0m \u001b[0mrun_metadata\u001b[0m\u001b[0;34m:\u001b[0m\u001b[0;34m\u001b[0m\u001b[0m\n\u001b[1;32m    791\u001b[0m         \u001b[0mproto_data\u001b[0m \u001b[0;34m=\u001b[0m \u001b[0mtf_session\u001b[0m\u001b[0;34m.\u001b[0m\u001b[0mTF_GetBuffer\u001b[0m\u001b[0;34m(\u001b[0m\u001b[0mrun_metadata_ptr\u001b[0m\u001b[0;34m)\u001b[0m\u001b[0;34m\u001b[0m\u001b[0m\n",
      "\u001b[0;32m/home/rishabh/anaconda2/lib/python2.7/site-packages/tensorflow/python/client/session.pyc\u001b[0m in \u001b[0;36m_run\u001b[0;34m(self, handle, fetches, feed_dict, options, run_metadata)\u001b[0m\n\u001b[1;32m    995\u001b[0m     \u001b[0;32mif\u001b[0m \u001b[0mfinal_fetches\u001b[0m \u001b[0;32mor\u001b[0m \u001b[0mfinal_targets\u001b[0m\u001b[0;34m:\u001b[0m\u001b[0;34m\u001b[0m\u001b[0m\n\u001b[1;32m    996\u001b[0m       results = self._do_run(handle, final_targets, final_fetches,\n\u001b[0;32m--> 997\u001b[0;31m                              feed_dict_string, options, run_metadata)\n\u001b[0m\u001b[1;32m    998\u001b[0m     \u001b[0;32melse\u001b[0m\u001b[0;34m:\u001b[0m\u001b[0;34m\u001b[0m\u001b[0m\n\u001b[1;32m    999\u001b[0m       \u001b[0mresults\u001b[0m \u001b[0;34m=\u001b[0m \u001b[0;34m[\u001b[0m\u001b[0;34m]\u001b[0m\u001b[0;34m\u001b[0m\u001b[0m\n",
      "\u001b[0;32m/home/rishabh/anaconda2/lib/python2.7/site-packages/tensorflow/python/client/session.pyc\u001b[0m in \u001b[0;36m_do_run\u001b[0;34m(self, handle, target_list, fetch_list, feed_dict, options, run_metadata)\u001b[0m\n\u001b[1;32m   1130\u001b[0m     \u001b[0;32mif\u001b[0m \u001b[0mhandle\u001b[0m \u001b[0;32mis\u001b[0m \u001b[0mNone\u001b[0m\u001b[0;34m:\u001b[0m\u001b[0;34m\u001b[0m\u001b[0m\n\u001b[1;32m   1131\u001b[0m       return self._do_call(_run_fn, self._session, feed_dict, fetch_list,\n\u001b[0;32m-> 1132\u001b[0;31m                            target_list, options, run_metadata)\n\u001b[0m\u001b[1;32m   1133\u001b[0m     \u001b[0;32melse\u001b[0m\u001b[0;34m:\u001b[0m\u001b[0;34m\u001b[0m\u001b[0m\n\u001b[1;32m   1134\u001b[0m       return self._do_call(_prun_fn, self._session, handle, feed_dict,\n",
      "\u001b[0;32m/home/rishabh/anaconda2/lib/python2.7/site-packages/tensorflow/python/client/session.pyc\u001b[0m in \u001b[0;36m_do_call\u001b[0;34m(self, fn, *args)\u001b[0m\n\u001b[1;32m   1137\u001b[0m   \u001b[0;32mdef\u001b[0m \u001b[0m_do_call\u001b[0m\u001b[0;34m(\u001b[0m\u001b[0mself\u001b[0m\u001b[0;34m,\u001b[0m \u001b[0mfn\u001b[0m\u001b[0;34m,\u001b[0m \u001b[0;34m*\u001b[0m\u001b[0margs\u001b[0m\u001b[0;34m)\u001b[0m\u001b[0;34m:\u001b[0m\u001b[0;34m\u001b[0m\u001b[0m\n\u001b[1;32m   1138\u001b[0m     \u001b[0;32mtry\u001b[0m\u001b[0;34m:\u001b[0m\u001b[0;34m\u001b[0m\u001b[0m\n\u001b[0;32m-> 1139\u001b[0;31m       \u001b[0;32mreturn\u001b[0m \u001b[0mfn\u001b[0m\u001b[0;34m(\u001b[0m\u001b[0;34m*\u001b[0m\u001b[0margs\u001b[0m\u001b[0;34m)\u001b[0m\u001b[0;34m\u001b[0m\u001b[0m\n\u001b[0m\u001b[1;32m   1140\u001b[0m     \u001b[0;32mexcept\u001b[0m \u001b[0merrors\u001b[0m\u001b[0;34m.\u001b[0m\u001b[0mOpError\u001b[0m \u001b[0;32mas\u001b[0m \u001b[0me\u001b[0m\u001b[0;34m:\u001b[0m\u001b[0;34m\u001b[0m\u001b[0m\n\u001b[1;32m   1141\u001b[0m       \u001b[0mmessage\u001b[0m \u001b[0;34m=\u001b[0m \u001b[0mcompat\u001b[0m\u001b[0;34m.\u001b[0m\u001b[0mas_text\u001b[0m\u001b[0;34m(\u001b[0m\u001b[0me\u001b[0m\u001b[0;34m.\u001b[0m\u001b[0mmessage\u001b[0m\u001b[0;34m)\u001b[0m\u001b[0;34m\u001b[0m\u001b[0m\n",
      "\u001b[0;32m/home/rishabh/anaconda2/lib/python2.7/site-packages/tensorflow/python/client/session.pyc\u001b[0m in \u001b[0;36m_run_fn\u001b[0;34m(session, feed_dict, fetch_list, target_list, options, run_metadata)\u001b[0m\n\u001b[1;32m   1119\u001b[0m         return tf_session.TF_Run(session, options,\n\u001b[1;32m   1120\u001b[0m                                  \u001b[0mfeed_dict\u001b[0m\u001b[0;34m,\u001b[0m \u001b[0mfetch_list\u001b[0m\u001b[0;34m,\u001b[0m \u001b[0mtarget_list\u001b[0m\u001b[0;34m,\u001b[0m\u001b[0;34m\u001b[0m\u001b[0m\n\u001b[0;32m-> 1121\u001b[0;31m                                  status, run_metadata)\n\u001b[0m\u001b[1;32m   1122\u001b[0m \u001b[0;34m\u001b[0m\u001b[0m\n\u001b[1;32m   1123\u001b[0m     \u001b[0;32mdef\u001b[0m \u001b[0m_prun_fn\u001b[0m\u001b[0;34m(\u001b[0m\u001b[0msession\u001b[0m\u001b[0;34m,\u001b[0m \u001b[0mhandle\u001b[0m\u001b[0;34m,\u001b[0m \u001b[0mfeed_dict\u001b[0m\u001b[0;34m,\u001b[0m \u001b[0mfetch_list\u001b[0m\u001b[0;34m)\u001b[0m\u001b[0;34m:\u001b[0m\u001b[0;34m\u001b[0m\u001b[0m\n",
      "\u001b[0;31mKeyboardInterrupt\u001b[0m: "
     ]
    }
   ],
   "source": [
    "siamese_net.load_weights(CHECKPOINTED_WEIGHTS)\n",
    "history = siamese_net.fit_generator(\n",
    "        datagen.next_train(),\n",
    "        steps_per_epoch=STEPS_PER_EPOCH,\n",
    "        epochs=10,\n",
    "        validation_data=datagen.next_val(),\n",
    "        validation_steps=VALIDATION_STEPS,\n",
    "        callbacks = [reduce_lr, checkpointer, early_stopping])"
   ]
  },
  {
   "cell_type": "code",
   "execution_count": 31,
   "metadata": {},
   "outputs": [
    {
     "data": {
      "image/png": "[encoded data removed]",
      "text/plain": [
       "<matplotlib.figure.Figure at 0x7feb14a15d10>"
      ]
     },
     "metadata": {},
     "output_type": "display_data"
    }
   ],
   "source": [
    "plt.figure(figsize=(10,8))\n",
    "plt.plot(history.history['loss'])\n",
    "plt.plot(history.history['val_loss'])\n",
    "plt.title('model loss')\n",
    "plt.ylabel('loss')\n",
    "plt.xlabel('epoch')\n",
    "plt.legend(['train_loss', 'val_loss'], loc='upper left')\n",
    "plt.savefig('results_scores_NN_raw1.png')"
   ]
  },
  {
   "cell_type": "code",
   "execution_count": null,
   "metadata": {
    "collapsed": true
   },
   "outputs": [],
   "source": [
    "# # for i in range(2):\n",
    "#     if i == 0:\n",
    "#         print(\"Base weights:\")\n",
    "#         siamese_net.set_weights(BASE_WEIGHTS)\n",
    "#     else:\n",
    "#         print(\"Checkpointed weights:\")\n",
    "#         siamese_net.load_weights(CHECKPOINTED_WEIGHTS)\n",
    "#     val = siamese_net.evaluate_generator(\n",
    "#             datagen.next_train(),\n",
    "#             steps=STEPS_PER_EPOCH)\n",
    "#     print(\"Loss: {} Acc: {}\".format(val[0], val[1]))"
   ]
  },
  {
   "cell_type": "code",
   "execution_count": null,
   "metadata": {
    "collapsed": true
   },
   "outputs": [],
   "source": [
    "# siamese_net.set_weights(BASE_WEIGHTS)\n",
    "siamese_net.load_weights(CHECKPOINTED_WEIGHTS)\n",
    "SAVE_MODEL = \"keras_tensorflow\"\n",
    "model_to_save = siamese_net.layers[4]\n",
    "model_to_save.summary()\n",
    "model_to_save.save(SAVE_MODEL, overwrite='True')"
   ]
  },
  {
   "cell_type": "code",
   "execution_count": null,
   "metadata": {
    "collapsed": true
   },
   "outputs": [],
   "source": [
    "# model_to_save.get_weights()\n"
   ]
  },
  {
   "cell_type": "code",
   "execution_count": null,
   "metadata": {
    "collapsed": true
   },
   "outputs": [],
   "source": [
    "status = os.system(\"python keras_to_tensorflow.py keras_tensorflow\")\n",
    "if status == 0:\n",
    "    print(\"Success\")"
   ]
  }
 ],
 "metadata": {
  "kernelspec": {
   "display_name": "Python 2",
   "language": "python",
   "name": "python2"
  },
  "language_info": {
   "codemirror_mode": {
    "name": "ipython",
    "version": 2
   },
   "file_extension": ".py",
   "mimetype": "text/x-python",
   "name": "python",
   "nbconvert_exporter": "python",
   "pygments_lexer": "ipython2",
   "version": "2.7.13"
  }
 },
 "nbformat": 4,
 "nbformat_minor": 2
}
