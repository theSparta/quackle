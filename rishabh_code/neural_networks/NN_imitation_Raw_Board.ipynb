{
 "cells": [
  {
   "cell_type": "code",
   "execution_count": 1,
   "metadata": {},
   "outputs": [
    {
     "name": "stderr",
     "output_type": "stream",
     "text": [
      "Using TensorFlow backend.\n"
     ]
    }
   ],
   "source": [
    "from __future__ import division\n",
    "from keras.models import Sequential, Model\n",
    "from keras.layers import Dense, Dropout, Activation, Flatten, BatchNormalization, Input, Lambda, Reshape\n",
    "from keras.layers import Conv2D, MaxPooling2D\n",
    "from keras import backend as K\n",
    "from keras.optimizers import SGD, Nadam\n",
    "from keras import layers\n",
    "\n",
    "import numpy as np\n",
    "import matplotlib.pyplot as plt\n",
    "import tensorflow as tf\n",
    "from sklearn import preprocessing\n",
    "%matplotlib inline\n",
    "from utils import *\n",
    "import os"
   ]
  },
  {
   "cell_type": "code",
   "execution_count": 2,
   "metadata": {},
   "outputs": [],
   "source": [
    "DATA_DIR = os.path.abspath('./')\n",
    "CHECKPOINTED_WEIGHTS = os.path.join(DATA_DIR, 'checkpointed_weights.hdf5')\n",
    "INIT_WEIGHTS = os.path.join(DATA_DIR, 'init_weights_base.hdf5')\n",
    "EXPERIENCE_BUFFER_FILE = os.path.join(DATA_DIR, 'experience_buffer.p')\n",
    "INPUT_SHAPE = 11"
   ]
  },
  {
   "cell_type": "code",
   "execution_count": 3,
   "metadata": {},
   "outputs": [],
   "source": [
    "input = np.zeros((15, 15, 27*2))"
   ]
  },
  {
   "cell_type": "code",
   "execution_count": 4,
   "metadata": {},
   "outputs": [
    {
     "data": {
      "text/plain": [
       "'\\nThe input features st are processed by a residual tower that consists of a single\\nconvolutional block followed by either 19 or 39 residual blocks\\n(1) A convolution of 256 filters of kernel size 3\\xc3\\x973 with stride 1\\n(2) Batch normalization18\\n(3) A rectifier nonlinearity\\nEach residual block applies the following modules sequentially to its input:\\n(1) A convolution of 256 filters of kernel size 3\\xc3\\x973 with stride 1\\n(2) Batch normalization\\n(3) A rectifier nonlinearity\\n(4) A convolution of 256 filters of kernel size 3\\xc3\\x973 with stride 1\\n(5) Batch normalization\\n(6) A skip connection that adds the input to the block\\n(7) A rectifier nonlinearity\\nThe output of the residual tower is passed into two separate \\xe2\\x80\\x98heads\\xe2\\x80\\x99 for\\ncomputing the policy and value. The policy head applies the following modules:\\n(1) A convolution of 2 filters of kernel size 1\\xc3\\x971 with stride 1\\n(2) Batch normalization\\n(3) A rectifier nonlinearity\\n(4) A fully connected linear layer that outputs a vector of size 192+ 1= 362,\\ncorresponding to logit probabilities for all intersections and the pass move\\nThe value head applies the following modules:\\n(1) A convolution of 1 filter of kernel size 1\\xc3\\x971 with stride 1\\n(2) Batch normalization\\n(3) A rectifier nonlinearity\\n(4) A fully connected linear layer to a hidden layer of size 256\\n(5) A rectifier nonlinearity\\n(6) A fully connected linear layer to a scalar\\n(7) A tanh nonlinearity outputting a scalar in the range [\\xe2\\x88\\x921, 1]\\n'"
      ]
     },
     "execution_count": 4,
     "metadata": {},
     "output_type": "execute_result"
    }
   ],
   "source": [
    "\"\"\"\n",
    "The input features st are processed by a residual tower that consists of a single\n",
    "convolutional block followed by either 19 or 39 residual blocks\n",
    "(1) A convolution of 256 filters of kernel size 3×3 with stride 1\n",
    "(2) Batch normalization18\n",
    "(3) A rectifier nonlinearity\n",
    "Each residual block applies the following modules sequentially to its input:\n",
    "(1) A convolution of 256 filters of kernel size 3×3 with stride 1\n",
    "(2) Batch normalization\n",
    "(3) A rectifier nonlinearity\n",
    "(4) A convolution of 256 filters of kernel size 3×3 with stride 1\n",
    "(5) Batch normalization\n",
    "(6) A skip connection that adds the input to the block\n",
    "(7) A rectifier nonlinearity\n",
    "The output of the residual tower is passed into two separate ‘heads’ for\n",
    "computing the policy and value. The policy head applies the following modules:\n",
    "(1) A convolution of 2 filters of kernel size 1×1 with stride 1\n",
    "(2) Batch normalization\n",
    "(3) A rectifier nonlinearity\n",
    "(4) A fully connected linear layer that outputs a vector of size 192+ 1= 362,\n",
    "corresponding to logit probabilities for all intersections and the pass move\n",
    "The value head applies the following modules:\n",
    "(1) A convolution of 1 filter of kernel size 1×1 with stride 1\n",
    "(2) Batch normalization\n",
    "(3) A rectifier nonlinearity\n",
    "(4) A fully connected linear layer to a hidden layer of size 256\n",
    "(5) A rectifier nonlinearity\n",
    "(6) A fully connected linear layer to a scalar\n",
    "(7) A tanh nonlinearity outputting a scalar in the range [−1, 1]\n",
    "\"\"\""
   ]
  },
  {
   "cell_type": "code",
   "execution_count": 5,
   "metadata": {
    "scrolled": true
   },
   "outputs": [
    {
     "name": "stdout",
     "output_type": "stream",
     "text": [
      "____________________________________________________________________________________________________\n",
      "Layer (type)                     Output Shape          Param #     Connected to                     \n",
      "====================================================================================================\n",
      "input_1 (InputLayer)             (None, 15, 15, 54)    0                                            \n",
      "____________________________________________________________________________________________________\n",
      "conv2d_1 (Conv2D)                (None, 15, 15, 256)   124672      input_1[0][0]                    \n",
      "____________________________________________________________________________________________________\n",
      "batch_normalization_1 (BatchNorm (None, 15, 15, 256)   1024        conv2d_1[0][0]                   \n",
      "____________________________________________________________________________________________________\n",
      "activation_1 (Activation)        (None, 15, 15, 256)   0           batch_normalization_1[0][0]      \n",
      "____________________________________________________________________________________________________\n",
      "conv2d_2 (Conv2D)                (None, 15, 15, 256)   590080      activation_1[0][0]               \n",
      "____________________________________________________________________________________________________\n",
      "batch_normalization_2 (BatchNorm (None, 15, 15, 256)   1024        conv2d_2[0][0]                   \n",
      "____________________________________________________________________________________________________\n",
      "activation_2 (Activation)        (None, 15, 15, 256)   0           batch_normalization_2[0][0]      \n",
      "____________________________________________________________________________________________________\n",
      "conv2d_3 (Conv2D)                (None, 15, 15, 256)   590080      activation_2[0][0]               \n",
      "____________________________________________________________________________________________________\n",
      "batch_normalization_3 (BatchNorm (None, 15, 15, 256)   1024        conv2d_3[0][0]                   \n",
      "____________________________________________________________________________________________________\n",
      "add_1 (Add)                      (None, 15, 15, 256)   0           batch_normalization_3[0][0]      \n",
      "                                                                   activation_1[0][0]               \n",
      "____________________________________________________________________________________________________\n",
      "activation_3 (Activation)        (None, 15, 15, 256)   0           add_1[0][0]                      \n",
      "____________________________________________________________________________________________________\n",
      "conv2d_4 (Conv2D)                (None, 15, 15, 256)   590080      activation_3[0][0]               \n",
      "____________________________________________________________________________________________________\n",
      "batch_normalization_4 (BatchNorm (None, 15, 15, 256)   1024        conv2d_4[0][0]                   \n",
      "____________________________________________________________________________________________________\n",
      "activation_4 (Activation)        (None, 15, 15, 256)   0           batch_normalization_4[0][0]      \n",
      "____________________________________________________________________________________________________\n",
      "conv2d_5 (Conv2D)                (None, 15, 15, 256)   590080      activation_4[0][0]               \n",
      "____________________________________________________________________________________________________\n",
      "batch_normalization_5 (BatchNorm (None, 15, 15, 256)   1024        conv2d_5[0][0]                   \n",
      "____________________________________________________________________________________________________\n",
      "add_2 (Add)                      (None, 15, 15, 256)   0           batch_normalization_5[0][0]      \n",
      "                                                                   activation_3[0][0]               \n",
      "____________________________________________________________________________________________________\n",
      "activation_5 (Activation)        (None, 15, 15, 256)   0           add_2[0][0]                      \n",
      "____________________________________________________________________________________________________\n",
      "conv2d_6 (Conv2D)                (None, 15, 15, 256)   590080      activation_5[0][0]               \n",
      "____________________________________________________________________________________________________\n",
      "batch_normalization_6 (BatchNorm (None, 15, 15, 256)   1024        conv2d_6[0][0]                   \n",
      "____________________________________________________________________________________________________\n",
      "activation_6 (Activation)        (None, 15, 15, 256)   0           batch_normalization_6[0][0]      \n",
      "____________________________________________________________________________________________________\n",
      "conv2d_7 (Conv2D)                (None, 15, 15, 256)   590080      activation_6[0][0]               \n",
      "____________________________________________________________________________________________________\n",
      "batch_normalization_7 (BatchNorm (None, 15, 15, 256)   1024        conv2d_7[0][0]                   \n",
      "____________________________________________________________________________________________________\n",
      "add_3 (Add)                      (None, 15, 15, 256)   0           batch_normalization_7[0][0]      \n",
      "                                                                   activation_5[0][0]               \n",
      "____________________________________________________________________________________________________\n",
      "activation_7 (Activation)        (None, 15, 15, 256)   0           add_3[0][0]                      \n",
      "____________________________________________________________________________________________________\n",
      "conv2d_8 (Conv2D)                (None, 15, 15, 256)   590080      activation_7[0][0]               \n",
      "____________________________________________________________________________________________________\n",
      "batch_normalization_8 (BatchNorm (None, 15, 15, 256)   1024        conv2d_8[0][0]                   \n",
      "____________________________________________________________________________________________________\n",
      "activation_8 (Activation)        (None, 15, 15, 256)   0           batch_normalization_8[0][0]      \n",
      "____________________________________________________________________________________________________\n",
      "conv2d_9 (Conv2D)                (None, 15, 15, 256)   590080      activation_8[0][0]               \n",
      "____________________________________________________________________________________________________\n",
      "batch_normalization_9 (BatchNorm (None, 15, 15, 256)   1024        conv2d_9[0][0]                   \n",
      "____________________________________________________________________________________________________\n",
      "add_4 (Add)                      (None, 15, 15, 256)   0           batch_normalization_9[0][0]      \n",
      "                                                                   activation_7[0][0]               \n",
      "____________________________________________________________________________________________________\n",
      "activation_9 (Activation)        (None, 15, 15, 256)   0           add_4[0][0]                      \n",
      "____________________________________________________________________________________________________\n",
      "conv2d_10 (Conv2D)               (None, 15, 15, 256)   590080      activation_9[0][0]               \n",
      "____________________________________________________________________________________________________\n",
      "batch_normalization_10 (BatchNor (None, 15, 15, 256)   1024        conv2d_10[0][0]                  \n",
      "____________________________________________________________________________________________________\n",
      "activation_10 (Activation)       (None, 15, 15, 256)   0           batch_normalization_10[0][0]     \n",
      "____________________________________________________________________________________________________\n",
      "conv2d_11 (Conv2D)               (None, 15, 15, 256)   590080      activation_10[0][0]              \n",
      "____________________________________________________________________________________________________\n",
      "batch_normalization_11 (BatchNor (None, 15, 15, 256)   1024        conv2d_11[0][0]                  \n",
      "____________________________________________________________________________________________________\n",
      "add_5 (Add)                      (None, 15, 15, 256)   0           batch_normalization_11[0][0]     \n",
      "                                                                   activation_9[0][0]               \n",
      "____________________________________________________________________________________________________\n",
      "activation_11 (Activation)       (None, 15, 15, 256)   0           add_5[0][0]                      \n",
      "____________________________________________________________________________________________________\n",
      "conv2d_12 (Conv2D)               (None, 15, 15, 2)     514         activation_11[0][0]              \n",
      "____________________________________________________________________________________________________\n",
      "batch_normalization_12 (BatchNor (None, 15, 15, 2)     8           conv2d_12[0][0]                  \n",
      "____________________________________________________________________________________________________\n",
      "activation_12 (Activation)       (None, 15, 15, 2)     0           batch_normalization_12[0][0]     \n",
      "____________________________________________________________________________________________________\n",
      "flatten_1 (Flatten)              (None, 450)           0           activation_12[0][0]              \n",
      "____________________________________________________________________________________________________\n",
      "dense_1 (Dense)                  (None, 256)           115456      flatten_1[0][0]                  \n",
      "____________________________________________________________________________________________________\n",
      "dense_2 (Dense)                  (None, 1)             257         dense_1[0][0]                    \n",
      "====================================================================================================\n",
      "Total params: 6,152,971\n",
      "Trainable params: 6,147,335\n",
      "Non-trainable params: 5,636\n",
      "____________________________________________________________________________________________________\n",
      "None\n"
     ]
    }
   ],
   "source": [
    "from keras.regularizers import l2\n",
    "from keras.initializers import RandomNormal\n",
    "from keras.layers import Add\n",
    "from keras.layers.advanced_activations import LeakyReLU\n",
    "\n",
    "W_init = 'glorot_normal' #'glorot_uniform'\n",
    "b_init = 'zeros'\n",
    "W_dense_init = W_init\n",
    "\n",
    "def residual_block(input):\n",
    "    x = conv_block(input, )\n",
    "    x = Conv2D(256, (3,3), padding=\"same\")(x)\n",
    "    x = BatchNormalization()(x)\n",
    "    x = Add()([x, input])\n",
    "    x = Activation('relu')(x)\n",
    "    return x\n",
    "\n",
    "def conv_block(input, padding=\"same\"):\n",
    "    x = Conv2D(256, (3, 3), padding=padding)(input)\n",
    "    x = BatchNormalization()(x)\n",
    "    x = Activation('relu')(x)\n",
    "    return x\n",
    "\n",
    "def final_block(input):\n",
    "    x = Conv2D(2, (1,1))(input)\n",
    "    x = BatchNormalization()(x)\n",
    "    x = Activation('relu')(x)\n",
    "    x = Flatten()(x)\n",
    "    x = Dense(256, activation = 'relu')(x)\n",
    "    x = Dense(1, activation = 'linear')(x)\n",
    "    return x\n",
    "\n",
    "INPUT_SHAPE = (15, 15, 27*2)\n",
    "reg = 1e-2\n",
    "model_input = Input(shape=INPUT_SHAPE)\n",
    "x = conv_block(model_input)\n",
    "for _ in range(5):\n",
    "    x = residual_block(x)\n",
    "x = final_block(x)\n",
    "convnet = Model(inputs = model_input, outputs = x)\n",
    "print(convnet.summary())"
   ]
  },
  {
   "cell_type": "code",
   "execution_count": 8,
   "metadata": {},
   "outputs": [
    {
     "name": "stdout",
     "output_type": "stream",
     "text": [
      "____________________________________________________________________________________________________\n",
      "Layer (type)                     Output Shape          Param #     Connected to                     \n",
      "====================================================================================================\n",
      "input_4 (InputLayer)             (None, 15, 15, 54)    0                                            \n",
      "____________________________________________________________________________________________________\n",
      "input_5 (InputLayer)             (None, 15, 15, 54)    0                                            \n",
      "____________________________________________________________________________________________________\n",
      "model_1 (Model)                  (None, 1)             6152971     input_4[0][0]                    \n",
      "                                                                   input_5[0][0]                    \n",
      "____________________________________________________________________________________________________\n",
      "subtract_1 (Subtract)            (None, 1)             0           model_1[1][0]                    \n",
      "                                                                   model_1[2][0]                    \n",
      "____________________________________________________________________________________________________\n",
      "activation_13 (Activation)       (None, 1)             0           subtract_1[0][0]                 \n",
      "====================================================================================================\n",
      "Total params: 6,152,971\n",
      "Trainable params: 6,147,335\n",
      "Non-trainable params: 5,636\n",
      "____________________________________________________________________________________________________\n",
      "None\n"
     ]
    }
   ],
   "source": [
    "from keras import layers\n",
    "from keras.layers import Dense, Dropout, Activation, Flatten, BatchNormalization, merge, Input, Lambda, Reshape\n",
    "base_network = convnet\n",
    "input_a = Input(shape=INPUT_SHAPE)\n",
    "processed_a = base_network(input_a)\n",
    "input_b = Input(shape=INPUT_SHAPE)\n",
    "processed_b = base_network(input_b)\n",
    "distance = layers.Subtract()([processed_a, processed_b])\n",
    "out = Activation('sigmoid')(distance)\n",
    "siamese_net = Model([input_a, input_b], out)\n",
    "siamese_net.save_weights(INIT_WEIGHTS)\n",
    "print(siamese_net.summary())"
   ]
  },
  {
   "cell_type": "code",
   "execution_count": 6,
   "metadata": {},
   "outputs": [],
   "source": [
    "BASE_WEIGHTS = siamese_net.get_weights()\n",
    "# BASE_WEIGHTS[0][2] = 0.1\n",
    "# siamese_net.set_weights(BASE_WEIGHTS)\n",
    "# print(BASE_WEIGHTS)"
   ]
  },
  {
   "cell_type": "code",
   "execution_count": 9,
   "metadata": {},
   "outputs": [],
   "source": [
    "import cPickle as pickle\n",
    "MOVES = pickle.load(open(\"../moves_dict.p\", \"rb\"))"
   ]
  },
  {
   "cell_type": "code",
   "execution_count": 10,
   "metadata": {},
   "outputs": [],
   "source": [
    "BOARDS = pickle.load(open(\"../boards_dict.p\", \"rb\"))"
   ]
  },
  {
   "cell_type": "code",
   "execution_count": 16,
   "metadata": {},
   "outputs": [],
   "source": [
    "import convert_boards; reload(convert_boards)\n",
    "from convert_boards import convert_boards\n",
    "boards = convert_boards(BOARDS)"
   ]
  },
  {
   "cell_type": "code",
   "execution_count": 20,
   "metadata": {},
   "outputs": [],
   "source": [
    "keys = boards.keys()"
   ]
  },
  {
   "cell_type": "code",
   "execution_count": 21,
   "metadata": {},
   "outputs": [],
   "source": [
    "x1, x2 = boards[keys[0]]\n",
    "x3 = x2[0]"
   ]
  },
  {
   "cell_type": "code",
   "execution_count": 22,
   "metadata": {},
   "outputs": [
    {
     "name": "stdout",
     "output_type": "stream",
     "text": [
      "(15, 15, 27)\n",
      "(15, 15, 27)\n",
      "(15, 15, 54)\n"
     ]
    }
   ],
   "source": [
    "print(x1.shape)\n",
    "print(x3.shape)\n",
    "x4 = np.concatenate((x1,x3), axis = -1)\n",
    "print(x4.shape)"
   ]
  },
  {
   "cell_type": "code",
   "execution_count": 39,
   "metadata": {},
   "outputs": [],
   "source": [
    "scores = {k : [i[0] for i in v] for k, v in MOVES.iteritems()}"
   ]
  },
  {
   "cell_type": "code",
   "execution_count": 66,
   "metadata": {},
   "outputs": [],
   "source": [
    "from keras.callbacks import ReduceLROnPlateau, ModelCheckpoint, EarlyStopping\n",
    "reduce_lr = ReduceLROnPlateau(monitor='val_acc', factor=0.5,\n",
    "              patience=2, verbose = 1, min_lr=1e-7)\n",
    "early_stopping = EarlyStopping(monitor='val_acc',\n",
    "                              min_delta=1e-3,\n",
    "                              patience=15,\n",
    "                              verbose=0, mode='auto')\n",
    "checkpointer = ModelCheckpoint(filepath=CHECKPOINTED_WEIGHTS, verbose=1, save_best_only=True, monitor='val_acc')"
   ]
  },
  {
   "cell_type": "code",
   "execution_count": 63,
   "metadata": {
    "scrolled": true
   },
   "outputs": [
    {
     "name": "stdout",
     "output_type": "stream",
     "text": [
      "((649143, 15, 15, 54), (649143,))\n",
      "Train: 636160 Val: 12983\n"
     ]
    }
   ],
   "source": [
    "import utils_board; reload(utils_board)\n",
    "from utils_board import DataGeneratorTest\n",
    "\n",
    "# keys_small = keys[:100000]\n",
    "# board_small = {k : boards[k] for k in keys_small}\n",
    "# scores_small = {k: scores[k] for k in keys_small}\n",
    "\n",
    "BATCH_SIZE = 512\n",
    "EXPERIENCE_BUFFER_FILE = \"experience_buffer/test_scores.npz\" \n",
    "load_from_file = False #os.path.exists(EXPERIENCE_BUFFER_FILE)\n",
    "save_to_file = False\n",
    "datagen = DataGeneratorTest(boards, scores, batch_sz = BATCH_SIZE, load_from_file = load_from_file, \n",
    "                 save_to_file = save_to_file, file = EXPERIENCE_BUFFER_FILE)"
   ]
  },
  {
   "cell_type": "code",
   "execution_count": 64,
   "metadata": {},
   "outputs": [],
   "source": [
    "NUM_TRAIN = 636160\n",
    "NUM_VAL = 12983\n",
    "STEPS_PER_EPOCH = NUM_TRAIN//BATCH_SIZE\n",
    "VALIDATION_STEPS = NUM_VAL//BATCH_SIZE"
   ]
  },
  {
   "cell_type": "code",
   "execution_count": 70,
   "metadata": {},
   "outputs": [],
   "source": [
    "nadam = Nadam(lr=1e-3)\n",
    "convnet.compile(optimizer=nadam, loss='mse', metrics=['accuracy'])\n",
    "# convnet.load_weights(INIT_WEIGHTS)"
   ]
  },
  {
   "cell_type": "code",
   "execution_count": null,
   "metadata": {
    "scrolled": false
   },
   "outputs": [
    {
     "name": "stdout",
     "output_type": "stream",
     "text": [
      "Epoch 1/250\n",
      "  78/1242 [>.............................] - ETA: 13546s - loss: 259.5495 - acc: 0.0340"
     ]
    }
   ],
   "source": [
    "# siamese_net.load_weights(CHECKPOINTED_WEIGHTS)\n",
    "history = convnet.fit_generator(\n",
    "        datagen.next_train(),\n",
    "        steps_per_epoch=STEPS_PER_EPOCH,\n",
    "        epochs=250,\n",
    "        validation_data=datagen.next_val(),\n",
    "        validation_steps=VALIDATION_STEPS,\n",
    "        callbacks = [reduce_lr, checkpointer, early_stopping])"
   ]
  },
  {
   "cell_type": "code",
   "execution_count": 53,
   "metadata": {},
   "outputs": [
    {
     "data": {
      "image/png": "[encoded data removed]",
      "text/plain": [
       "<matplotlib.figure.Figure at 0x7f83a029d0d0>"
      ]
     },
     "metadata": {},
     "output_type": "display_data"
    }
   ],
   "source": [
    "f, (ax1, ax2) = plt.subplots(1, 2, sharey=True)\n",
    "f.set_figheight(8)\n",
    "f.set_figwidth(14)\n",
    "\n",
    "ax1.plot(history.history['loss'])\n",
    "ax1.plot(history.history['val_loss'])\n",
    "ax1.set_title('model loss')\n",
    "ax1.set_ylabel('loss')\n",
    "ax1.set_xlabel('epoch')\n",
    "ax1.legend(['train_loss', 'val_loss'], loc='upper left')\n",
    "\n",
    "ax2.plot(history.history['acc'])\n",
    "ax2.plot(history.history['val_acc'])\n",
    "ax2.set_title('model acc')\n",
    "ax2.set_ylabel('acc')\n",
    "ax2.set_xlabel('epoch')\n",
    "ax2.legend(['train_acc', 'val_acc'], loc='lower left')\n",
    "\n",
    "# plt.show()\n",
    "f.savefig('results_scores.png')"
   ]
  },
  {
   "cell_type": "code",
   "execution_count": 21,
   "metadata": {},
   "outputs": [
    {
     "name": "stdout",
     "output_type": "stream",
     "text": [
      "Base weights:\n",
      "Loss: 0.72213492367 Acc: 0.221307516549\n",
      "Checkpointed weights:\n",
      "Loss: 0.508487781731 Acc: 0.749232751861\n"
     ]
    }
   ],
   "source": [
    "for i in range(2):\n",
    "    if i == 0:\n",
    "        print(\"Base weights:\")\n",
    "        siamese_net.set_weights(BASE_WEIGHTS)\n",
    "    else:\n",
    "        print(\"Checkpointed weights:\")\n",
    "        siamese_net.load_weights(CHECKPOINTED_WEIGHTS)\n",
    "    val = siamese_net.evaluate_generator(\n",
    "            datagen.next_train(),\n",
    "            steps=STEPS_PER_EPOCH)\n",
    "    print(\"Loss: {} Acc: {}\".format(val[0], val[1]))"
   ]
  },
  {
   "cell_type": "code",
   "execution_count": 22,
   "metadata": {},
   "outputs": [
    {
     "name": "stdout",
     "output_type": "stream",
     "text": [
      "____________________________________________________________________________________________________\n",
      "Layer (type)                     Output Shape          Param #     Connected to                     \n",
      "====================================================================================================\n",
      "x (InputLayer)                   (None, 11)            0                                            \n",
      "____________________________________________________________________________________________________\n",
      "dense_1 (Dense)                  (None, 8)             96          x[0][0]                          \n",
      "____________________________________________________________________________________________________\n",
      "batch_normalization_1 (BatchNorm (None, 8)             32          dense_1[0][0]                    \n",
      "____________________________________________________________________________________________________\n",
      "activation_1 (Activation)        (None, 8)             0           batch_normalization_1[0][0]      \n",
      "____________________________________________________________________________________________________\n",
      "dropout_1 (Dropout)              (None, 8)             0           activation_1[0][0]               \n",
      "____________________________________________________________________________________________________\n",
      "leave_score (Dense)              (None, 1)             12          x[0][0]                          \n",
      "____________________________________________________________________________________________________\n",
      "concatenate_1 (Concatenate)      (None, 9)             0           dropout_1[0][0]                  \n",
      "                                                                   leave_score[0][0]                \n",
      "____________________________________________________________________________________________________\n",
      "dense_2 (Dense)                  (None, 1)             10          concatenate_1[0][0]              \n",
      "====================================================================================================\n",
      "Total params: 150\n",
      "Trainable params: 134\n",
      "Non-trainable params: 16\n",
      "____________________________________________________________________________________________________\n"
     ]
    }
   ],
   "source": [
    "# siamese_net.set_weights(BASE_WEIGHTS)\n",
    "siamese_net.load_weights(CHECKPOINTED_WEIGHTS)\n",
    "SAVE_MODEL = \"keras_tensorflow\"\n",
    "model_to_save = siamese_net.layers[2]\n",
    "model_to_save.summary()\n",
    "model_to_save.save(SAVE_MODEL, overwrite='True')"
   ]
  },
  {
   "cell_type": "code",
   "execution_count": 23,
   "metadata": {},
   "outputs": [
    {
     "data": {
      "text/plain": [
       "[array([[ -7.77183101e-03,  -7.80454790e-03,  -6.26714388e-03,\n",
       "           1.05741378e-02,   9.92069021e-03,   1.00576524e-02,\n",
       "           1.00338655e-02,   9.84100625e-03],\n",
       "        [ -3.08994926e-03,  -3.22992448e-03,  -3.34323151e-03,\n",
       "          -7.43953802e-04,  -1.23617181e-04,  -6.85771462e-04,\n",
       "          -1.16106495e-03,   4.50546213e-04],\n",
       "        [ -6.50702859e-05,  -3.72116192e-05,  -1.00510602e-04,\n",
       "           4.91706247e-04,   2.39021159e-04,   3.25150671e-04,\n",
       "           2.11599501e-04,   2.64863920e-04],\n",
       "        [  3.64084216e-03,   3.17690801e-03,   3.72944027e-03,\n",
       "          -2.64052255e-03,  -2.14369525e-03,  -2.05290248e-03,\n",
       "          -2.41004070e-03,  -3.28733644e-04],\n",
       "        [  5.01143339e-04,   2.51307758e-03,   1.02558802e-03,\n",
       "          -7.31383625e-04,  -2.07398625e-04,  -9.87060950e-04,\n",
       "           7.24000391e-04,  -2.46735901e-04],\n",
       "        [ -3.60509672e-04,   5.92598633e-04,   1.33060137e-04,\n",
       "           5.41063841e-04,   2.51443055e-03,   2.81472248e-03,\n",
       "           1.24730275e-03,   2.38386402e-03],\n",
       "        [  6.09066943e-03,   4.78552422e-03,   3.92192462e-03,\n",
       "          -5.11663966e-03,  -4.70469240e-03,  -5.79440268e-03,\n",
       "          -5.83471823e-03,  -6.46775169e-03],\n",
       "        [  4.94480040e-03,   4.24919883e-03,   5.34849195e-03,\n",
       "          -1.63270626e-03,  -1.03060063e-03,  -1.21415709e-03,\n",
       "          -1.76630437e-03,  -6.16876467e-04],\n",
       "        [  1.25268358e-03,   6.18262740e-04,   8.40459834e-04,\n",
       "          -8.93722870e-04,  -3.23647924e-04,  -4.94270178e-04,\n",
       "          -2.29029378e-04,   1.81113966e-04],\n",
       "        [ -2.22500204e-03,  -6.17182057e-04,  -1.32010225e-03,\n",
       "           3.58384545e-03,   3.49483336e-03,   3.10201524e-03,\n",
       "           1.84211414e-03,   3.37692699e-03],\n",
       "        [ -4.91561223e-05,   1.73730688e-04,  -2.65428062e-05,\n",
       "          -6.92643225e-04,  -1.49066141e-03,  -4.85387282e-04,\n",
       "          -1.20181288e-03,  -8.85878399e-04]], dtype=float32),\n",
       " array([ 0.11477631, -0.04603926,  0.01952974,  0.09903229,  0.08851285,\n",
       "         0.03428952,  0.03890285,  0.04388251], dtype=float32),\n",
       " array([ 2.05445385,  2.05470419,  2.04174447,  0.82982326,  0.84317511,\n",
       "         0.82705766,  0.83395851,  0.83087051], dtype=float32),\n",
       " array([-0.69163072, -0.69262892, -0.6868645 ,  0.24398804,  0.24289754,\n",
       "         0.23932554,  0.23858383,  0.24058814], dtype=float32),\n",
       " array([-0.18523601, -0.32841325, -0.24334984,  0.48261726,  0.45346248,\n",
       "         0.41306388,  0.4000493 ,  0.39613247], dtype=float32),\n",
       " array([ 0.0230977 ,  0.02122419,  0.01749499,  0.03804729,  0.03418278,\n",
       "         0.0316469 ,  0.03539398,  0.02945813], dtype=float32),\n",
       " array([[ 1.52241004],\n",
       "        [ 0.76997048],\n",
       "        [ 0.0127772 ],\n",
       "        [ 0.02219595],\n",
       "        [ 0.04551413],\n",
       "        [ 0.16031198],\n",
       "        [-0.40681913],\n",
       "        [ 0.38986382],\n",
       "        [ 0.10173739],\n",
       "        [-0.1006089 ],\n",
       "        [-0.10220176]], dtype=float32),\n",
       " array([-0.09826075], dtype=float32),\n",
       " array([[ 0.31731942],\n",
       "        [ 0.31695512],\n",
       "        [ 0.32054713],\n",
       "        [-0.41373327],\n",
       "        [-0.40444243],\n",
       "        [-0.40680808],\n",
       "        [-0.40710673],\n",
       "        [-0.41102311],\n",
       "        [ 0.25172827]], dtype=float32),\n",
       " array([ 0.], dtype=float32)]"
      ]
     },
     "execution_count": 23,
     "metadata": {},
     "output_type": "execute_result"
    }
   ],
   "source": [
    "model_to_save.get_weights()"
   ]
  },
  {
   "cell_type": "code",
   "execution_count": 24,
   "metadata": {},
   "outputs": [
    {
     "name": "stdout",
     "output_type": "stream",
     "text": [
      "Success\n"
     ]
    }
   ],
   "source": [
    "status = os.system(\"python keras_to_tensorflow.py keras_tensorflow\")\n",
    "if status == 0:\n",
    "    print(\"Success\")"
   ]
  }
 ],
 "metadata": {
  "kernelspec": {
   "display_name": "Python 2",
   "language": "python",
   "name": "python2"
  },
  "language_info": {
   "codemirror_mode": {
    "name": "ipython",
    "version": 2
   },
   "file_extension": ".py",
   "mimetype": "text/x-python",
   "name": "python",
   "nbconvert_exporter": "python",
   "pygments_lexer": "ipython2",
   "version": "2.7.12"
  }
 },
 "nbformat": 4,
 "nbformat_minor": 2
}
